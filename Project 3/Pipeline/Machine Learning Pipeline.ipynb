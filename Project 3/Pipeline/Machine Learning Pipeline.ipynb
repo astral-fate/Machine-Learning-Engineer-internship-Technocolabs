{
 "cells": [
  {
   "cell_type": "code",
   "execution_count": 3,
   "id": "1fc1418d",
   "metadata": {},
   "outputs": [],
   "source": [
    "from sklearn.compose import ColumnTransformer\n",
    "from sklearn.pipeline import Pipeline\n",
    "from sklearn.preprocessing import StandardScaler, OneHotEncoder\n",
    "from sklearn.model_selection import train_test_split\n",
    "from sklearn.ensemble import RandomForestRegressor\n",
    "from sklearn.metrics import mean_squared_error, r2_score\n",
    "\n",
    "import pandas as pd\n",
    "import numpy as np"
   ]
  },
  {
   "cell_type": "code",
   "execution_count": 4,
   "id": "086c4dfc",
   "metadata": {},
   "outputs": [],
   "source": [
    "path = 'DataMarch.csv'\n",
    "df = pd.read_csv(path)\n",
    "\n"
   ]
  },
  {
   "cell_type": "code",
   "execution_count": 124,
   "id": "a0e18d15",
   "metadata": {},
   "outputs": [],
   "source": [
    "# Split the data into training and testing sets\n",
    "X_train, X_test, y_train, y_test = train_test_split(df.drop(['EMI', 'ELA', 'ROI', 'Risk', 'Target'], axis=1), df[['EMI', 'ELA', 'ROI', 'Risk', 'Target']], test_size=0.2, random_state=42)\n",
    "\n"
   ]
  },
  {
   "cell_type": "code",
   "execution_count": 6,
   "id": "1d7e9d79",
   "metadata": {},
   "outputs": [],
   "source": [
    "# Define the preprocessing steps for the numerical and categorical features\n",
    "numerical_transformer = Pipeline(steps=[\n",
    "    ('scaler', StandardScaler())])\n",
    "\n",
    "categorical_transformer = Pipeline(steps=[\n",
    "    ('onehot', OneHotEncoder(handle_unknown='ignore'))])\n",
    "\n"
   ]
  },
  {
   "cell_type": "code",
   "execution_count": 83,
   "id": "6a6187b6",
   "metadata": {},
   "outputs": [
    {
     "data": {
      "text/plain": [
       "Index(['Age', 'Gender', 'AppliedAmount', 'Amount', 'Interest', 'LoanDuration',\n",
       "       'MonthlyPayment', 'UseOfLoan', 'Education', 'MaritalStatus',\n",
       "       'EmploymentStatus', 'WorkExperience', 'HomeOwnershipType',\n",
       "       'IncomeTotal', 'LiabilitiesTotal', 'DebtToIncome', 'FreeCash', 'Target',\n",
       "       'Status', 'PrincipalWriteOffs', 'InterestAndPenaltyWriteOffs',\n",
       "       'PrincipalDebtServicingCost', 'InterestAndPenaltyDebtServicingCost',\n",
       "       'EMI', 'Risk', 'ELA', 'ROI'],\n",
       "      dtype='object')"
      ]
     },
     "execution_count": 83,
     "metadata": {},
     "output_type": "execute_result"
    }
   ],
   "source": [
    "df.columns"
   ]
  },
  {
   "cell_type": "code",
   "execution_count": 104,
   "id": "293cda4b",
   "metadata": {},
   "outputs": [],
   "source": [
    "# Combine the preprocessing steps using ColumnTransformer\n",
    "preprocessor = ColumnTransformer(\n",
    "    transformers=[\n",
    "        ('num', numerical_transformer, ['AppliedAmount', 'Amount', 'Interest', 'LoanDuration', 'MonthlyPayment', 'IncomeTotal', 'LiabilitiesTotal']),\n",
    "        ('cat', categorical_transformer, ['Target'])\n",
    "    ])\n",
    "\n"
   ]
  },
  {
   "cell_type": "markdown",
   "id": "2314cccc",
   "metadata": {},
   "source": [
    "# Random Forest Regressor"
   ]
  },
  {
   "cell_type": "code",
   "execution_count": 105,
   "id": "af88d129",
   "metadata": {},
   "outputs": [],
   "source": [
    "# Define the regression model\n",
    "model = RandomForestRegressor(n_estimators=100, random_state=42)\n",
    "\n"
   ]
  },
  {
   "cell_type": "code",
   "execution_count": 106,
   "id": "5af4fe4e",
   "metadata": {},
   "outputs": [],
   "source": [
    "# Define the pipeline\n",
    "pipeline = Pipeline(steps=[('preprocessor', preprocessor),\n",
    "                           ('model', model)])\n",
    "\n"
   ]
  },
  {
   "cell_type": "code",
   "execution_count": 107,
   "id": "3a98414a",
   "metadata": {},
   "outputs": [
    {
     "data": {
      "text/plain": [
       "Pipeline(steps=[('preprocessor',\n",
       "                 ColumnTransformer(transformers=[('num',\n",
       "                                                  Pipeline(steps=[('scaler',\n",
       "                                                                   StandardScaler())]),\n",
       "                                                  ['AppliedAmount', 'Amount',\n",
       "                                                   'Interest', 'LoanDuration',\n",
       "                                                   'MonthlyPayment',\n",
       "                                                   'IncomeTotal',\n",
       "                                                   'LiabilitiesTotal']),\n",
       "                                                 ('cat',\n",
       "                                                  Pipeline(steps=[('onehot',\n",
       "                                                                   OneHotEncoder(handle_unknown='ignore'))]),\n",
       "                                                  ['Target'])])),\n",
       "                ('model', RandomForestRegressor(random_state=42))])"
      ]
     },
     "execution_count": 107,
     "metadata": {},
     "output_type": "execute_result"
    }
   ],
   "source": [
    "# Fit the pipeline on the training data\n",
    "pipeline.fit(X_train, y_train)\n",
    "\n",
    "\n"
   ]
  },
  {
   "cell_type": "code",
   "execution_count": 108,
   "id": "b51aaf9d",
   "metadata": {},
   "outputs": [],
   "source": [
    "# Make predictions on the testing data\n",
    "y_pred = pipeline.predict(X_test)\n",
    "\n"
   ]
  },
  {
   "cell_type": "code",
   "execution_count": 109,
   "id": "8d8e5469",
   "metadata": {},
   "outputs": [
    {
     "name": "stdout",
     "output_type": "stream",
     "text": [
      "Mean squared error: 5.964252668523056\n",
      "R-squared: 0.6325305576245034\n"
     ]
    }
   ],
   "source": [
    "# Evaluate the performance of the model using mean squared error and R-squared\n",
    "print('Mean squared error:', mean_squared_error(y_test, y_pred))\n",
    "print('R-squared:', r2_score(y_test, y_pred))"
   ]
  },
  {
   "cell_type": "markdown",
   "id": "f7dff2e7",
   "metadata": {},
   "source": [
    "# Gradient Boosting Classifier"
   ]
  },
  {
   "cell_type": "code",
   "execution_count": 110,
   "id": "8bcd7e04",
   "metadata": {},
   "outputs": [],
   "source": [
    "from sklearn.ensemble import GradientBoostingClassifier\n",
    "from sklearn.metrics import accuracy_score, mean_squared_error, r2_score\n",
    "from sklearn.model_selection import train_test_split\n",
    "from sklearn.pipeline import Pipeline\n",
    "from sklearn.preprocessing import StandardScaler\n",
    "from sklearn.ensemble import GradientBoostingRegressor\n",
    "\n"
   ]
  },
  {
   "cell_type": "markdown",
   "id": "9a091e6e",
   "metadata": {},
   "source": [
    "### Gradient Boosting Classifier for the 'ELA' variable"
   ]
  },
  {
   "cell_type": "code",
   "execution_count": 118,
   "id": "0b5d7302",
   "metadata": {},
   "outputs": [
    {
     "name": "stdout",
     "output_type": "stream",
     "text": [
      "Mean squared error: 1.4961682267051221e-05\n",
      "R-squared: 0.9098979462279443\n"
     ]
    }
   ],
   "source": [
    "# select only the 'ELA' target variable\n",
    "y_train_ela = y_train['ELA']\n",
    "y_test_ela = y_test['ELA']\n",
    "\n",
    "# create a pipeline\n",
    "model_pipeline = Pipeline([\n",
    "    ('scaler', StandardScaler()),\n",
    "    \n",
    "    ('model', GradientBoostingRegressor(random_state=0))\n",
    "])\n",
    "\n",
    "# fit the model\n",
    "model_pipeline.fit(X_train, y_train_ela)\n",
    "\n",
    "# make predictions\n",
    "y_pred_ela = model_pipeline.predict(X_test)\n",
    "\n",
    "# evaluate the model\n",
    "mse = mean_squared_error(y_test_ela, y_pred_ela)\n",
    "r2 = r2_score(y_test_ela, y_pred_ela)\n",
    "print('Mean squared error:', mse)\n",
    "print('R-squared:', r2)\n"
   ]
  },
  {
   "cell_type": "markdown",
   "id": "659301a6",
   "metadata": {},
   "source": [
    "### Gradient Boosting Classifier for the 'ROI' variable"
   ]
  },
  {
   "cell_type": "code",
   "execution_count": 119,
   "id": "6ea8bd13",
   "metadata": {},
   "outputs": [
    {
     "name": "stdout",
     "output_type": "stream",
     "text": [
      "Mean squared error: 2.1785148654781477e-05\n",
      "R-squared: 0.9915216929446455\n"
     ]
    }
   ],
   "source": [
    "# select only the 'ROI' target variable\n",
    "y_train_ela = y_train['ROI']\n",
    "y_test_ela = y_test['ROI']\n",
    "\n",
    "# create a pipeline\n",
    "model_pipeline = Pipeline([\n",
    "    ('scaler', StandardScaler()),\n",
    "    \n",
    "    ('model', GradientBoostingRegressor(random_state=0))\n",
    "])\n",
    "\n",
    "# fit the model\n",
    "model_pipeline.fit(X_train, y_train_ela)\n",
    "\n",
    "# make predictions\n",
    "y_pred_ela = model_pipeline.predict(X_test)\n",
    "\n",
    "# evaluate the model\n",
    "mse = mean_squared_error(y_test_ela, y_pred_ela)\n",
    "r2 = r2_score(y_test_ela, y_pred_ela)\n",
    "print('Mean squared error:', mse)\n",
    "print('R-squared:', r2)\n"
   ]
  },
  {
   "cell_type": "markdown",
   "id": "0940d153",
   "metadata": {},
   "source": [
    "### Gradient Boosting Classifier for the 'EMI' variable"
   ]
  },
  {
   "cell_type": "code",
   "execution_count": 120,
   "id": "203fb6db",
   "metadata": {},
   "outputs": [
    {
     "name": "stdout",
     "output_type": "stream",
     "text": [
      "Mean squared error: 59.43632475167931\n",
      "R-squared: 0.9922139990632141\n"
     ]
    }
   ],
   "source": [
    "# select only the 'EMI' target variable\n",
    "y_train_ela = y_train['EMI']\n",
    "y_test_ela = y_test['EMI']\n",
    "\n",
    "# create a pipeline\n",
    "model_pipeline = Pipeline([\n",
    "    ('scaler', StandardScaler()),\n",
    "    \n",
    "    ('model', GradientBoostingRegressor(random_state=0))\n",
    "])\n",
    "\n",
    "# fit the model\n",
    "model_pipeline.fit(X_train, y_train_ela)\n",
    "\n",
    "# make predictions\n",
    "y_pred_ela = model_pipeline.predict(X_test)\n",
    "\n",
    "# evaluate the model\n",
    "mse = mean_squared_error(y_test_ela, y_pred_ela)\n",
    "r2 = r2_score(y_test_ela, y_pred_ela)\n",
    "print('Mean squared error:', mse)\n",
    "print('R-squared:', r2)\n"
   ]
  },
  {
   "cell_type": "markdown",
   "id": "10aa8513",
   "metadata": {},
   "source": [
    "### Gradient Boosting Classifier for the 'Target' variable"
   ]
  },
  {
   "cell_type": "code",
   "execution_count": 125,
   "id": "3d6997c9",
   "metadata": {},
   "outputs": [
    {
     "name": "stdout",
     "output_type": "stream",
     "text": [
      "Mean squared error: 0.02835079415142393\n",
      "R-squared: 0.8841714688019155\n"
     ]
    }
   ],
   "source": [
    "# select only the 'Target' target variable\n",
    "y_train_ela = y_train['Target']\n",
    "y_test_ela = y_test['Target']\n",
    "\n",
    "# create a pipeline\n",
    "model_pipeline = Pipeline([\n",
    "    ('scaler', StandardScaler()),\n",
    "    \n",
    "    ('model', GradientBoostingRegressor(random_state=0))\n",
    "])\n",
    "\n",
    "# fit the model\n",
    "model_pipeline.fit(X_train, y_train_ela)\n",
    "\n",
    "# make predictions\n",
    "y_pred_ela = model_pipeline.predict(X_test)\n",
    "\n",
    "# evaluate the model\n",
    "mse = mean_squared_error(y_test_ela, y_pred_ela)\n",
    "r2 = r2_score(y_test_ela, y_pred_ela)\n",
    "print('Mean squared error:', mse)\n",
    "print('R-squared:', r2)\n"
   ]
  },
  {
   "cell_type": "markdown",
   "id": "e4a0f07d",
   "metadata": {},
   "source": [
    "# Save the model"
   ]
  },
  {
   "cell_type": "code",
   "execution_count": 131,
   "id": "44172ad8",
   "metadata": {},
   "outputs": [],
   "source": [
    "import joblib\n",
    "import pickle"
   ]
  },
  {
   "cell_type": "code",
   "execution_count": 133,
   "id": "813d4bff",
   "metadata": {},
   "outputs": [],
   "source": [
    "\n",
    "# Save the Gradient Boosting model\n",
    "with open('gb_model.pkl', 'wb') as f:\n",
    "    pickle.dump(model_pipeline, f)\n",
    "\n",
    "# Save the Random Forest model\n",
    "with open('rf_model.pkl', 'wb') as f:\n",
    "    pickle.dump(pipeline, f)\n"
   ]
  },
  {
   "cell_type": "code",
   "execution_count": null,
   "id": "a0c8e35f",
   "metadata": {},
   "outputs": [],
   "source": []
  }
 ],
 "metadata": {
  "kernelspec": {
   "display_name": "Python 3 (ipykernel)",
   "language": "python",
   "name": "python3"
  },
  "language_info": {
   "codemirror_mode": {
    "name": "ipython",
    "version": 3
   },
   "file_extension": ".py",
   "mimetype": "text/x-python",
   "name": "python",
   "nbconvert_exporter": "python",
   "pygments_lexer": "ipython3",
   "version": "3.9.13"
  }
 },
 "nbformat": 4,
 "nbformat_minor": 5
}
