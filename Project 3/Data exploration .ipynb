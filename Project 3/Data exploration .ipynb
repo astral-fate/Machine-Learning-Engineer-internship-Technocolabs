{
 "cells": [
  {
   "cell_type": "markdown",
   "id": "a713872a",
   "metadata": {},
   "source": [
    "# 1) Loading Packages and Data"
   ]
  },
  {
   "cell_type": "code",
   "execution_count": 1,
   "id": "d807d21e",
   "metadata": {},
   "outputs": [],
   "source": [
    "import pandas as pd\n",
    "import seaborn as sns\n",
    "import matplotlib.pyplot as plt\n",
    "import numpy as np\n",
    "import math\n",
    "import json\n",
    "import datetime\n",
    "from statistics import mean\n",
    "import collections\n",
    "\n",
    "from time import time\n",
    "import scipy.stats\n",
    "from sklearn.preprocessing import MinMaxScaler\n",
    "from scipy import stats\n",
    "from sklearn import preprocessing\n",
    "# for min_max scaling\n",
    "from mlxtend.preprocessing import minmax_scaling\n",
    "from sklearn.metrics import mean_squared_error\n",
    "\n",
    "\n",
    "# for Box-Cox Transformation\n",
    "from scipy import stats\n",
    "\n",
    "# for min_max scaling\n",
    "from mlxtend.preprocessing import minmax_scaling\n",
    "\n",
    "from sklearn.metrics import mean_squared_error\n",
    "\n",
    "import warnings\n",
    "warnings.filterwarnings('ignore')\n",
    "%matplotlib inline\n",
    "from sklearn.model_selection import train_test_split\n",
    "\n",
    "import matplotlib.pyplot as plt\n",
    "\n",
    "\n",
    "\n",
    "# Pandas, and NumPy: \n",
    "\n",
    "from time import time\n",
    "\n",
    "\n",
    "import datetime\n",
    "import collections\n",
    "\n",
    "import scipy.stats\n"
   ]
  },
  {
   "cell_type": "code",
   "execution_count": 6,
   "id": "f73521fc",
   "metadata": {},
   "outputs": [
    {
     "name": "stdout",
     "output_type": "stream",
     "text": [
      "Defaulting to user installation because normal site-packages is not writeable\n",
      "Collecting mlxtend\n",
      "  Using cached mlxtend-0.21.0-py2.py3-none-any.whl (1.3 MB)\n",
      "Requirement already satisfied: setuptools in c:\\programdata\\anaconda3\\lib\\site-packages (from mlxtend) (63.4.1)\n",
      "Requirement already satisfied: numpy>=1.16.2 in c:\\programdata\\anaconda3\\lib\\site-packages (from mlxtend) (1.21.5)\n",
      "Requirement already satisfied: matplotlib>=3.0.0 in c:\\programdata\\anaconda3\\lib\\site-packages (from mlxtend) (3.5.2)\n",
      "Requirement already satisfied: joblib>=0.13.2 in c:\\programdata\\anaconda3\\lib\\site-packages (from mlxtend) (1.1.0)\n",
      "Requirement already satisfied: scikit-learn>=1.0.2 in c:\\programdata\\anaconda3\\lib\\site-packages (from mlxtend) (1.0.2)\n",
      "Requirement already satisfied: pandas>=0.24.2 in c:\\programdata\\anaconda3\\lib\\site-packages (from mlxtend) (1.4.4)\n",
      "Requirement already satisfied: scipy>=1.2.1 in c:\\programdata\\anaconda3\\lib\\site-packages (from mlxtend) (1.9.1)\n",
      "Requirement already satisfied: fonttools>=4.22.0 in c:\\programdata\\anaconda3\\lib\\site-packages (from matplotlib>=3.0.0->mlxtend) (4.25.0)\n",
      "Requirement already satisfied: packaging>=20.0 in c:\\programdata\\anaconda3\\lib\\site-packages (from matplotlib>=3.0.0->mlxtend) (21.3)\n",
      "Requirement already satisfied: cycler>=0.10 in c:\\programdata\\anaconda3\\lib\\site-packages (from matplotlib>=3.0.0->mlxtend) (0.11.0)\n",
      "Requirement already satisfied: python-dateutil>=2.7 in c:\\programdata\\anaconda3\\lib\\site-packages (from matplotlib>=3.0.0->mlxtend) (2.8.2)\n",
      "Requirement already satisfied: kiwisolver>=1.0.1 in c:\\programdata\\anaconda3\\lib\\site-packages (from matplotlib>=3.0.0->mlxtend) (1.4.2)\n",
      "Requirement already satisfied: pyparsing>=2.2.1 in c:\\programdata\\anaconda3\\lib\\site-packages (from matplotlib>=3.0.0->mlxtend) (3.0.9)\n",
      "Requirement already satisfied: pillow>=6.2.0 in c:\\programdata\\anaconda3\\lib\\site-packages (from matplotlib>=3.0.0->mlxtend) (9.2.0)\n",
      "Requirement already satisfied: pytz>=2020.1 in c:\\programdata\\anaconda3\\lib\\site-packages (from pandas>=0.24.2->mlxtend) (2022.1)\n",
      "Requirement already satisfied: threadpoolctl>=2.0.0 in c:\\programdata\\anaconda3\\lib\\site-packages (from scikit-learn>=1.0.2->mlxtend) (2.2.0)\n",
      "Requirement already satisfied: six>=1.5 in c:\\programdata\\anaconda3\\lib\\site-packages (from python-dateutil>=2.7->matplotlib>=3.0.0->mlxtend) (1.16.0)\n",
      "Installing collected packages: mlxtend\n",
      "Successfully installed mlxtend-0.21.0\n",
      "Note: you may need to restart the kernel to use updated packages.\n"
     ]
    }
   ],
   "source": [
    "pip install mlxtend"
   ]
  },
  {
   "cell_type": "markdown",
   "id": "20277f6a",
   "metadata": {},
   "source": [
    "# Reading the data"
   ]
  },
  {
   "cell_type": "code",
   "execution_count": 54,
   "id": "d601683d",
   "metadata": {},
   "outputs": [],
   "source": [
    "\n",
    "# read in all our data\n",
    "data = pd.read_csv(\"Bondora_raw.csv\")\n",
    "\n"
   ]
  },
  {
   "cell_type": "markdown",
   "id": "8a1f2090",
   "metadata": {},
   "source": [
    "# 4) Data Structure and Content"
   ]
  },
  {
   "cell_type": "code",
   "execution_count": 55,
   "id": "669d9dbc",
   "metadata": {},
   "outputs": [
    {
     "data": {
      "text/html": [
       "<div>\n",
       "<style scoped>\n",
       "    .dataframe tbody tr th:only-of-type {\n",
       "        vertical-align: middle;\n",
       "    }\n",
       "\n",
       "    .dataframe tbody tr th {\n",
       "        vertical-align: top;\n",
       "    }\n",
       "\n",
       "    .dataframe thead th {\n",
       "        text-align: right;\n",
       "    }\n",
       "</style>\n",
       "<table border=\"1\" class=\"dataframe\">\n",
       "  <thead>\n",
       "    <tr style=\"text-align: right;\">\n",
       "      <th></th>\n",
       "      <th>ReportAsOfEOD</th>\n",
       "      <th>LoanId</th>\n",
       "      <th>LoanNumber</th>\n",
       "      <th>ListedOnUTC</th>\n",
       "      <th>BiddingStartedOn</th>\n",
       "      <th>BidsPortfolioManager</th>\n",
       "      <th>BidsApi</th>\n",
       "      <th>BidsManual</th>\n",
       "      <th>UserName</th>\n",
       "      <th>NewCreditCustomer</th>\n",
       "      <th>...</th>\n",
       "      <th>PreviousEarlyRepaymentsCountBeforeLoan</th>\n",
       "      <th>GracePeriodStart</th>\n",
       "      <th>GracePeriodEnd</th>\n",
       "      <th>NextPaymentDate</th>\n",
       "      <th>NextPaymentNr</th>\n",
       "      <th>NrOfScheduledPayments</th>\n",
       "      <th>ReScheduledOn</th>\n",
       "      <th>PrincipalDebtServicingCost</th>\n",
       "      <th>InterestAndPenaltyDebtServicingCost</th>\n",
       "      <th>ActiveLateLastPaymentCategory</th>\n",
       "    </tr>\n",
       "  </thead>\n",
       "  <tbody>\n",
       "    <tr>\n",
       "      <th>0</th>\n",
       "      <td>2020-01-27</td>\n",
       "      <td>F0660C80-83F3-4A97-8DA0-9C250112D6EC</td>\n",
       "      <td>659</td>\n",
       "      <td>2009-06-11 16:40:39</td>\n",
       "      <td>2009-06-11 16:40:39</td>\n",
       "      <td>0</td>\n",
       "      <td>0</td>\n",
       "      <td>115.0410</td>\n",
       "      <td>KARU</td>\n",
       "      <td>True</td>\n",
       "      <td>...</td>\n",
       "      <td>0</td>\n",
       "      <td>NaN</td>\n",
       "      <td>NaN</td>\n",
       "      <td>NaN</td>\n",
       "      <td>NaN</td>\n",
       "      <td>NaN</td>\n",
       "      <td>NaN</td>\n",
       "      <td>0.0</td>\n",
       "      <td>0.0</td>\n",
       "      <td>NaN</td>\n",
       "    </tr>\n",
       "    <tr>\n",
       "      <th>1</th>\n",
       "      <td>2020-01-27</td>\n",
       "      <td>978BB85B-1C69-4D51-8447-9C240104A3A2</td>\n",
       "      <td>654</td>\n",
       "      <td>2009-06-10 15:48:57</td>\n",
       "      <td>2009-06-10 15:48:57</td>\n",
       "      <td>0</td>\n",
       "      <td>0</td>\n",
       "      <td>140.6057</td>\n",
       "      <td>koort681</td>\n",
       "      <td>False</td>\n",
       "      <td>...</td>\n",
       "      <td>0</td>\n",
       "      <td>NaN</td>\n",
       "      <td>NaN</td>\n",
       "      <td>NaN</td>\n",
       "      <td>NaN</td>\n",
       "      <td>NaN</td>\n",
       "      <td>NaN</td>\n",
       "      <td>0.0</td>\n",
       "      <td>0.0</td>\n",
       "      <td>NaN</td>\n",
       "    </tr>\n",
       "    <tr>\n",
       "      <th>2</th>\n",
       "      <td>2020-01-27</td>\n",
       "      <td>EA44027E-7FA7-4BB2-846D-9C1F013C8A22</td>\n",
       "      <td>641</td>\n",
       "      <td>2009-06-05 19:12:29</td>\n",
       "      <td>2009-06-05 19:12:29</td>\n",
       "      <td>0</td>\n",
       "      <td>0</td>\n",
       "      <td>319.5580</td>\n",
       "      <td>0ie</td>\n",
       "      <td>True</td>\n",
       "      <td>...</td>\n",
       "      <td>0</td>\n",
       "      <td>NaN</td>\n",
       "      <td>NaN</td>\n",
       "      <td>NaN</td>\n",
       "      <td>NaN</td>\n",
       "      <td>NaN</td>\n",
       "      <td>NaN</td>\n",
       "      <td>0.0</td>\n",
       "      <td>0.0</td>\n",
       "      <td>180+</td>\n",
       "    </tr>\n",
       "    <tr>\n",
       "      <th>3</th>\n",
       "      <td>2020-01-27</td>\n",
       "      <td>CE67AD25-2951-4BEE-96BD-9C2700C61EF4</td>\n",
       "      <td>668</td>\n",
       "      <td>2009-06-13 12:01:20</td>\n",
       "      <td>2009-06-13 12:01:20</td>\n",
       "      <td>0</td>\n",
       "      <td>0</td>\n",
       "      <td>57.5205</td>\n",
       "      <td>Alyona</td>\n",
       "      <td>True</td>\n",
       "      <td>...</td>\n",
       "      <td>0</td>\n",
       "      <td>NaN</td>\n",
       "      <td>NaN</td>\n",
       "      <td>NaN</td>\n",
       "      <td>NaN</td>\n",
       "      <td>NaN</td>\n",
       "      <td>NaN</td>\n",
       "      <td>0.0</td>\n",
       "      <td>0.0</td>\n",
       "      <td>NaN</td>\n",
       "    </tr>\n",
       "    <tr>\n",
       "      <th>4</th>\n",
       "      <td>2020-01-27</td>\n",
       "      <td>9408BF8C-B159-4D6A-9D61-9C2400A986E3</td>\n",
       "      <td>652</td>\n",
       "      <td>2009-06-10 10:17:13</td>\n",
       "      <td>2009-06-10 10:17:13</td>\n",
       "      <td>0</td>\n",
       "      <td>0</td>\n",
       "      <td>319.5582</td>\n",
       "      <td>Kai</td>\n",
       "      <td>True</td>\n",
       "      <td>...</td>\n",
       "      <td>0</td>\n",
       "      <td>NaN</td>\n",
       "      <td>NaN</td>\n",
       "      <td>NaN</td>\n",
       "      <td>NaN</td>\n",
       "      <td>NaN</td>\n",
       "      <td>NaN</td>\n",
       "      <td>0.0</td>\n",
       "      <td>0.0</td>\n",
       "      <td>180+</td>\n",
       "    </tr>\n",
       "  </tbody>\n",
       "</table>\n",
       "<p>5 rows × 112 columns</p>\n",
       "</div>"
      ],
      "text/plain": [
       "  ReportAsOfEOD                                LoanId  LoanNumber  \\\n",
       "0    2020-01-27  F0660C80-83F3-4A97-8DA0-9C250112D6EC         659   \n",
       "1    2020-01-27  978BB85B-1C69-4D51-8447-9C240104A3A2         654   \n",
       "2    2020-01-27  EA44027E-7FA7-4BB2-846D-9C1F013C8A22         641   \n",
       "3    2020-01-27  CE67AD25-2951-4BEE-96BD-9C2700C61EF4         668   \n",
       "4    2020-01-27  9408BF8C-B159-4D6A-9D61-9C2400A986E3         652   \n",
       "\n",
       "           ListedOnUTC     BiddingStartedOn  BidsPortfolioManager  BidsApi  \\\n",
       "0  2009-06-11 16:40:39  2009-06-11 16:40:39                     0        0   \n",
       "1  2009-06-10 15:48:57  2009-06-10 15:48:57                     0        0   \n",
       "2  2009-06-05 19:12:29  2009-06-05 19:12:29                     0        0   \n",
       "3  2009-06-13 12:01:20  2009-06-13 12:01:20                     0        0   \n",
       "4  2009-06-10 10:17:13  2009-06-10 10:17:13                     0        0   \n",
       "\n",
       "   BidsManual  UserName  NewCreditCustomer  ...  \\\n",
       "0    115.0410      KARU               True  ...   \n",
       "1    140.6057  koort681              False  ...   \n",
       "2    319.5580       0ie               True  ...   \n",
       "3     57.5205    Alyona               True  ...   \n",
       "4    319.5582       Kai               True  ...   \n",
       "\n",
       "  PreviousEarlyRepaymentsCountBeforeLoan GracePeriodStart GracePeriodEnd  \\\n",
       "0                                      0              NaN            NaN   \n",
       "1                                      0              NaN            NaN   \n",
       "2                                      0              NaN            NaN   \n",
       "3                                      0              NaN            NaN   \n",
       "4                                      0              NaN            NaN   \n",
       "\n",
       "  NextPaymentDate NextPaymentNr NrOfScheduledPayments  ReScheduledOn  \\\n",
       "0             NaN           NaN                   NaN            NaN   \n",
       "1             NaN           NaN                   NaN            NaN   \n",
       "2             NaN           NaN                   NaN            NaN   \n",
       "3             NaN           NaN                   NaN            NaN   \n",
       "4             NaN           NaN                   NaN            NaN   \n",
       "\n",
       "   PrincipalDebtServicingCost  InterestAndPenaltyDebtServicingCost  \\\n",
       "0                         0.0                                  0.0   \n",
       "1                         0.0                                  0.0   \n",
       "2                         0.0                                  0.0   \n",
       "3                         0.0                                  0.0   \n",
       "4                         0.0                                  0.0   \n",
       "\n",
       "   ActiveLateLastPaymentCategory  \n",
       "0                            NaN  \n",
       "1                            NaN  \n",
       "2                           180+  \n",
       "3                            NaN  \n",
       "4                           180+  \n",
       "\n",
       "[5 rows x 112 columns]"
      ]
     },
     "execution_count": 55,
     "metadata": {},
     "output_type": "execute_result"
    }
   ],
   "source": [
    "data.head()"
   ]
  },
  {
   "cell_type": "code",
   "execution_count": 56,
   "id": "f3b4ffa5",
   "metadata": {},
   "outputs": [
    {
     "name": "stdout",
     "output_type": "stream",
     "text": [
      "<class 'pandas.core.frame.DataFrame'>\n",
      "RangeIndex: 134529 entries, 0 to 134528\n",
      "Columns: 112 entries, ReportAsOfEOD to ActiveLateLastPaymentCategory\n",
      "dtypes: bool(3), float64(56), int64(14), object(39)\n",
      "memory usage: 112.3+ MB\n"
     ]
    }
   ],
   "source": [
    "data.info()"
   ]
  },
  {
   "cell_type": "code",
   "execution_count": 57,
   "id": "c65ea943",
   "metadata": {},
   "outputs": [
    {
     "data": {
      "text/plain": [
       "Index(['ReportAsOfEOD', 'LoanId', 'LoanNumber', 'ListedOnUTC',\n",
       "       'BiddingStartedOn', 'BidsPortfolioManager', 'BidsApi', 'BidsManual',\n",
       "       'UserName', 'NewCreditCustomer',\n",
       "       ...\n",
       "       'PreviousEarlyRepaymentsCountBeforeLoan', 'GracePeriodStart',\n",
       "       'GracePeriodEnd', 'NextPaymentDate', 'NextPaymentNr',\n",
       "       'NrOfScheduledPayments', 'ReScheduledOn', 'PrincipalDebtServicingCost',\n",
       "       'InterestAndPenaltyDebtServicingCost', 'ActiveLateLastPaymentCategory'],\n",
       "      dtype='object', length=112)"
      ]
     },
     "execution_count": 57,
     "metadata": {},
     "output_type": "execute_result"
    }
   ],
   "source": [
    "data.columns"
   ]
  },
  {
   "cell_type": "code",
   "execution_count": 58,
   "id": "b5c17467",
   "metadata": {},
   "outputs": [
    {
     "data": {
      "text/html": [
       "<div>\n",
       "<style scoped>\n",
       "    .dataframe tbody tr th:only-of-type {\n",
       "        vertical-align: middle;\n",
       "    }\n",
       "\n",
       "    .dataframe tbody tr th {\n",
       "        vertical-align: top;\n",
       "    }\n",
       "\n",
       "    .dataframe thead th {\n",
       "        text-align: right;\n",
       "    }\n",
       "</style>\n",
       "<table border=\"1\" class=\"dataframe\">\n",
       "  <thead>\n",
       "    <tr style=\"text-align: right;\">\n",
       "      <th></th>\n",
       "      <th>LoanNumber</th>\n",
       "      <th>BidsPortfolioManager</th>\n",
       "      <th>BidsApi</th>\n",
       "      <th>BidsManual</th>\n",
       "      <th>ApplicationSignedHour</th>\n",
       "      <th>ApplicationSignedWeekday</th>\n",
       "      <th>VerificationType</th>\n",
       "      <th>LanguageCode</th>\n",
       "      <th>Age</th>\n",
       "      <th>Gender</th>\n",
       "      <th>...</th>\n",
       "      <th>InterestAndPenaltyBalance</th>\n",
       "      <th>NoOfPreviousLoansBeforeLoan</th>\n",
       "      <th>AmountOfPreviousLoansBeforeLoan</th>\n",
       "      <th>PreviousRepaymentsBeforeLoan</th>\n",
       "      <th>PreviousEarlyRepaymentsBefoleLoan</th>\n",
       "      <th>PreviousEarlyRepaymentsCountBeforeLoan</th>\n",
       "      <th>NextPaymentNr</th>\n",
       "      <th>NrOfScheduledPayments</th>\n",
       "      <th>PrincipalDebtServicingCost</th>\n",
       "      <th>InterestAndPenaltyDebtServicingCost</th>\n",
       "    </tr>\n",
       "  </thead>\n",
       "  <tbody>\n",
       "    <tr>\n",
       "      <th>count</th>\n",
       "      <td>1.345290e+05</td>\n",
       "      <td>134529.000000</td>\n",
       "      <td>134529.000000</td>\n",
       "      <td>134529.000000</td>\n",
       "      <td>134529.000000</td>\n",
       "      <td>134529.000000</td>\n",
       "      <td>134484.000000</td>\n",
       "      <td>134529.000000</td>\n",
       "      <td>134529.000000</td>\n",
       "      <td>134484.000000</td>\n",
       "      <td>...</td>\n",
       "      <td>134529.000000</td>\n",
       "      <td>134529.000000</td>\n",
       "      <td>134529.000000</td>\n",
       "      <td>91368.000000</td>\n",
       "      <td>58026.000000</td>\n",
       "      <td>134529.000000</td>\n",
       "      <td>97788.000000</td>\n",
       "      <td>97788.000000</td>\n",
       "      <td>59129.000000</td>\n",
       "      <td>59129.000000</td>\n",
       "    </tr>\n",
       "    <tr>\n",
       "      <th>mean</th>\n",
       "      <td>9.449392e+05</td>\n",
       "      <td>966.452876</td>\n",
       "      <td>29.111664</td>\n",
       "      <td>559.332590</td>\n",
       "      <td>13.374640</td>\n",
       "      <td>3.907908</td>\n",
       "      <td>2.817257</td>\n",
       "      <td>2.827874</td>\n",
       "      <td>40.819295</td>\n",
       "      <td>0.442097</td>\n",
       "      <td>...</td>\n",
       "      <td>701.567107</td>\n",
       "      <td>1.487620</td>\n",
       "      <td>2868.652401</td>\n",
       "      <td>928.395548</td>\n",
       "      <td>320.743805</td>\n",
       "      <td>0.069903</td>\n",
       "      <td>5.178795</td>\n",
       "      <td>50.126795</td>\n",
       "      <td>5.264702</td>\n",
       "      <td>89.851455</td>\n",
       "    </tr>\n",
       "    <tr>\n",
       "      <th>std</th>\n",
       "      <td>4.786738e+05</td>\n",
       "      <td>1355.686016</td>\n",
       "      <td>150.159148</td>\n",
       "      <td>750.360512</td>\n",
       "      <td>4.992375</td>\n",
       "      <td>1.726192</td>\n",
       "      <td>1.407908</td>\n",
       "      <td>1.959802</td>\n",
       "      <td>12.348693</td>\n",
       "      <td>0.636083</td>\n",
       "      <td>...</td>\n",
       "      <td>2514.595572</td>\n",
       "      <td>2.396148</td>\n",
       "      <td>4507.046575</td>\n",
       "      <td>2042.348751</td>\n",
       "      <td>1561.799076</td>\n",
       "      <td>0.359461</td>\n",
       "      <td>7.674427</td>\n",
       "      <td>12.519530</td>\n",
       "      <td>57.800582</td>\n",
       "      <td>287.449052</td>\n",
       "    </tr>\n",
       "    <tr>\n",
       "      <th>min</th>\n",
       "      <td>3.700000e+01</td>\n",
       "      <td>0.000000</td>\n",
       "      <td>0.000000</td>\n",
       "      <td>0.000000</td>\n",
       "      <td>0.000000</td>\n",
       "      <td>1.000000</td>\n",
       "      <td>0.000000</td>\n",
       "      <td>1.000000</td>\n",
       "      <td>0.000000</td>\n",
       "      <td>0.000000</td>\n",
       "      <td>...</td>\n",
       "      <td>-2.660000</td>\n",
       "      <td>0.000000</td>\n",
       "      <td>0.000000</td>\n",
       "      <td>0.000000</td>\n",
       "      <td>0.000000</td>\n",
       "      <td>0.000000</td>\n",
       "      <td>0.000000</td>\n",
       "      <td>1.000000</td>\n",
       "      <td>0.000000</td>\n",
       "      <td>0.000000</td>\n",
       "    </tr>\n",
       "    <tr>\n",
       "      <th>25%</th>\n",
       "      <td>6.206790e+05</td>\n",
       "      <td>155.000000</td>\n",
       "      <td>0.000000</td>\n",
       "      <td>96.000000</td>\n",
       "      <td>10.000000</td>\n",
       "      <td>2.000000</td>\n",
       "      <td>1.000000</td>\n",
       "      <td>1.000000</td>\n",
       "      <td>31.000000</td>\n",
       "      <td>0.000000</td>\n",
       "      <td>...</td>\n",
       "      <td>0.000000</td>\n",
       "      <td>0.000000</td>\n",
       "      <td>0.000000</td>\n",
       "      <td>0.000000</td>\n",
       "      <td>0.000000</td>\n",
       "      <td>0.000000</td>\n",
       "      <td>0.000000</td>\n",
       "      <td>36.000000</td>\n",
       "      <td>0.000000</td>\n",
       "      <td>0.000000</td>\n",
       "    </tr>\n",
       "    <tr>\n",
       "      <th>50%</th>\n",
       "      <td>9.235970e+05</td>\n",
       "      <td>465.000000</td>\n",
       "      <td>0.000000</td>\n",
       "      <td>317.000000</td>\n",
       "      <td>13.000000</td>\n",
       "      <td>4.000000</td>\n",
       "      <td>4.000000</td>\n",
       "      <td>3.000000</td>\n",
       "      <td>40.000000</td>\n",
       "      <td>0.000000</td>\n",
       "      <td>...</td>\n",
       "      <td>0.000000</td>\n",
       "      <td>1.000000</td>\n",
       "      <td>396.354100</td>\n",
       "      <td>197.980000</td>\n",
       "      <td>0.000000</td>\n",
       "      <td>0.000000</td>\n",
       "      <td>3.000000</td>\n",
       "      <td>60.000000</td>\n",
       "      <td>0.000000</td>\n",
       "      <td>0.000000</td>\n",
       "    </tr>\n",
       "    <tr>\n",
       "      <th>75%</th>\n",
       "      <td>1.311025e+06</td>\n",
       "      <td>1218.000000</td>\n",
       "      <td>5.000000</td>\n",
       "      <td>729.000000</td>\n",
       "      <td>17.000000</td>\n",
       "      <td>5.000000</td>\n",
       "      <td>4.000000</td>\n",
       "      <td>4.000000</td>\n",
       "      <td>50.000000</td>\n",
       "      <td>1.000000</td>\n",
       "      <td>...</td>\n",
       "      <td>202.900000</td>\n",
       "      <td>2.000000</td>\n",
       "      <td>4250.000000</td>\n",
       "      <td>780.950000</td>\n",
       "      <td>0.000000</td>\n",
       "      <td>0.000000</td>\n",
       "      <td>7.000000</td>\n",
       "      <td>60.000000</td>\n",
       "      <td>0.000000</td>\n",
       "      <td>17.330000</td>\n",
       "    </tr>\n",
       "    <tr>\n",
       "      <th>max</th>\n",
       "      <td>1.855339e+06</td>\n",
       "      <td>10625.000000</td>\n",
       "      <td>7570.000000</td>\n",
       "      <td>10630.000000</td>\n",
       "      <td>23.000000</td>\n",
       "      <td>7.000000</td>\n",
       "      <td>4.000000</td>\n",
       "      <td>22.000000</td>\n",
       "      <td>77.000000</td>\n",
       "      <td>2.000000</td>\n",
       "      <td>...</td>\n",
       "      <td>64494.770000</td>\n",
       "      <td>25.000000</td>\n",
       "      <td>53762.000000</td>\n",
       "      <td>34077.420000</td>\n",
       "      <td>48100.000000</td>\n",
       "      <td>11.000000</td>\n",
       "      <td>60.000000</td>\n",
       "      <td>72.000000</td>\n",
       "      <td>3325.330000</td>\n",
       "      <td>5295.290000</td>\n",
       "    </tr>\n",
       "  </tbody>\n",
       "</table>\n",
       "<p>8 rows × 70 columns</p>\n",
       "</div>"
      ],
      "text/plain": [
       "         LoanNumber  BidsPortfolioManager        BidsApi     BidsManual  \\\n",
       "count  1.345290e+05         134529.000000  134529.000000  134529.000000   \n",
       "mean   9.449392e+05            966.452876      29.111664     559.332590   \n",
       "std    4.786738e+05           1355.686016     150.159148     750.360512   \n",
       "min    3.700000e+01              0.000000       0.000000       0.000000   \n",
       "25%    6.206790e+05            155.000000       0.000000      96.000000   \n",
       "50%    9.235970e+05            465.000000       0.000000     317.000000   \n",
       "75%    1.311025e+06           1218.000000       5.000000     729.000000   \n",
       "max    1.855339e+06          10625.000000    7570.000000   10630.000000   \n",
       "\n",
       "       ApplicationSignedHour  ApplicationSignedWeekday  VerificationType  \\\n",
       "count          134529.000000             134529.000000     134484.000000   \n",
       "mean               13.374640                  3.907908          2.817257   \n",
       "std                 4.992375                  1.726192          1.407908   \n",
       "min                 0.000000                  1.000000          0.000000   \n",
       "25%                10.000000                  2.000000          1.000000   \n",
       "50%                13.000000                  4.000000          4.000000   \n",
       "75%                17.000000                  5.000000          4.000000   \n",
       "max                23.000000                  7.000000          4.000000   \n",
       "\n",
       "        LanguageCode            Age         Gender  ...  \\\n",
       "count  134529.000000  134529.000000  134484.000000  ...   \n",
       "mean        2.827874      40.819295       0.442097  ...   \n",
       "std         1.959802      12.348693       0.636083  ...   \n",
       "min         1.000000       0.000000       0.000000  ...   \n",
       "25%         1.000000      31.000000       0.000000  ...   \n",
       "50%         3.000000      40.000000       0.000000  ...   \n",
       "75%         4.000000      50.000000       1.000000  ...   \n",
       "max        22.000000      77.000000       2.000000  ...   \n",
       "\n",
       "       InterestAndPenaltyBalance  NoOfPreviousLoansBeforeLoan  \\\n",
       "count              134529.000000                134529.000000   \n",
       "mean                  701.567107                     1.487620   \n",
       "std                  2514.595572                     2.396148   \n",
       "min                    -2.660000                     0.000000   \n",
       "25%                     0.000000                     0.000000   \n",
       "50%                     0.000000                     1.000000   \n",
       "75%                   202.900000                     2.000000   \n",
       "max                 64494.770000                    25.000000   \n",
       "\n",
       "       AmountOfPreviousLoansBeforeLoan  PreviousRepaymentsBeforeLoan  \\\n",
       "count                    134529.000000                  91368.000000   \n",
       "mean                       2868.652401                    928.395548   \n",
       "std                        4507.046575                   2042.348751   \n",
       "min                           0.000000                      0.000000   \n",
       "25%                           0.000000                      0.000000   \n",
       "50%                         396.354100                    197.980000   \n",
       "75%                        4250.000000                    780.950000   \n",
       "max                       53762.000000                  34077.420000   \n",
       "\n",
       "       PreviousEarlyRepaymentsBefoleLoan  \\\n",
       "count                       58026.000000   \n",
       "mean                          320.743805   \n",
       "std                          1561.799076   \n",
       "min                             0.000000   \n",
       "25%                             0.000000   \n",
       "50%                             0.000000   \n",
       "75%                             0.000000   \n",
       "max                         48100.000000   \n",
       "\n",
       "       PreviousEarlyRepaymentsCountBeforeLoan  NextPaymentNr  \\\n",
       "count                           134529.000000   97788.000000   \n",
       "mean                                 0.069903       5.178795   \n",
       "std                                  0.359461       7.674427   \n",
       "min                                  0.000000       0.000000   \n",
       "25%                                  0.000000       0.000000   \n",
       "50%                                  0.000000       3.000000   \n",
       "75%                                  0.000000       7.000000   \n",
       "max                                 11.000000      60.000000   \n",
       "\n",
       "       NrOfScheduledPayments  PrincipalDebtServicingCost  \\\n",
       "count           97788.000000                59129.000000   \n",
       "mean               50.126795                    5.264702   \n",
       "std                12.519530                   57.800582   \n",
       "min                 1.000000                    0.000000   \n",
       "25%                36.000000                    0.000000   \n",
       "50%                60.000000                    0.000000   \n",
       "75%                60.000000                    0.000000   \n",
       "max                72.000000                 3325.330000   \n",
       "\n",
       "       InterestAndPenaltyDebtServicingCost  \n",
       "count                         59129.000000  \n",
       "mean                             89.851455  \n",
       "std                             287.449052  \n",
       "min                               0.000000  \n",
       "25%                               0.000000  \n",
       "50%                               0.000000  \n",
       "75%                              17.330000  \n",
       "max                            5295.290000  \n",
       "\n",
       "[8 rows x 70 columns]"
      ]
     },
     "execution_count": 58,
     "metadata": {},
     "output_type": "execute_result"
    }
   ],
   "source": [
    "data.describe()"
   ]
  },
  {
   "cell_type": "code",
   "execution_count": 59,
   "id": "4afd40ab",
   "metadata": {},
   "outputs": [
    {
     "data": {
      "text/plain": [
       "0.00        66647\n",
       "530.00       2897\n",
       "2125.00      2542\n",
       "4250.00      2311\n",
       "1060.00      1913\n",
       "            ...  \n",
       "23832.00        1\n",
       "1974.00         1\n",
       "14835.00        1\n",
       "16925.00        1\n",
       "1266.94         1\n",
       "Name: AmountOfPreviousLoansBeforeLoan, Length: 12005, dtype: int64"
      ]
     },
     "execution_count": 59,
     "metadata": {},
     "output_type": "execute_result"
    }
   ],
   "source": [
    "data['AmountOfPreviousLoansBeforeLoan'].value_counts()"
   ]
  },
  {
   "cell_type": "code",
   "execution_count": 60,
   "id": "2421bc03",
   "metadata": {},
   "outputs": [
    {
     "data": {
      "text/plain": [
       "34    4083\n",
       "29    3985\n",
       "37    3959\n",
       "31    3959\n",
       "35    3958\n",
       "      ... \n",
       "77       3\n",
       "1        2\n",
       "71       2\n",
       "76       1\n",
       "74       1\n",
       "Name: Age, Length: 62, dtype: int64"
      ]
     },
     "execution_count": 60,
     "metadata": {},
     "output_type": "execute_result"
    }
   ],
   "source": [
    "data['Age'].value_counts()\n"
   ]
  },
  {
   "cell_type": "code",
   "execution_count": 61,
   "id": "97ebbf2d",
   "metadata": {},
   "outputs": [
    {
     "data": {
      "text/plain": [
       "40.819295467891685"
      ]
     },
     "execution_count": 61,
     "metadata": {},
     "output_type": "execute_result"
    }
   ],
   "source": [
    "data['Age'].mean()"
   ]
  },
  {
   "cell_type": "code",
   "execution_count": 62,
   "id": "138bf116",
   "metadata": {},
   "outputs": [
    {
     "data": {
      "text/plain": [
       "Current    57135\n",
       "Late       45772\n",
       "Repaid     31622\n",
       "Name: Status, dtype: int64"
      ]
     },
     "execution_count": 62,
     "metadata": {},
     "output_type": "execute_result"
    }
   ],
   "source": [
    "data['Status'].value_counts()"
   ]
  },
  {
   "cell_type": "code",
   "execution_count": 63,
   "id": "9f81a622",
   "metadata": {},
   "outputs": [
    {
     "data": {
      "text/plain": [
       "<AxesSubplot:xlabel='Status', ylabel='count'>"
      ]
     },
     "execution_count": 63,
     "metadata": {},
     "output_type": "execute_result"
    },
    {
     "data": {
      "image/png": "[encoded data removed]",
      "text/plain": [
       "<Figure size 640x480 with 1 Axes>"
      ]
     },
     "metadata": {},
     "output_type": "display_data"
    }
   ],
   "source": [
    "sns.countplot(data.Status)"
   ]
  },
  {
   "cell_type": "code",
   "execution_count": 64,
   "id": "41abe0ef",
   "metadata": {},
   "outputs": [
    {
     "data": {
      "text/plain": [
       "EE    77335\n",
       "FI    32650\n",
       "ES    24248\n",
       "SK      296\n",
       "Name: Country, dtype: int64"
      ]
     },
     "execution_count": 64,
     "metadata": {},
     "output_type": "execute_result"
    }
   ],
   "source": [
    "data['Country'].value_counts()"
   ]
  },
  {
   "cell_type": "code",
   "execution_count": 65,
   "id": "2ccd5c9c",
   "metadata": {},
   "outputs": [
    {
     "data": {
      "text/plain": [
       "<AxesSubplot:xlabel='Country', ylabel='count'>"
      ]
     },
     "execution_count": 65,
     "metadata": {},
     "output_type": "execute_result"
    },
    {
     "data": {
      "image/png": "[encoded data removed]",
      "text/plain": [
       "<Figure size 640x480 with 1 Axes>"
      ]
     },
     "metadata": {},
     "output_type": "display_data"
    }
   ],
   "source": [
    "sns.countplot(data.Country)"
   ]
  },
  {
   "cell_type": "code",
   "execution_count": 66,
   "id": "5ebefca2",
   "metadata": {},
   "outputs": [
    {
     "data": {
      "text/plain": [
       "Tallinn                       15604\n",
       "TALLINN                        6146\n",
       "Tartu linn                     3326\n",
       "HELSINKI                       3294\n",
       "Pärnu linn                     1986\n",
       "                              ...  \n",
       "KOSE VALD, ARDU                   1\n",
       "KALAMAJA                          1\n",
       "LLERENA                           1\n",
       "SALME VALD, TEHUMARDI KÜLA        1\n",
       "VEĽKÉ DRŽKOVCE                    1\n",
       "Name: City, Length: 7733, dtype: int64"
      ]
     },
     "execution_count": 66,
     "metadata": {},
     "output_type": "execute_result"
    }
   ],
   "source": [
    "data['City'].value_counts()"
   ]
  },
  {
   "cell_type": "markdown",
   "id": "135f7612",
   "metadata": {},
   "source": [
    "# 5) Exploratory Data Analysis\n",
    "Find the normality, and consistency of the data"
   ]
  },
  {
   "cell_type": "code",
   "execution_count": 67,
   "id": "09ac4ad7",
   "metadata": {},
   "outputs": [
    {
     "data": {
      "text/plain": [
       " 4.0    51330\n",
       " 5.0    35398\n",
       " 3.0    29260\n",
       " 1.0    12057\n",
       " 2.0     6427\n",
       " 0.0        8\n",
       "-1.0        4\n",
       "Name: Education, dtype: int64"
      ]
     },
     "execution_count": 67,
     "metadata": {},
     "output_type": "execute_result"
    }
   ],
   "source": [
    "data['Education'].value_counts()"
   ]
  },
  {
   "cell_type": "code",
   "execution_count": 68,
   "id": "b7788bfc",
   "metadata": {},
   "outputs": [
    {
     "data": {
      "text/plain": [
       "<AxesSubplot:xlabel='Education', ylabel='count'>"
      ]
     },
     "execution_count": 68,
     "metadata": {},
     "output_type": "execute_result"
    },
    {
     "data": {
      "image/png": "[encoded data removed]",
      "text/plain": [
       "<Figure size 640x480 with 1 Axes>"
      ]
     },
     "metadata": {},
     "output_type": "display_data"
    }
   ],
   "source": [
    "sns.countplot(data.Education)"
   ]
  },
  {
   "cell_type": "markdown",
   "id": "4355ebf4",
   "metadata": {},
   "source": [
    "# Data cleaning"
   ]
  },
  {
   "cell_type": "code",
   "execution_count": 69,
   "id": "d649fa8b",
   "metadata": {},
   "outputs": [],
   "source": [
    "modifed_data = data.copy()\n",
    "#modifedData = data.copy()\n",
    "\n"
   ]
  },
  {
   "cell_type": "code",
   "execution_count": 18,
   "id": "641c3369",
   "metadata": {},
   "outputs": [
    {
     "data": {
      "text/html": [
       "<div>\n",
       "<style scoped>\n",
       "    .dataframe tbody tr th:only-of-type {\n",
       "        vertical-align: middle;\n",
       "    }\n",
       "\n",
       "    .dataframe tbody tr th {\n",
       "        vertical-align: top;\n",
       "    }\n",
       "\n",
       "    .dataframe thead th {\n",
       "        text-align: right;\n",
       "    }\n",
       "</style>\n",
       "<table border=\"1\" class=\"dataframe\">\n",
       "  <thead>\n",
       "    <tr style=\"text-align: right;\">\n",
       "      <th></th>\n",
       "      <th>ReportAsOfEOD</th>\n",
       "      <th>LoanId</th>\n",
       "      <th>LoanNumber</th>\n",
       "      <th>ListedOnUTC</th>\n",
       "      <th>BiddingStartedOn</th>\n",
       "      <th>BidsPortfolioManager</th>\n",
       "      <th>BidsApi</th>\n",
       "      <th>BidsManual</th>\n",
       "      <th>UserName</th>\n",
       "      <th>NewCreditCustomer</th>\n",
       "      <th>...</th>\n",
       "      <th>PreviousEarlyRepaymentsCountBeforeLoan</th>\n",
       "      <th>GracePeriodStart</th>\n",
       "      <th>GracePeriodEnd</th>\n",
       "      <th>NextPaymentDate</th>\n",
       "      <th>NextPaymentNr</th>\n",
       "      <th>NrOfScheduledPayments</th>\n",
       "      <th>ReScheduledOn</th>\n",
       "      <th>PrincipalDebtServicingCost</th>\n",
       "      <th>InterestAndPenaltyDebtServicingCost</th>\n",
       "      <th>ActiveLateLastPaymentCategory</th>\n",
       "    </tr>\n",
       "  </thead>\n",
       "  <tbody>\n",
       "    <tr>\n",
       "      <th>0</th>\n",
       "      <td>2020-01-27</td>\n",
       "      <td>F0660C80-83F3-4A97-8DA0-9C250112D6EC</td>\n",
       "      <td>659</td>\n",
       "      <td>2009-06-11 16:40:39</td>\n",
       "      <td>2009-06-11 16:40:39</td>\n",
       "      <td>0</td>\n",
       "      <td>0</td>\n",
       "      <td>115.0410</td>\n",
       "      <td>KARU</td>\n",
       "      <td>True</td>\n",
       "      <td>...</td>\n",
       "      <td>0</td>\n",
       "      <td>NaN</td>\n",
       "      <td>NaN</td>\n",
       "      <td>NaN</td>\n",
       "      <td>NaN</td>\n",
       "      <td>NaN</td>\n",
       "      <td>NaN</td>\n",
       "      <td>0.0</td>\n",
       "      <td>0.00</td>\n",
       "      <td>NaN</td>\n",
       "    </tr>\n",
       "    <tr>\n",
       "      <th>1</th>\n",
       "      <td>2020-01-27</td>\n",
       "      <td>978BB85B-1C69-4D51-8447-9C240104A3A2</td>\n",
       "      <td>654</td>\n",
       "      <td>2009-06-10 15:48:57</td>\n",
       "      <td>2009-06-10 15:48:57</td>\n",
       "      <td>0</td>\n",
       "      <td>0</td>\n",
       "      <td>140.6057</td>\n",
       "      <td>koort681</td>\n",
       "      <td>False</td>\n",
       "      <td>...</td>\n",
       "      <td>0</td>\n",
       "      <td>NaN</td>\n",
       "      <td>NaN</td>\n",
       "      <td>NaN</td>\n",
       "      <td>NaN</td>\n",
       "      <td>NaN</td>\n",
       "      <td>NaN</td>\n",
       "      <td>0.0</td>\n",
       "      <td>0.00</td>\n",
       "      <td>NaN</td>\n",
       "    </tr>\n",
       "    <tr>\n",
       "      <th>2</th>\n",
       "      <td>2020-01-27</td>\n",
       "      <td>EA44027E-7FA7-4BB2-846D-9C1F013C8A22</td>\n",
       "      <td>641</td>\n",
       "      <td>2009-06-05 19:12:29</td>\n",
       "      <td>2009-06-05 19:12:29</td>\n",
       "      <td>0</td>\n",
       "      <td>0</td>\n",
       "      <td>319.5580</td>\n",
       "      <td>0ie</td>\n",
       "      <td>True</td>\n",
       "      <td>...</td>\n",
       "      <td>0</td>\n",
       "      <td>NaN</td>\n",
       "      <td>NaN</td>\n",
       "      <td>NaN</td>\n",
       "      <td>NaN</td>\n",
       "      <td>NaN</td>\n",
       "      <td>NaN</td>\n",
       "      <td>0.0</td>\n",
       "      <td>0.00</td>\n",
       "      <td>180+</td>\n",
       "    </tr>\n",
       "    <tr>\n",
       "      <th>3</th>\n",
       "      <td>2020-01-27</td>\n",
       "      <td>CE67AD25-2951-4BEE-96BD-9C2700C61EF4</td>\n",
       "      <td>668</td>\n",
       "      <td>2009-06-13 12:01:20</td>\n",
       "      <td>2009-06-13 12:01:20</td>\n",
       "      <td>0</td>\n",
       "      <td>0</td>\n",
       "      <td>57.5205</td>\n",
       "      <td>Alyona</td>\n",
       "      <td>True</td>\n",
       "      <td>...</td>\n",
       "      <td>0</td>\n",
       "      <td>NaN</td>\n",
       "      <td>NaN</td>\n",
       "      <td>NaN</td>\n",
       "      <td>NaN</td>\n",
       "      <td>NaN</td>\n",
       "      <td>NaN</td>\n",
       "      <td>0.0</td>\n",
       "      <td>0.00</td>\n",
       "      <td>NaN</td>\n",
       "    </tr>\n",
       "    <tr>\n",
       "      <th>4</th>\n",
       "      <td>2020-01-27</td>\n",
       "      <td>9408BF8C-B159-4D6A-9D61-9C2400A986E3</td>\n",
       "      <td>652</td>\n",
       "      <td>2009-06-10 10:17:13</td>\n",
       "      <td>2009-06-10 10:17:13</td>\n",
       "      <td>0</td>\n",
       "      <td>0</td>\n",
       "      <td>319.5582</td>\n",
       "      <td>Kai</td>\n",
       "      <td>True</td>\n",
       "      <td>...</td>\n",
       "      <td>0</td>\n",
       "      <td>NaN</td>\n",
       "      <td>NaN</td>\n",
       "      <td>NaN</td>\n",
       "      <td>NaN</td>\n",
       "      <td>NaN</td>\n",
       "      <td>NaN</td>\n",
       "      <td>0.0</td>\n",
       "      <td>0.00</td>\n",
       "      <td>180+</td>\n",
       "    </tr>\n",
       "    <tr>\n",
       "      <th>...</th>\n",
       "      <td>...</td>\n",
       "      <td>...</td>\n",
       "      <td>...</td>\n",
       "      <td>...</td>\n",
       "      <td>...</td>\n",
       "      <td>...</td>\n",
       "      <td>...</td>\n",
       "      <td>...</td>\n",
       "      <td>...</td>\n",
       "      <td>...</td>\n",
       "      <td>...</td>\n",
       "      <td>...</td>\n",
       "      <td>...</td>\n",
       "      <td>...</td>\n",
       "      <td>...</td>\n",
       "      <td>...</td>\n",
       "      <td>...</td>\n",
       "      <td>...</td>\n",
       "      <td>...</td>\n",
       "      <td>...</td>\n",
       "      <td>...</td>\n",
       "    </tr>\n",
       "    <tr>\n",
       "      <th>134524</th>\n",
       "      <td>2020-01-27</td>\n",
       "      <td>A9C9EF0F-4E79-4930-BA8A-A4130077FCC2</td>\n",
       "      <td>283484</td>\n",
       "      <td>2015-01-02 16:31:36</td>\n",
       "      <td>2015-01-02 16:31:36</td>\n",
       "      <td>2515</td>\n",
       "      <td>0</td>\n",
       "      <td>485.0000</td>\n",
       "      <td>BO73K5A6A</td>\n",
       "      <td>True</td>\n",
       "      <td>...</td>\n",
       "      <td>0</td>\n",
       "      <td>NaN</td>\n",
       "      <td>NaN</td>\n",
       "      <td>NaN</td>\n",
       "      <td>NaN</td>\n",
       "      <td>NaN</td>\n",
       "      <td>NaN</td>\n",
       "      <td>0.0</td>\n",
       "      <td>1040.06</td>\n",
       "      <td>180+</td>\n",
       "    </tr>\n",
       "    <tr>\n",
       "      <th>134525</th>\n",
       "      <td>2020-01-27</td>\n",
       "      <td>787345C2-7606-4F72-8FE2-A4170082D77C</td>\n",
       "      <td>285168</td>\n",
       "      <td>2015-01-05 16:14:26</td>\n",
       "      <td>2015-01-05 16:14:26</td>\n",
       "      <td>1880</td>\n",
       "      <td>0</td>\n",
       "      <td>1120.0000</td>\n",
       "      <td>BO311A49</td>\n",
       "      <td>False</td>\n",
       "      <td>...</td>\n",
       "      <td>0</td>\n",
       "      <td>2017-06-27</td>\n",
       "      <td>2018-06-20</td>\n",
       "      <td>NaN</td>\n",
       "      <td>NaN</td>\n",
       "      <td>NaN</td>\n",
       "      <td>NaN</td>\n",
       "      <td>0.0</td>\n",
       "      <td>0.00</td>\n",
       "      <td>NaN</td>\n",
       "    </tr>\n",
       "    <tr>\n",
       "      <th>134526</th>\n",
       "      <td>2020-01-27</td>\n",
       "      <td>E2D3384D-289A-4B4D-A2DA-A40F00F7C755</td>\n",
       "      <td>281602</td>\n",
       "      <td>2015-01-02 14:04:27</td>\n",
       "      <td>2015-01-02 14:04:27</td>\n",
       "      <td>1975</td>\n",
       "      <td>0</td>\n",
       "      <td>525.0000</td>\n",
       "      <td>BO41K639A</td>\n",
       "      <td>True</td>\n",
       "      <td>...</td>\n",
       "      <td>0</td>\n",
       "      <td>NaN</td>\n",
       "      <td>NaN</td>\n",
       "      <td>NaN</td>\n",
       "      <td>0.0</td>\n",
       "      <td>60.0</td>\n",
       "      <td>NaN</td>\n",
       "      <td>0.0</td>\n",
       "      <td>1051.85</td>\n",
       "      <td>8-15</td>\n",
       "    </tr>\n",
       "    <tr>\n",
       "      <th>134527</th>\n",
       "      <td>2020-01-27</td>\n",
       "      <td>7CC7AB74-995B-4467-958A-A41700F78D59</td>\n",
       "      <td>285431</td>\n",
       "      <td>2015-01-05 16:56:12</td>\n",
       "      <td>2015-01-05 16:56:12</td>\n",
       "      <td>1840</td>\n",
       "      <td>0</td>\n",
       "      <td>1160.0000</td>\n",
       "      <td>BO45A925</td>\n",
       "      <td>False</td>\n",
       "      <td>...</td>\n",
       "      <td>0</td>\n",
       "      <td>2016-04-01</td>\n",
       "      <td>2016-10-03</td>\n",
       "      <td>NaN</td>\n",
       "      <td>NaN</td>\n",
       "      <td>NaN</td>\n",
       "      <td>NaN</td>\n",
       "      <td>0.0</td>\n",
       "      <td>889.50</td>\n",
       "      <td>31-60</td>\n",
       "    </tr>\n",
       "    <tr>\n",
       "      <th>134528</th>\n",
       "      <td>2020-01-27</td>\n",
       "      <td>3A0DEBF3-292C-4EB4-B71A-A4170157749D</td>\n",
       "      <td>285630</td>\n",
       "      <td>2015-01-06 11:07:06</td>\n",
       "      <td>2015-01-06 11:07:06</td>\n",
       "      <td>2990</td>\n",
       "      <td>0</td>\n",
       "      <td>10.0000</td>\n",
       "      <td>BO152923A</td>\n",
       "      <td>False</td>\n",
       "      <td>...</td>\n",
       "      <td>0</td>\n",
       "      <td>2015-09-14</td>\n",
       "      <td>2016-03-14</td>\n",
       "      <td>NaN</td>\n",
       "      <td>0.0</td>\n",
       "      <td>60.0</td>\n",
       "      <td>2015-09-09</td>\n",
       "      <td>0.0</td>\n",
       "      <td>604.80</td>\n",
       "      <td>91-120</td>\n",
       "    </tr>\n",
       "  </tbody>\n",
       "</table>\n",
       "<p>134529 rows × 112 columns</p>\n",
       "</div>"
      ],
      "text/plain": [
       "       ReportAsOfEOD                                LoanId  LoanNumber  \\\n",
       "0         2020-01-27  F0660C80-83F3-4A97-8DA0-9C250112D6EC         659   \n",
       "1         2020-01-27  978BB85B-1C69-4D51-8447-9C240104A3A2         654   \n",
       "2         2020-01-27  EA44027E-7FA7-4BB2-846D-9C1F013C8A22         641   \n",
       "3         2020-01-27  CE67AD25-2951-4BEE-96BD-9C2700C61EF4         668   \n",
       "4         2020-01-27  9408BF8C-B159-4D6A-9D61-9C2400A986E3         652   \n",
       "...              ...                                   ...         ...   \n",
       "134524    2020-01-27  A9C9EF0F-4E79-4930-BA8A-A4130077FCC2      283484   \n",
       "134525    2020-01-27  787345C2-7606-4F72-8FE2-A4170082D77C      285168   \n",
       "134526    2020-01-27  E2D3384D-289A-4B4D-A2DA-A40F00F7C755      281602   \n",
       "134527    2020-01-27  7CC7AB74-995B-4467-958A-A41700F78D59      285431   \n",
       "134528    2020-01-27  3A0DEBF3-292C-4EB4-B71A-A4170157749D      285630   \n",
       "\n",
       "                ListedOnUTC     BiddingStartedOn  BidsPortfolioManager  \\\n",
       "0       2009-06-11 16:40:39  2009-06-11 16:40:39                     0   \n",
       "1       2009-06-10 15:48:57  2009-06-10 15:48:57                     0   \n",
       "2       2009-06-05 19:12:29  2009-06-05 19:12:29                     0   \n",
       "3       2009-06-13 12:01:20  2009-06-13 12:01:20                     0   \n",
       "4       2009-06-10 10:17:13  2009-06-10 10:17:13                     0   \n",
       "...                     ...                  ...                   ...   \n",
       "134524  2015-01-02 16:31:36  2015-01-02 16:31:36                  2515   \n",
       "134525  2015-01-05 16:14:26  2015-01-05 16:14:26                  1880   \n",
       "134526  2015-01-02 14:04:27  2015-01-02 14:04:27                  1975   \n",
       "134527  2015-01-05 16:56:12  2015-01-05 16:56:12                  1840   \n",
       "134528  2015-01-06 11:07:06  2015-01-06 11:07:06                  2990   \n",
       "\n",
       "        BidsApi  BidsManual   UserName  NewCreditCustomer  ...  \\\n",
       "0             0    115.0410       KARU               True  ...   \n",
       "1             0    140.6057   koort681              False  ...   \n",
       "2             0    319.5580        0ie               True  ...   \n",
       "3             0     57.5205     Alyona               True  ...   \n",
       "4             0    319.5582        Kai               True  ...   \n",
       "...         ...         ...        ...                ...  ...   \n",
       "134524        0    485.0000  BO73K5A6A               True  ...   \n",
       "134525        0   1120.0000   BO311A49              False  ...   \n",
       "134526        0    525.0000  BO41K639A               True  ...   \n",
       "134527        0   1160.0000   BO45A925              False  ...   \n",
       "134528        0     10.0000  BO152923A              False  ...   \n",
       "\n",
       "       PreviousEarlyRepaymentsCountBeforeLoan GracePeriodStart GracePeriodEnd  \\\n",
       "0                                           0              NaN            NaN   \n",
       "1                                           0              NaN            NaN   \n",
       "2                                           0              NaN            NaN   \n",
       "3                                           0              NaN            NaN   \n",
       "4                                           0              NaN            NaN   \n",
       "...                                       ...              ...            ...   \n",
       "134524                                      0              NaN            NaN   \n",
       "134525                                      0       2017-06-27     2018-06-20   \n",
       "134526                                      0              NaN            NaN   \n",
       "134527                                      0       2016-04-01     2016-10-03   \n",
       "134528                                      0       2015-09-14     2016-03-14   \n",
       "\n",
       "       NextPaymentDate NextPaymentNr NrOfScheduledPayments  ReScheduledOn  \\\n",
       "0                  NaN           NaN                   NaN            NaN   \n",
       "1                  NaN           NaN                   NaN            NaN   \n",
       "2                  NaN           NaN                   NaN            NaN   \n",
       "3                  NaN           NaN                   NaN            NaN   \n",
       "4                  NaN           NaN                   NaN            NaN   \n",
       "...                ...           ...                   ...            ...   \n",
       "134524             NaN           NaN                   NaN            NaN   \n",
       "134525             NaN           NaN                   NaN            NaN   \n",
       "134526             NaN           0.0                  60.0            NaN   \n",
       "134527             NaN           NaN                   NaN            NaN   \n",
       "134528             NaN           0.0                  60.0     2015-09-09   \n",
       "\n",
       "        PrincipalDebtServicingCost  InterestAndPenaltyDebtServicingCost  \\\n",
       "0                              0.0                                 0.00   \n",
       "1                              0.0                                 0.00   \n",
       "2                              0.0                                 0.00   \n",
       "3                              0.0                                 0.00   \n",
       "4                              0.0                                 0.00   \n",
       "...                            ...                                  ...   \n",
       "134524                         0.0                              1040.06   \n",
       "134525                         0.0                                 0.00   \n",
       "134526                         0.0                              1051.85   \n",
       "134527                         0.0                               889.50   \n",
       "134528                         0.0                               604.80   \n",
       "\n",
       "        ActiveLateLastPaymentCategory  \n",
       "0                                 NaN  \n",
       "1                                 NaN  \n",
       "2                                180+  \n",
       "3                                 NaN  \n",
       "4                                180+  \n",
       "...                               ...  \n",
       "134524                           180+  \n",
       "134525                            NaN  \n",
       "134526                           8-15  \n",
       "134527                          31-60  \n",
       "134528                         91-120  \n",
       "\n",
       "[134529 rows x 112 columns]"
      ]
     },
     "execution_count": 18,
     "metadata": {},
     "output_type": "execute_result"
    }
   ],
   "source": [
    "modifed_data"
   ]
  },
  {
   "cell_type": "code",
   "execution_count": 70,
   "id": "e4f68c59",
   "metadata": {},
   "outputs": [
    {
     "name": "stdout",
     "output_type": "stream",
     "text": [
      "111\n"
     ]
    }
   ],
   "source": [
    "\n",
    "drop_cols=['BidsApi', 'BidsPortfolioManager', 'BidsPortfolioManager', 'BidsManual',\n",
    "           'CurrentDebtDaysPrimary', 'CurrentDebtDaysPrimary', 'PrincipalOverdueBySchedule', \n",
    "           'PrincipalOverdueBySchedule', 'PrincipalOverdueBySchedule', 'IncomeFromPrincipalEmployer',\n",
    "           'IncomeFromPension', 'EAD1', 'EAD2', 'IncomeFromFamilyAllowance', 'IncomeFromSocialWelfare',\n",
    "           'IncomeFromLeavePay', 'IncomeFromChildSupport', 'IncomeOther', 'ReportAsOfEOD', 'LoanId','LoanNumber',\n",
    "           'ListedOnUTC','DateOfBirth','BiddingStartedOn','UserName','LoanApplicationStartedDate','FirstPaymentDate',\n",
    "           'LoanApplicationStartedDate','ApplicationSignedHour', 'ApplicationSignedWeekday',\n",
    "           'ActiveScheduleFirstPaymentReached','ModelVersion','WorseLateCategory','PlannedPrincipalTillDate',\n",
    "         'ProbabilityOfDefault', 'ExpectedLoss', 'LossGivenDefault', 'ExpectedReturn', 'GracePeriodStart', 'GracePeriodEnd',\n",
    "           'NextPaymentDate', 'NextPaymentNr', 'PreviousEarlyRepaymentsBefoleLoan', 'PreviousRepaymentsBeforeLoan',\n",
    "           \"NrOfScheduledPayments\",\"ReScheduledOn\",\"PrincipalDebtServicingCost\",\"InterestAndPenaltyDebtServicingCost\",\n",
    "           \"ActiveLateLastPaymentCategory\", 'PlannedInterestTillDate', 'CurrentDebtDaysSecondary',\n",
    "           'PlannedPrincipalPostDefault', 'PlannedInterestPostDefault', 'PrincipalRecovery',\n",
    "           'InterestRecovery', 'RecoveryStage', 'EL_V0', 'EL_V0', 'NrOfDependants', 'Rating_V0', 'CreditScoreEsEquifaxRisk', \n",
    "          'CreditScoreFiAsiakasTietoRiskGrade', 'GracePeriodStart','GracePeriodEnd', 'CreditScoreEeMini', 'PrincipalPaymentsMade',\n",
    "           'MonthlyPaymentDay','LastPaymentOn', 'DebtOccuredOn', 'DebtOccuredOnForSecondary', 'DefaultDate', 'StageActiveSince', 'EL_V1', \n",
    "           'Rating_V1', 'Rating_V2', 'ActiveLateCategory','CreditScoreEsMicroL', 'NewCreditCustomer','LoanDate',\n",
    "           'NewCreditCustomer','LoanDate','ContractEndDate','MaturityDate_Original','MaturityDate_Last', 'ContractEndDate', 'MaturityDate_Original', 'MaturityDate_Last'\n",
    "                                  , 'Restructured', 'InterestAndPenaltyPaymentsMade', \n",
    "                                  'PrincipalWriteOffs', 'InterestAndPenaltyWriteOffs', \n",
    "                                  'PrincipalBalance', 'InterestAndPenaltyBalance',  \n",
    "                                  'NoOfPreviousLoansBeforeLoan', 'AmountOfPreviousLoansBeforeLoan', \n",
    "                                  'PreviousEarlyRepaymentsCountBeforeLoan', 'VerificationType', 'LanguageCode',\n",
    "                                   'LoanDuration', 'OccupationArea', 'ExistingLiabilities', 'LiabilitiesTotal',\n",
    "                                   'RefinanceLiabilities', 'EmploymentDurationCurrentEmployer', 'County', 'City', 'Country', 'AppliedAmount', 'Rating', 'EmploymentPosition', 'FreeCash']\n",
    "print(len(drop_cols))\n",
    "modifed_data.drop(drop_cols,axis=1,inplace=True)\n",
    "\n",
    "\n",
    "\n"
   ]
  },
  {
   "cell_type": "code",
   "execution_count": 71,
   "id": "4eefc662",
   "metadata": {
    "scrolled": true
   },
   "outputs": [
    {
     "name": "stdout",
     "output_type": "stream",
     "text": [
      "Age                      0\n",
      "Gender                  45\n",
      "Amount                   0\n",
      "Interest                 0\n",
      "MonthlyPayment        6685\n",
      "UseOfLoan                0\n",
      "Education               45\n",
      "MaritalStatus           45\n",
      "EmploymentStatus       197\n",
      "WorkExperience       98007\n",
      "HomeOwnershipType     1652\n",
      "IncomeTotal              0\n",
      "DebtToIncome            45\n",
      "Status                   0\n",
      "dtype: int64\n"
     ]
    }
   ],
   "source": [
    "print(modifed_data.isnull().sum())\n",
    "\n",
    "# drop rows with null values\n",
    "modifed_data.dropna(inplace=True)"
   ]
  },
  {
   "cell_type": "code",
   "execution_count": 72,
   "id": "9133ae63",
   "metadata": {},
   "outputs": [
    {
     "name": "stdout",
     "output_type": "stream",
     "text": [
      "7\n"
     ]
    }
   ],
   "source": [
    "print(modifed_data.duplicated().sum())\n",
    "\n",
    "# drop duplicated rows\n",
    "modifed_data.drop_duplicates(inplace=True)"
   ]
  },
  {
   "cell_type": "code",
   "execution_count": 73,
   "id": "b5948097",
   "metadata": {},
   "outputs": [
    {
     "data": {
      "text/html": [
       "<div>\n",
       "<style scoped>\n",
       "    .dataframe tbody tr th:only-of-type {\n",
       "        vertical-align: middle;\n",
       "    }\n",
       "\n",
       "    .dataframe tbody tr th {\n",
       "        vertical-align: top;\n",
       "    }\n",
       "\n",
       "    .dataframe thead th {\n",
       "        text-align: right;\n",
       "    }\n",
       "</style>\n",
       "<table border=\"1\" class=\"dataframe\">\n",
       "  <thead>\n",
       "    <tr style=\"text-align: right;\">\n",
       "      <th></th>\n",
       "      <th>Age</th>\n",
       "      <th>Gender</th>\n",
       "      <th>Amount</th>\n",
       "      <th>Interest</th>\n",
       "      <th>MonthlyPayment</th>\n",
       "      <th>UseOfLoan</th>\n",
       "      <th>Education</th>\n",
       "      <th>MaritalStatus</th>\n",
       "      <th>EmploymentStatus</th>\n",
       "      <th>WorkExperience</th>\n",
       "      <th>HomeOwnershipType</th>\n",
       "      <th>IncomeTotal</th>\n",
       "      <th>DebtToIncome</th>\n",
       "      <th>Status</th>\n",
       "    </tr>\n",
       "  </thead>\n",
       "  <tbody>\n",
       "    <tr>\n",
       "      <th>14</th>\n",
       "      <td>20</td>\n",
       "      <td>0.0</td>\n",
       "      <td>319.56</td>\n",
       "      <td>40.00</td>\n",
       "      <td>0.00</td>\n",
       "      <td>3</td>\n",
       "      <td>3.0</td>\n",
       "      <td>3.0</td>\n",
       "      <td>3.0</td>\n",
       "      <td>2To5Years</td>\n",
       "      <td>0.0</td>\n",
       "      <td>26500.0</td>\n",
       "      <td>0.00</td>\n",
       "      <td>Late</td>\n",
       "    </tr>\n",
       "    <tr>\n",
       "      <th>40</th>\n",
       "      <td>49</td>\n",
       "      <td>1.0</td>\n",
       "      <td>319.56</td>\n",
       "      <td>30.00</td>\n",
       "      <td>0.00</td>\n",
       "      <td>7</td>\n",
       "      <td>2.0</td>\n",
       "      <td>4.0</td>\n",
       "      <td>3.0</td>\n",
       "      <td>MoreThan25Years</td>\n",
       "      <td>0.0</td>\n",
       "      <td>6200.0</td>\n",
       "      <td>0.00</td>\n",
       "      <td>Late</td>\n",
       "    </tr>\n",
       "    <tr>\n",
       "      <th>51</th>\n",
       "      <td>19</td>\n",
       "      <td>0.0</td>\n",
       "      <td>70.30</td>\n",
       "      <td>49.00</td>\n",
       "      <td>0.00</td>\n",
       "      <td>8</td>\n",
       "      <td>2.0</td>\n",
       "      <td>2.0</td>\n",
       "      <td>3.0</td>\n",
       "      <td>2To5Years</td>\n",
       "      <td>0.0</td>\n",
       "      <td>12000.0</td>\n",
       "      <td>0.00</td>\n",
       "      <td>Late</td>\n",
       "    </tr>\n",
       "    <tr>\n",
       "      <th>74</th>\n",
       "      <td>18</td>\n",
       "      <td>0.0</td>\n",
       "      <td>6.39</td>\n",
       "      <td>49.00</td>\n",
       "      <td>0.00</td>\n",
       "      <td>7</td>\n",
       "      <td>2.0</td>\n",
       "      <td>2.0</td>\n",
       "      <td>3.0</td>\n",
       "      <td>2To5Years</td>\n",
       "      <td>0.0</td>\n",
       "      <td>11175.0</td>\n",
       "      <td>0.00</td>\n",
       "      <td>Late</td>\n",
       "    </tr>\n",
       "    <tr>\n",
       "      <th>93</th>\n",
       "      <td>41</td>\n",
       "      <td>0.0</td>\n",
       "      <td>191.75</td>\n",
       "      <td>30.00</td>\n",
       "      <td>0.00</td>\n",
       "      <td>2</td>\n",
       "      <td>5.0</td>\n",
       "      <td>1.0</td>\n",
       "      <td>3.0</td>\n",
       "      <td>15To25Years</td>\n",
       "      <td>0.0</td>\n",
       "      <td>22000.0</td>\n",
       "      <td>0.00</td>\n",
       "      <td>Late</td>\n",
       "    </tr>\n",
       "    <tr>\n",
       "      <th>...</th>\n",
       "      <td>...</td>\n",
       "      <td>...</td>\n",
       "      <td>...</td>\n",
       "      <td>...</td>\n",
       "      <td>...</td>\n",
       "      <td>...</td>\n",
       "      <td>...</td>\n",
       "      <td>...</td>\n",
       "      <td>...</td>\n",
       "      <td>...</td>\n",
       "      <td>...</td>\n",
       "      <td>...</td>\n",
       "      <td>...</td>\n",
       "      <td>...</td>\n",
       "    </tr>\n",
       "    <tr>\n",
       "      <th>134524</th>\n",
       "      <td>37</td>\n",
       "      <td>0.0</td>\n",
       "      <td>3000.00</td>\n",
       "      <td>31.01</td>\n",
       "      <td>107.68</td>\n",
       "      <td>0</td>\n",
       "      <td>3.0</td>\n",
       "      <td>3.0</td>\n",
       "      <td>3.0</td>\n",
       "      <td>15To25Years</td>\n",
       "      <td>5.0</td>\n",
       "      <td>1400.0</td>\n",
       "      <td>7.69</td>\n",
       "      <td>Repaid</td>\n",
       "    </tr>\n",
       "    <tr>\n",
       "      <th>134525</th>\n",
       "      <td>35</td>\n",
       "      <td>0.0</td>\n",
       "      <td>3000.00</td>\n",
       "      <td>18.25</td>\n",
       "      <td>85.33</td>\n",
       "      <td>2</td>\n",
       "      <td>3.0</td>\n",
       "      <td>3.0</td>\n",
       "      <td>3.0</td>\n",
       "      <td>15To25Years</td>\n",
       "      <td>1.0</td>\n",
       "      <td>2265.0</td>\n",
       "      <td>31.58</td>\n",
       "      <td>Repaid</td>\n",
       "    </tr>\n",
       "    <tr>\n",
       "      <th>134526</th>\n",
       "      <td>40</td>\n",
       "      <td>0.0</td>\n",
       "      <td>2500.00</td>\n",
       "      <td>24.83</td>\n",
       "      <td>80.42</td>\n",
       "      <td>0</td>\n",
       "      <td>3.0</td>\n",
       "      <td>1.0</td>\n",
       "      <td>5.0</td>\n",
       "      <td>5To10Years</td>\n",
       "      <td>1.0</td>\n",
       "      <td>2500.0</td>\n",
       "      <td>3.22</td>\n",
       "      <td>Late</td>\n",
       "    </tr>\n",
       "    <tr>\n",
       "      <th>134527</th>\n",
       "      <td>47</td>\n",
       "      <td>1.0</td>\n",
       "      <td>3000.00</td>\n",
       "      <td>17.74</td>\n",
       "      <td>84.51</td>\n",
       "      <td>7</td>\n",
       "      <td>5.0</td>\n",
       "      <td>1.0</td>\n",
       "      <td>3.0</td>\n",
       "      <td>MoreThan25Years</td>\n",
       "      <td>4.0</td>\n",
       "      <td>540.0</td>\n",
       "      <td>44.35</td>\n",
       "      <td>Repaid</td>\n",
       "    </tr>\n",
       "    <tr>\n",
       "      <th>134528</th>\n",
       "      <td>21</td>\n",
       "      <td>1.0</td>\n",
       "      <td>3000.00</td>\n",
       "      <td>30.50</td>\n",
       "      <td>106.74</td>\n",
       "      <td>0</td>\n",
       "      <td>4.0</td>\n",
       "      <td>3.0</td>\n",
       "      <td>3.0</td>\n",
       "      <td>2To5Years</td>\n",
       "      <td>2.0</td>\n",
       "      <td>500.0</td>\n",
       "      <td>35.03</td>\n",
       "      <td>Late</td>\n",
       "    </tr>\n",
       "  </tbody>\n",
       "</table>\n",
       "<p>29877 rows × 14 columns</p>\n",
       "</div>"
      ],
      "text/plain": [
       "        Age  Gender   Amount  Interest  MonthlyPayment  UseOfLoan  Education  \\\n",
       "14       20     0.0   319.56     40.00            0.00          3        3.0   \n",
       "40       49     1.0   319.56     30.00            0.00          7        2.0   \n",
       "51       19     0.0    70.30     49.00            0.00          8        2.0   \n",
       "74       18     0.0     6.39     49.00            0.00          7        2.0   \n",
       "93       41     0.0   191.75     30.00            0.00          2        5.0   \n",
       "...     ...     ...      ...       ...             ...        ...        ...   \n",
       "134524   37     0.0  3000.00     31.01          107.68          0        3.0   \n",
       "134525   35     0.0  3000.00     18.25           85.33          2        3.0   \n",
       "134526   40     0.0  2500.00     24.83           80.42          0        3.0   \n",
       "134527   47     1.0  3000.00     17.74           84.51          7        5.0   \n",
       "134528   21     1.0  3000.00     30.50          106.74          0        4.0   \n",
       "\n",
       "        MaritalStatus  EmploymentStatus   WorkExperience  HomeOwnershipType  \\\n",
       "14                3.0               3.0        2To5Years                0.0   \n",
       "40                4.0               3.0  MoreThan25Years                0.0   \n",
       "51                2.0               3.0        2To5Years                0.0   \n",
       "74                2.0               3.0        2To5Years                0.0   \n",
       "93                1.0               3.0      15To25Years                0.0   \n",
       "...               ...               ...              ...                ...   \n",
       "134524            3.0               3.0      15To25Years                5.0   \n",
       "134525            3.0               3.0      15To25Years                1.0   \n",
       "134526            1.0               5.0       5To10Years                1.0   \n",
       "134527            1.0               3.0  MoreThan25Years                4.0   \n",
       "134528            3.0               3.0        2To5Years                2.0   \n",
       "\n",
       "        IncomeTotal  DebtToIncome  Status  \n",
       "14          26500.0          0.00    Late  \n",
       "40           6200.0          0.00    Late  \n",
       "51          12000.0          0.00    Late  \n",
       "74          11175.0          0.00    Late  \n",
       "93          22000.0          0.00    Late  \n",
       "...             ...           ...     ...  \n",
       "134524       1400.0          7.69  Repaid  \n",
       "134525       2265.0         31.58  Repaid  \n",
       "134526       2500.0          3.22    Late  \n",
       "134527        540.0         44.35  Repaid  \n",
       "134528        500.0         35.03    Late  \n",
       "\n",
       "[29877 rows x 14 columns]"
      ]
     },
     "execution_count": 73,
     "metadata": {},
     "output_type": "execute_result"
    }
   ],
   "source": [
    "modifed_data"
   ]
  },
  {
   "cell_type": "markdown",
   "id": "5c72b9af",
   "metadata": {},
   "source": [
    "# Encode the numerical data to nominal data"
   ]
  },
  {
   "cell_type": "code",
   "execution_count": 23,
   "id": "15cc097b",
   "metadata": {},
   "outputs": [],
   "source": [
    "modifed_data['Education'] = modifed_data['Education'].replace({1: 'Primary education', 2: 'Basic education', 3: 'Vocational education', 4: 'Secondary education', 5: 'Higher education'})\n"
   ]
  },
  {
   "cell_type": "code",
   "execution_count": 74,
   "id": "4139728c",
   "metadata": {},
   "outputs": [
    {
     "data": {
      "image/png": "[encoded data removed]",
      "text/plain": [
       "<Figure size 640x480 with 1 Axes>"
      ]
     },
     "metadata": {},
     "output_type": "display_data"
    }
   ],
   "source": [
    "sns.countplot(x='Education', data=modifed_data)\n",
    "plt.xticks(rotation=90)\n",
    "plt.show()"
   ]
  },
  {
   "cell_type": "code",
   "execution_count": 75,
   "id": "7684ebc2",
   "metadata": {},
   "outputs": [],
   "source": [
    "modifed_data = modifed_data[(modifed_data['Education'] != -1) & (modifed_data['Education'] != 0)]\n"
   ]
  },
  {
   "cell_type": "markdown",
   "id": "77e4e4a6",
   "metadata": {},
   "source": [
    "# Since we have two values that are not within the 5 categories, we will delete them"
   ]
  },
  {
   "cell_type": "code",
   "execution_count": 76,
   "id": "d93e819f",
   "metadata": {},
   "outputs": [
    {
     "data": {
      "image/png": "[encoded data removed]",
      "text/plain": [
       "<Figure size 640x480 with 1 Axes>"
      ]
     },
     "metadata": {},
     "output_type": "display_data"
    }
   ],
   "source": [
    "sns.countplot(x='Education', data=modifed_data)\n",
    "plt.xticks(rotation=75)\n",
    "plt.show()"
   ]
  },
  {
   "cell_type": "code",
   "execution_count": 77,
   "id": "49636442",
   "metadata": {},
   "outputs": [
    {
     "data": {
      "text/plain": [
       "<AxesSubplot:xlabel='HomeOwnershipType', ylabel='count'>"
      ]
     },
     "execution_count": 77,
     "metadata": {},
     "output_type": "execute_result"
    },
    {
     "data": {
      "image/png": "[encoded data removed]",
      "text/plain": [
       "<Figure size 640x480 with 1 Axes>"
      ]
     },
     "metadata": {},
     "output_type": "display_data"
    }
   ],
   "source": [
    "sns.countplot(modifed_data.HomeOwnershipType)"
   ]
  },
  {
   "cell_type": "code",
   "execution_count": 28,
   "id": "7329a783",
   "metadata": {},
   "outputs": [],
   "source": [
    "modifed_data['HomeOwnershipType'] = modifed_data['HomeOwnershipType'].replace({0: 'Homeless', 1: 'Owner',\n",
    "                                                                               2: 'Living with parents', 3: 'Tenant, pre-furnished property',\n",
    "                                                                               4: 'Tenant, unfurnished property', 5: 'Council house',\n",
    "                                                                               6: 'Joint tenant',7: 'Joint ownership',\n",
    "                                                                               8: 'Mortgage', 9: 'Owner with encumbrance', 10: 'Other' })\n"
   ]
  },
  {
   "cell_type": "code",
   "execution_count": 78,
   "id": "09b185dd",
   "metadata": {},
   "outputs": [],
   "source": [
    "modifed_data = modifed_data[modifed_data['HomeOwnershipType'] != -1]\n"
   ]
  },
  {
   "cell_type": "code",
   "execution_count": 79,
   "id": "2edaecc0",
   "metadata": {},
   "outputs": [
    {
     "data": {
      "image/png": "[encoded data removed]",
      "text/plain": [
       "<Figure size 640x480 with 1 Axes>"
      ]
     },
     "metadata": {},
     "output_type": "display_data"
    }
   ],
   "source": [
    "sns.countplot(x='HomeOwnershipType', data=modifed_data)\n",
    "plt.xticks(rotation=90)\n",
    "plt.show()"
   ]
  },
  {
   "cell_type": "code",
   "execution_count": 80,
   "id": "5f286305",
   "metadata": {},
   "outputs": [
    {
     "data": {
      "text/plain": [
       "<AxesSubplot:xlabel='MaritalStatus', ylabel='count'>"
      ]
     },
     "execution_count": 80,
     "metadata": {},
     "output_type": "execute_result"
    },
    {
     "data": {
      "image/png": "[encoded data removed]",
      "text/plain": [
       "<Figure size 640x480 with 1 Axes>"
      ]
     },
     "metadata": {},
     "output_type": "display_data"
    }
   ],
   "source": [
    "sns.countplot(modifed_data.MaritalStatus)"
   ]
  },
  {
   "cell_type": "code",
   "execution_count": 31,
   "id": "e196e309",
   "metadata": {},
   "outputs": [],
   "source": [
    "modifed_data['MaritalStatus'] = modifed_data['MaritalStatus'].replace({ 1: 'Married',\n",
    "                                                                               2: 'Cohabitant',  3: 'Single',\n",
    "                                                                               4: 'Divorced', 5: 'Widow'})\n"
   ]
  },
  {
   "cell_type": "code",
   "execution_count": 81,
   "id": "d886603c",
   "metadata": {
    "scrolled": true
   },
   "outputs": [
    {
     "data": {
      "text/plain": [
       "<AxesSubplot:xlabel='MaritalStatus', ylabel='count'>"
      ]
     },
     "execution_count": 81,
     "metadata": {},
     "output_type": "execute_result"
    },
    {
     "data": {
      "image/png": "[encoded data removed]",
      "text/plain": [
       "<Figure size 640x480 with 1 Axes>"
      ]
     },
     "metadata": {},
     "output_type": "display_data"
    }
   ],
   "source": [
    "sns.countplot(modifed_data.MaritalStatus)"
   ]
  },
  {
   "cell_type": "markdown",
   "id": "686d2c3c",
   "metadata": {},
   "source": [
    "# We have encoding error; 0 and -1, will both be deleted"
   ]
  },
  {
   "cell_type": "code",
   "execution_count": 82,
   "id": "48f4cb76",
   "metadata": {},
   "outputs": [],
   "source": [
    "\n",
    "\n",
    "modifed_data = modifed_data[(modifed_data['MaritalStatus'] != -1) & (modifed_data['MaritalStatus'] != 0)]\n",
    "\n"
   ]
  },
  {
   "cell_type": "code",
   "execution_count": 83,
   "id": "776e4e49",
   "metadata": {},
   "outputs": [
    {
     "data": {
      "text/plain": [
       "<AxesSubplot:xlabel='MaritalStatus', ylabel='count'>"
      ]
     },
     "execution_count": 83,
     "metadata": {},
     "output_type": "execute_result"
    },
    {
     "data": {
      "image/png": "[encoded data removed]",
      "text/plain": [
       "<Figure size 640x480 with 1 Axes>"
      ]
     },
     "metadata": {},
     "output_type": "display_data"
    }
   ],
   "source": [
    "sns.countplot(modifed_data.MaritalStatus)"
   ]
  },
  {
   "cell_type": "code",
   "execution_count": 34,
   "id": "6f0344a6",
   "metadata": {},
   "outputs": [
    {
     "data": {
      "text/plain": [
       "<AxesSubplot:xlabel='Gender', ylabel='count'>"
      ]
     },
     "execution_count": 34,
     "metadata": {},
     "output_type": "execute_result"
    },
    {
     "data": {
      "image/png": "[encoded data removed]",
      "text/plain": [
       "<Figure size 640x480 with 1 Axes>"
      ]
     },
     "metadata": {},
     "output_type": "display_data"
    }
   ],
   "source": [
    "sns.countplot(data.Gender)"
   ]
  },
  {
   "cell_type": "markdown",
   "id": "857fbf1c",
   "metadata": {},
   "source": [
    "# Encoding"
   ]
  },
  {
   "cell_type": "code",
   "execution_count": 36,
   "id": "e71f38e9",
   "metadata": {},
   "outputs": [],
   "source": [
    "modifed_data['Gender'] = modifed_data['Gender'].replace({ 0.0: 'Male', 1.0: 'Woman',  2.0: 'Undefined'})\n"
   ]
  },
  {
   "cell_type": "markdown",
   "id": "c4812d3e",
   "metadata": {},
   "source": [
    "# delete undifined data"
   ]
  },
  {
   "cell_type": "code",
   "execution_count": 84,
   "id": "ace2f0eb",
   "metadata": {},
   "outputs": [],
   "source": [
    "modifed_data.drop(modifed_data[modifed_data['Gender'] == 2.0].index, inplace=True)\n"
   ]
  },
  {
   "cell_type": "code",
   "execution_count": 85,
   "id": "c481aafb",
   "metadata": {},
   "outputs": [
    {
     "data": {
      "text/plain": [
       "<AxesSubplot:xlabel='Gender', ylabel='count'>"
      ]
     },
     "execution_count": 85,
     "metadata": {},
     "output_type": "execute_result"
    },
    {
     "data": {
      "image/png": "[encoded data removed]",
      "text/plain": [
       "<Figure size 640x480 with 1 Axes>"
      ]
     },
     "metadata": {},
     "output_type": "display_data"
    }
   ],
   "source": [
    "sns.countplot(modifed_data.Gender)"
   ]
  },
  {
   "cell_type": "code",
   "execution_count": 39,
   "id": "4adaea20",
   "metadata": {},
   "outputs": [
    {
     "name": "stdout",
     "output_type": "stream",
     "text": [
      "Index(['Age', 'Gender', 'Amount', 'Interest', 'MonthlyPayment', 'UseOfLoan',\n",
      "       'Education', 'MaritalStatus', 'EmploymentStatus', 'WorkExperience',\n",
      "       'HomeOwnershipType', 'IncomeTotal', 'DebtToIncome', 'Status'],\n",
      "      dtype='object')\n"
     ]
    }
   ],
   "source": [
    "print(modifed_data.columns)\n"
   ]
  },
  {
   "cell_type": "code",
   "execution_count": 37,
   "id": "8387a9c0",
   "metadata": {},
   "outputs": [
    {
     "data": {
      "text/html": [
       "<div>\n",
       "<style scoped>\n",
       "    .dataframe tbody tr th:only-of-type {\n",
       "        vertical-align: middle;\n",
       "    }\n",
       "\n",
       "    .dataframe tbody tr th {\n",
       "        vertical-align: top;\n",
       "    }\n",
       "\n",
       "    .dataframe thead th {\n",
       "        text-align: right;\n",
       "    }\n",
       "</style>\n",
       "<table border=\"1\" class=\"dataframe\">\n",
       "  <thead>\n",
       "    <tr style=\"text-align: right;\">\n",
       "      <th></th>\n",
       "      <th>Age</th>\n",
       "      <th>Gender</th>\n",
       "      <th>Amount</th>\n",
       "      <th>Interest</th>\n",
       "      <th>MonthlyPayment</th>\n",
       "      <th>UseOfLoan</th>\n",
       "      <th>Education</th>\n",
       "      <th>MaritalStatus</th>\n",
       "      <th>EmploymentStatus</th>\n",
       "      <th>WorkExperience</th>\n",
       "      <th>HomeOwnershipType</th>\n",
       "      <th>IncomeTotal</th>\n",
       "      <th>DebtToIncome</th>\n",
       "      <th>Status</th>\n",
       "    </tr>\n",
       "  </thead>\n",
       "  <tbody>\n",
       "    <tr>\n",
       "      <th>14</th>\n",
       "      <td>20</td>\n",
       "      <td>0.0</td>\n",
       "      <td>319.56</td>\n",
       "      <td>40.00</td>\n",
       "      <td>0.00</td>\n",
       "      <td>3</td>\n",
       "      <td>Vocational education</td>\n",
       "      <td>3.0</td>\n",
       "      <td>3.0</td>\n",
       "      <td>2To5Years</td>\n",
       "      <td>Homeless</td>\n",
       "      <td>26500.0</td>\n",
       "      <td>0.00</td>\n",
       "      <td>Late</td>\n",
       "    </tr>\n",
       "    <tr>\n",
       "      <th>40</th>\n",
       "      <td>49</td>\n",
       "      <td>1.0</td>\n",
       "      <td>319.56</td>\n",
       "      <td>30.00</td>\n",
       "      <td>0.00</td>\n",
       "      <td>7</td>\n",
       "      <td>Basic education</td>\n",
       "      <td>4.0</td>\n",
       "      <td>3.0</td>\n",
       "      <td>MoreThan25Years</td>\n",
       "      <td>Homeless</td>\n",
       "      <td>6200.0</td>\n",
       "      <td>0.00</td>\n",
       "      <td>Late</td>\n",
       "    </tr>\n",
       "    <tr>\n",
       "      <th>51</th>\n",
       "      <td>19</td>\n",
       "      <td>0.0</td>\n",
       "      <td>70.30</td>\n",
       "      <td>49.00</td>\n",
       "      <td>0.00</td>\n",
       "      <td>8</td>\n",
       "      <td>Basic education</td>\n",
       "      <td>2.0</td>\n",
       "      <td>3.0</td>\n",
       "      <td>2To5Years</td>\n",
       "      <td>Homeless</td>\n",
       "      <td>12000.0</td>\n",
       "      <td>0.00</td>\n",
       "      <td>Late</td>\n",
       "    </tr>\n",
       "    <tr>\n",
       "      <th>74</th>\n",
       "      <td>18</td>\n",
       "      <td>0.0</td>\n",
       "      <td>6.39</td>\n",
       "      <td>49.00</td>\n",
       "      <td>0.00</td>\n",
       "      <td>7</td>\n",
       "      <td>Basic education</td>\n",
       "      <td>2.0</td>\n",
       "      <td>3.0</td>\n",
       "      <td>2To5Years</td>\n",
       "      <td>Homeless</td>\n",
       "      <td>11175.0</td>\n",
       "      <td>0.00</td>\n",
       "      <td>Late</td>\n",
       "    </tr>\n",
       "    <tr>\n",
       "      <th>93</th>\n",
       "      <td>41</td>\n",
       "      <td>0.0</td>\n",
       "      <td>191.75</td>\n",
       "      <td>30.00</td>\n",
       "      <td>0.00</td>\n",
       "      <td>2</td>\n",
       "      <td>Higher education</td>\n",
       "      <td>1.0</td>\n",
       "      <td>3.0</td>\n",
       "      <td>15To25Years</td>\n",
       "      <td>Homeless</td>\n",
       "      <td>22000.0</td>\n",
       "      <td>0.00</td>\n",
       "      <td>Late</td>\n",
       "    </tr>\n",
       "    <tr>\n",
       "      <th>...</th>\n",
       "      <td>...</td>\n",
       "      <td>...</td>\n",
       "      <td>...</td>\n",
       "      <td>...</td>\n",
       "      <td>...</td>\n",
       "      <td>...</td>\n",
       "      <td>...</td>\n",
       "      <td>...</td>\n",
       "      <td>...</td>\n",
       "      <td>...</td>\n",
       "      <td>...</td>\n",
       "      <td>...</td>\n",
       "      <td>...</td>\n",
       "      <td>...</td>\n",
       "    </tr>\n",
       "    <tr>\n",
       "      <th>134524</th>\n",
       "      <td>37</td>\n",
       "      <td>0.0</td>\n",
       "      <td>3000.00</td>\n",
       "      <td>31.01</td>\n",
       "      <td>107.68</td>\n",
       "      <td>0</td>\n",
       "      <td>Vocational education</td>\n",
       "      <td>3.0</td>\n",
       "      <td>3.0</td>\n",
       "      <td>15To25Years</td>\n",
       "      <td>Council house</td>\n",
       "      <td>1400.0</td>\n",
       "      <td>7.69</td>\n",
       "      <td>Repaid</td>\n",
       "    </tr>\n",
       "    <tr>\n",
       "      <th>134525</th>\n",
       "      <td>35</td>\n",
       "      <td>0.0</td>\n",
       "      <td>3000.00</td>\n",
       "      <td>18.25</td>\n",
       "      <td>85.33</td>\n",
       "      <td>2</td>\n",
       "      <td>Vocational education</td>\n",
       "      <td>3.0</td>\n",
       "      <td>3.0</td>\n",
       "      <td>15To25Years</td>\n",
       "      <td>Owner</td>\n",
       "      <td>2265.0</td>\n",
       "      <td>31.58</td>\n",
       "      <td>Repaid</td>\n",
       "    </tr>\n",
       "    <tr>\n",
       "      <th>134526</th>\n",
       "      <td>40</td>\n",
       "      <td>0.0</td>\n",
       "      <td>2500.00</td>\n",
       "      <td>24.83</td>\n",
       "      <td>80.42</td>\n",
       "      <td>0</td>\n",
       "      <td>Vocational education</td>\n",
       "      <td>1.0</td>\n",
       "      <td>5.0</td>\n",
       "      <td>5To10Years</td>\n",
       "      <td>Owner</td>\n",
       "      <td>2500.0</td>\n",
       "      <td>3.22</td>\n",
       "      <td>Late</td>\n",
       "    </tr>\n",
       "    <tr>\n",
       "      <th>134527</th>\n",
       "      <td>47</td>\n",
       "      <td>1.0</td>\n",
       "      <td>3000.00</td>\n",
       "      <td>17.74</td>\n",
       "      <td>84.51</td>\n",
       "      <td>7</td>\n",
       "      <td>Higher education</td>\n",
       "      <td>1.0</td>\n",
       "      <td>3.0</td>\n",
       "      <td>MoreThan25Years</td>\n",
       "      <td>Tenant, unfurnished property</td>\n",
       "      <td>540.0</td>\n",
       "      <td>44.35</td>\n",
       "      <td>Repaid</td>\n",
       "    </tr>\n",
       "    <tr>\n",
       "      <th>134528</th>\n",
       "      <td>21</td>\n",
       "      <td>1.0</td>\n",
       "      <td>3000.00</td>\n",
       "      <td>30.50</td>\n",
       "      <td>106.74</td>\n",
       "      <td>0</td>\n",
       "      <td>Secondary education</td>\n",
       "      <td>3.0</td>\n",
       "      <td>3.0</td>\n",
       "      <td>2To5Years</td>\n",
       "      <td>Living with parents</td>\n",
       "      <td>500.0</td>\n",
       "      <td>35.03</td>\n",
       "      <td>Late</td>\n",
       "    </tr>\n",
       "  </tbody>\n",
       "</table>\n",
       "<p>27858 rows × 14 columns</p>\n",
       "</div>"
      ],
      "text/plain": [
       "        Age  Gender   Amount  Interest  MonthlyPayment  UseOfLoan  \\\n",
       "14       20     0.0   319.56     40.00            0.00          3   \n",
       "40       49     1.0   319.56     30.00            0.00          7   \n",
       "51       19     0.0    70.30     49.00            0.00          8   \n",
       "74       18     0.0     6.39     49.00            0.00          7   \n",
       "93       41     0.0   191.75     30.00            0.00          2   \n",
       "...     ...     ...      ...       ...             ...        ...   \n",
       "134524   37     0.0  3000.00     31.01          107.68          0   \n",
       "134525   35     0.0  3000.00     18.25           85.33          2   \n",
       "134526   40     0.0  2500.00     24.83           80.42          0   \n",
       "134527   47     1.0  3000.00     17.74           84.51          7   \n",
       "134528   21     1.0  3000.00     30.50          106.74          0   \n",
       "\n",
       "                   Education  MaritalStatus  EmploymentStatus  \\\n",
       "14      Vocational education            3.0               3.0   \n",
       "40           Basic education            4.0               3.0   \n",
       "51           Basic education            2.0               3.0   \n",
       "74           Basic education            2.0               3.0   \n",
       "93          Higher education            1.0               3.0   \n",
       "...                      ...            ...               ...   \n",
       "134524  Vocational education            3.0               3.0   \n",
       "134525  Vocational education            3.0               3.0   \n",
       "134526  Vocational education            1.0               5.0   \n",
       "134527      Higher education            1.0               3.0   \n",
       "134528   Secondary education            3.0               3.0   \n",
       "\n",
       "         WorkExperience             HomeOwnershipType  IncomeTotal  \\\n",
       "14            2To5Years                      Homeless      26500.0   \n",
       "40      MoreThan25Years                      Homeless       6200.0   \n",
       "51            2To5Years                      Homeless      12000.0   \n",
       "74            2To5Years                      Homeless      11175.0   \n",
       "93          15To25Years                      Homeless      22000.0   \n",
       "...                 ...                           ...          ...   \n",
       "134524      15To25Years                 Council house       1400.0   \n",
       "134525      15To25Years                         Owner       2265.0   \n",
       "134526       5To10Years                         Owner       2500.0   \n",
       "134527  MoreThan25Years  Tenant, unfurnished property        540.0   \n",
       "134528        2To5Years           Living with parents        500.0   \n",
       "\n",
       "        DebtToIncome  Status  \n",
       "14              0.00    Late  \n",
       "40              0.00    Late  \n",
       "51              0.00    Late  \n",
       "74              0.00    Late  \n",
       "93              0.00    Late  \n",
       "...              ...     ...  \n",
       "134524          7.69  Repaid  \n",
       "134525         31.58  Repaid  \n",
       "134526          3.22    Late  \n",
       "134527         44.35  Repaid  \n",
       "134528         35.03    Late  \n",
       "\n",
       "[27858 rows x 14 columns]"
      ]
     },
     "execution_count": 37,
     "metadata": {},
     "output_type": "execute_result"
    }
   ],
   "source": [
    "modifed_data"
   ]
  },
  {
   "cell_type": "code",
   "execution_count": 86,
   "id": "19671e17",
   "metadata": {},
   "outputs": [
    {
     "data": {
      "text/plain": [
       "array(['2To5Years', 'MoreThan25Years', '15To25Years', 'LessThan2Years',\n",
       "       '5To10Years', '10To15Years'], dtype=object)"
      ]
     },
     "execution_count": 86,
     "metadata": {},
     "output_type": "execute_result"
    }
   ],
   "source": [
    "modifed_data.WorkExperience.unique()"
   ]
  },
  {
   "cell_type": "code",
   "execution_count": 39,
   "id": "f2331eb4",
   "metadata": {},
   "outputs": [
    {
     "data": {
      "image/png": "[encoded data removed]",
      "text/plain": [
       "<Figure size 640x480 with 1 Axes>"
      ]
     },
     "metadata": {},
     "output_type": "display_data"
    }
   ],
   "source": [
    "sns.countplot(modifed_data.WorkExperience)\n",
    "plt.xticks(rotation=90)\n",
    "plt.show()"
   ]
  },
  {
   "cell_type": "code",
   "execution_count": 40,
   "id": "bd2c58d4",
   "metadata": {},
   "outputs": [
    {
     "name": "stdout",
     "output_type": "stream",
     "text": [
      "There are 0 null values in the WorkExperience column.\n"
     ]
    }
   ],
   "source": [
    "null_values = modifed_data['WorkExperience'].isnull().sum()\n",
    "print(f\"There are {null_values} null values in the WorkExperience column.\")\n"
   ]
  },
  {
   "cell_type": "code",
   "execution_count": 87,
   "id": "38f3f6b5",
   "metadata": {},
   "outputs": [
    {
     "data": {
      "image/png": "[encoded data removed]",
      "text/plain": [
       "<Figure size 640x480 with 1 Axes>"
      ]
     },
     "metadata": {},
     "output_type": "display_data"
    }
   ],
   "source": [
    "# Plot the countplot\n",
    "sns.countplot(modifed_data.WorkExperience)\n",
    "plt.xticks(rotation=90)\n",
    "plt.show()"
   ]
  },
  {
   "cell_type": "code",
   "execution_count": 42,
   "id": "33d143f4",
   "metadata": {},
   "outputs": [],
   "source": [
    "\n",
    "\n",
    "# Define the mapping dictionary\n",
    "mapping_dict = {0.0: 'LessThan2Years', 1.0: '2To5Years', 2.0: '5To10Years', 3.0: '15To25Years', 4.0: 'MoreThan25Years'}\n",
    "\n",
    "# Use map to apply the mapping dictionary to the 'WorkExperience' column\n",
    "modifed_data['WorkExperience'] = modifed_data['WorkExperience'].map(mapping_dict)\n",
    "\n"
   ]
  },
  {
   "cell_type": "code",
   "execution_count": 97,
   "id": "59496d4a",
   "metadata": {},
   "outputs": [],
   "source": [
    "encoder = preprocessing.LabelEncoder()\n",
    "\n",
    "\n",
    "modifed_data['WorkExperience'] = encoder.fit_transform(modifed_data['WorkExperience'] )\n"
   ]
  },
  {
   "cell_type": "code",
   "execution_count": 100,
   "id": "93d5f084",
   "metadata": {},
   "outputs": [],
   "source": [
    "modifed_data['Status'] = encoder.fit_transform(modifed_data['Status'] )\n"
   ]
  },
  {
   "cell_type": "code",
   "execution_count": 101,
   "id": "cf57033f",
   "metadata": {},
   "outputs": [
    {
     "data": {
      "image/png": "[encoded data removed]",
      "text/plain": [
       "<Figure size 640x480 with 1 Axes>"
      ]
     },
     "metadata": {},
     "output_type": "display_data"
    }
   ],
   "source": [
    "# Plot the countplot\n",
    "sns.countplot(modifed_data.Status)\n",
    "\n",
    "plt.show()"
   ]
  },
  {
   "cell_type": "code",
   "execution_count": 94,
   "id": "9d4fc59c",
   "metadata": {},
   "outputs": [
    {
     "data": {
      "image/png": "[encoded data removed]",
      "text/plain": [
       "<Figure size 640x480 with 1 Axes>"
      ]
     },
     "metadata": {},
     "output_type": "display_data"
    }
   ],
   "source": [
    "# Plot the countplot\n",
    "sns.countplot(modifed_data.WorkExperience)\n",
    "\n",
    "plt.show()"
   ]
  },
  {
   "cell_type": "markdown",
   "id": "462a15a5",
   "metadata": {},
   "source": [
    "# UseOfLoan\n",
    "\n",
    "it was 111, and 1xx encoding will all be summed into bigger category "
   ]
  },
  {
   "cell_type": "code",
   "execution_count": 44,
   "id": "990e73be",
   "metadata": {},
   "outputs": [
    {
     "data": {
      "text/plain": [
       "14        3\n",
       "40        7\n",
       "51        8\n",
       "74        7\n",
       "93        2\n",
       "         ..\n",
       "134524    0\n",
       "134525    2\n",
       "134526    0\n",
       "134527    7\n",
       "134528    0\n",
       "Name: UseOfLoan, Length: 27858, dtype: int64"
      ]
     },
     "execution_count": 44,
     "metadata": {},
     "output_type": "execute_result"
    }
   ],
   "source": [
    "modifed_data['UseOfLoan']"
   ]
  },
  {
   "cell_type": "code",
   "execution_count": 45,
   "id": "06dadb9d",
   "metadata": {},
   "outputs": [
    {
     "data": {
      "text/plain": [
       "<AxesSubplot:xlabel='UseOfLoan', ylabel='count'>"
      ]
     },
     "execution_count": 45,
     "metadata": {},
     "output_type": "execute_result"
    },
    {
     "data": {
      "image/png": "[encoded data removed]",
      "text/plain": [
       "<Figure size 640x480 with 1 Axes>"
      ]
     },
     "metadata": {},
     "output_type": "display_data"
    }
   ],
   "source": [
    "sns.countplot(modifed_data.UseOfLoan)"
   ]
  },
  {
   "cell_type": "code",
   "execution_count": 46,
   "id": "8b311db9",
   "metadata": {},
   "outputs": [],
   "source": [
    "# Define loan categories\n",
    "loan_consolidation = [0]\n",
    "personal = [2, 4, 5, 6, 8]\n",
    "business = [1, 3, 101, 102, 103, 104, 105, 106, 107, 108, 109, 110]\n",
    "\n",
    "# Replace loan categories in 'UseOfLoan' column\n",
    "modifed_data['UseOfLoan'] = modifed_data['UseOfLoan'].replace({i: 'Loan Consolidation' for i in loan_consolidation})\\\n",
    "                           .replace({i: 'Personal' for i in personal})\\\n",
    "                           .replace({i: 'Business' for i in business})\\\n",
    "                           .replace({7: 'Other'})\n"
   ]
  },
  {
   "cell_type": "code",
   "execution_count": 47,
   "id": "4c7551c2",
   "metadata": {},
   "outputs": [
    {
     "data": {
      "text/plain": [
       "<AxesSubplot:xlabel='UseOfLoan', ylabel='count'>"
      ]
     },
     "execution_count": 47,
     "metadata": {},
     "output_type": "execute_result"
    },
    {
     "data": {
      "image/png": "[encoded data removed]",
      "text/plain": [
       "<Figure size 640x480 with 1 Axes>"
      ]
     },
     "metadata": {},
     "output_type": "display_data"
    }
   ],
   "source": [
    "sns.countplot(modifed_data.UseOfLoan)"
   ]
  },
  {
   "cell_type": "code",
   "execution_count": 48,
   "id": "0d882575",
   "metadata": {},
   "outputs": [],
   "source": [
    "modifed_data.drop(modifed_data[modifed_data['UseOfLoan'] == -1].index, inplace=True)\n"
   ]
  },
  {
   "cell_type": "code",
   "execution_count": 49,
   "id": "f0d0736d",
   "metadata": {},
   "outputs": [
    {
     "data": {
      "text/plain": [
       "Index(['Age', 'Gender', 'Amount', 'Interest', 'MonthlyPayment', 'UseOfLoan',\n",
       "       'Education', 'MaritalStatus', 'EmploymentStatus', 'WorkExperience',\n",
       "       'HomeOwnershipType', 'IncomeTotal', 'DebtToIncome', 'Status'],\n",
       "      dtype='object')"
      ]
     },
     "execution_count": 49,
     "metadata": {},
     "output_type": "execute_result"
    }
   ],
   "source": [
    "modifed_data.columns"
   ]
  },
  {
   "cell_type": "code",
   "execution_count": 50,
   "id": "8a88aaec",
   "metadata": {},
   "outputs": [
    {
     "data": {
      "text/plain": [
       "<AxesSubplot:xlabel='UseOfLoan', ylabel='count'>"
      ]
     },
     "execution_count": 50,
     "metadata": {},
     "output_type": "execute_result"
    },
    {
     "data": {
      "image/png": "[encoded data removed]",
      "text/plain": [
       "<Figure size 640x480 with 1 Axes>"
      ]
     },
     "metadata": {},
     "output_type": "display_data"
    }
   ],
   "source": [
    "sns.countplot(modifed_data.UseOfLoan)"
   ]
  },
  {
   "cell_type": "markdown",
   "id": "2ee5a6af",
   "metadata": {},
   "source": [
    "# EDA"
   ]
  },
  {
   "cell_type": "code",
   "execution_count": 51,
   "id": "e2b95d69",
   "metadata": {
    "scrolled": true
   },
   "outputs": [
    {
     "data": {
      "text/plain": [
       "Age                   int64\n",
       "Gender              float64\n",
       "Amount              float64\n",
       "Interest            float64\n",
       "MonthlyPayment      float64\n",
       "MaritalStatus       float64\n",
       "EmploymentStatus    float64\n",
       "IncomeTotal         float64\n",
       "DebtToIncome        float64\n",
       "dtype: object"
      ]
     },
     "execution_count": 51,
     "metadata": {},
     "output_type": "execute_result"
    }
   ],
   "source": [
    "numeric_features = modifed_data.select_dtypes(include=[np.number])\n",
    "numeric_features.dtypes"
   ]
  },
  {
   "cell_type": "code",
   "execution_count": 52,
   "id": "f236edff",
   "metadata": {
    "scrolled": true
   },
   "outputs": [
    {
     "data": {
      "text/html": [
       "<div>\n",
       "<style scoped>\n",
       "    .dataframe tbody tr th:only-of-type {\n",
       "        vertical-align: middle;\n",
       "    }\n",
       "\n",
       "    .dataframe tbody tr th {\n",
       "        vertical-align: top;\n",
       "    }\n",
       "\n",
       "    .dataframe thead th {\n",
       "        text-align: right;\n",
       "    }\n",
       "</style>\n",
       "<table border=\"1\" class=\"dataframe\">\n",
       "  <thead>\n",
       "    <tr style=\"text-align: right;\">\n",
       "      <th></th>\n",
       "      <th>Age</th>\n",
       "      <th>Gender</th>\n",
       "      <th>Amount</th>\n",
       "      <th>Interest</th>\n",
       "      <th>MonthlyPayment</th>\n",
       "      <th>MaritalStatus</th>\n",
       "      <th>EmploymentStatus</th>\n",
       "      <th>IncomeTotal</th>\n",
       "      <th>DebtToIncome</th>\n",
       "    </tr>\n",
       "  </thead>\n",
       "  <tbody>\n",
       "    <tr>\n",
       "      <th>Age</th>\n",
       "      <td>1.000000</td>\n",
       "      <td>0.081383</td>\n",
       "      <td>0.065470</td>\n",
       "      <td>-0.116530</td>\n",
       "      <td>0.008656</td>\n",
       "      <td>-0.035185</td>\n",
       "      <td>0.309339</td>\n",
       "      <td>0.053014</td>\n",
       "      <td>-0.007420</td>\n",
       "    </tr>\n",
       "    <tr>\n",
       "      <th>Gender</th>\n",
       "      <td>0.081383</td>\n",
       "      <td>1.000000</td>\n",
       "      <td>-0.020988</td>\n",
       "      <td>-0.065763</td>\n",
       "      <td>-0.073411</td>\n",
       "      <td>-0.010853</td>\n",
       "      <td>-0.044968</td>\n",
       "      <td>-0.056087</td>\n",
       "      <td>0.060268</td>\n",
       "    </tr>\n",
       "    <tr>\n",
       "      <th>Amount</th>\n",
       "      <td>0.065470</td>\n",
       "      <td>-0.020988</td>\n",
       "      <td>1.000000</td>\n",
       "      <td>-0.146356</td>\n",
       "      <td>0.419839</td>\n",
       "      <td>-0.069020</td>\n",
       "      <td>0.028826</td>\n",
       "      <td>0.080149</td>\n",
       "      <td>0.234934</td>\n",
       "    </tr>\n",
       "    <tr>\n",
       "      <th>Interest</th>\n",
       "      <td>-0.116530</td>\n",
       "      <td>-0.065763</td>\n",
       "      <td>-0.146356</td>\n",
       "      <td>1.000000</td>\n",
       "      <td>0.308014</td>\n",
       "      <td>0.087238</td>\n",
       "      <td>-0.003384</td>\n",
       "      <td>0.042726</td>\n",
       "      <td>0.018879</td>\n",
       "    </tr>\n",
       "    <tr>\n",
       "      <th>MonthlyPayment</th>\n",
       "      <td>0.008656</td>\n",
       "      <td>-0.073411</td>\n",
       "      <td>0.419839</td>\n",
       "      <td>0.308014</td>\n",
       "      <td>1.000000</td>\n",
       "      <td>-0.003556</td>\n",
       "      <td>0.056802</td>\n",
       "      <td>0.119233</td>\n",
       "      <td>0.304513</td>\n",
       "    </tr>\n",
       "    <tr>\n",
       "      <th>MaritalStatus</th>\n",
       "      <td>-0.035185</td>\n",
       "      <td>-0.010853</td>\n",
       "      <td>-0.069020</td>\n",
       "      <td>0.087238</td>\n",
       "      <td>-0.003556</td>\n",
       "      <td>1.000000</td>\n",
       "      <td>0.045761</td>\n",
       "      <td>-0.034543</td>\n",
       "      <td>0.000758</td>\n",
       "    </tr>\n",
       "    <tr>\n",
       "      <th>EmploymentStatus</th>\n",
       "      <td>0.309339</td>\n",
       "      <td>-0.044968</td>\n",
       "      <td>0.028826</td>\n",
       "      <td>-0.003384</td>\n",
       "      <td>0.056802</td>\n",
       "      <td>0.045761</td>\n",
       "      <td>1.000000</td>\n",
       "      <td>0.025274</td>\n",
       "      <td>-0.039962</td>\n",
       "    </tr>\n",
       "    <tr>\n",
       "      <th>IncomeTotal</th>\n",
       "      <td>0.053014</td>\n",
       "      <td>-0.056087</td>\n",
       "      <td>0.080149</td>\n",
       "      <td>0.042726</td>\n",
       "      <td>0.119233</td>\n",
       "      <td>-0.034543</td>\n",
       "      <td>0.025274</td>\n",
       "      <td>1.000000</td>\n",
       "      <td>-0.068104</td>\n",
       "    </tr>\n",
       "    <tr>\n",
       "      <th>DebtToIncome</th>\n",
       "      <td>-0.007420</td>\n",
       "      <td>0.060268</td>\n",
       "      <td>0.234934</td>\n",
       "      <td>0.018879</td>\n",
       "      <td>0.304513</td>\n",
       "      <td>0.000758</td>\n",
       "      <td>-0.039962</td>\n",
       "      <td>-0.068104</td>\n",
       "      <td>1.000000</td>\n",
       "    </tr>\n",
       "  </tbody>\n",
       "</table>\n",
       "</div>"
      ],
      "text/plain": [
       "                       Age    Gender    Amount  Interest  MonthlyPayment  \\\n",
       "Age               1.000000  0.081383  0.065470 -0.116530        0.008656   \n",
       "Gender            0.081383  1.000000 -0.020988 -0.065763       -0.073411   \n",
       "Amount            0.065470 -0.020988  1.000000 -0.146356        0.419839   \n",
       "Interest         -0.116530 -0.065763 -0.146356  1.000000        0.308014   \n",
       "MonthlyPayment    0.008656 -0.073411  0.419839  0.308014        1.000000   \n",
       "MaritalStatus    -0.035185 -0.010853 -0.069020  0.087238       -0.003556   \n",
       "EmploymentStatus  0.309339 -0.044968  0.028826 -0.003384        0.056802   \n",
       "IncomeTotal       0.053014 -0.056087  0.080149  0.042726        0.119233   \n",
       "DebtToIncome     -0.007420  0.060268  0.234934  0.018879        0.304513   \n",
       "\n",
       "                  MaritalStatus  EmploymentStatus  IncomeTotal  DebtToIncome  \n",
       "Age                   -0.035185          0.309339     0.053014     -0.007420  \n",
       "Gender                -0.010853         -0.044968    -0.056087      0.060268  \n",
       "Amount                -0.069020          0.028826     0.080149      0.234934  \n",
       "Interest               0.087238         -0.003384     0.042726      0.018879  \n",
       "MonthlyPayment        -0.003556          0.056802     0.119233      0.304513  \n",
       "MaritalStatus          1.000000          0.045761    -0.034543      0.000758  \n",
       "EmploymentStatus       0.045761          1.000000     0.025274     -0.039962  \n",
       "IncomeTotal           -0.034543          0.025274     1.000000     -0.068104  \n",
       "DebtToIncome           0.000758         -0.039962    -0.068104      1.000000  "
      ]
     },
     "execution_count": 52,
     "metadata": {},
     "output_type": "execute_result"
    }
   ],
   "source": [
    "corr =numeric_features.corr()\n",
    "corr"
   ]
  },
  {
   "cell_type": "code",
   "execution_count": 132,
   "id": "00e320ce",
   "metadata": {},
   "outputs": [
    {
     "data": {
      "image/png": "[encoded data removed]",
      "text/plain": [
       "<Figure size 1200x900 with 2 Axes>"
      ]
     },
     "metadata": {},
     "output_type": "display_data"
    }
   ],
   "source": [
    "# correlation matrix\n",
    "f, ax = plt.subplots(figsize=(12, 9))\n",
    "sns.heatmap(corr, vmax=.8, square=True);"
   ]
  },
  {
   "cell_type": "markdown",
   "id": "6b38ce4b",
   "metadata": {},
   "source": [
    "# Bivariant analysis between amount and education"
   ]
  },
  {
   "cell_type": "code",
   "execution_count": 430,
   "id": "3f36eab5",
   "metadata": {},
   "outputs": [
    {
     "data": {
      "image/png": "[encoded data removed]",
      "text/plain": [
       "<Figure size 1200x700 with 1 Axes>"
      ]
     },
     "metadata": {},
     "output_type": "display_data"
    }
   ],
   "source": [
    "Education_pivot = modifed_data.pivot_table(index='Education', values=\"Amount\", aggfunc=np.median)\n",
    "Education_pivot.plot(kind='bar', color='blue',figsize=(12,7))\n",
    "plt.xlabel(\"Education\")\n",
    "plt.ylabel(\"Amount\")\n",
    "plt.title(\"Impact of education on amount\")\n",
    "plt.xticks(rotation=0)\n",
    "plt.show()\n"
   ]
  },
  {
   "cell_type": "markdown",
   "id": "5790fc51",
   "metadata": {},
   "source": [
    "# Income and monthly payment"
   ]
  },
  {
   "cell_type": "code",
   "execution_count": 431,
   "id": "2f262faf",
   "metadata": {},
   "outputs": [
    {
     "data": {
      "image/png": "[encoded data removed]",
      "text/plain": [
       "<Figure size 1200x700 with 1 Axes>"
      ]
     },
     "metadata": {},
     "output_type": "display_data"
    }
   ],
   "source": [
    "Education_pivot = modifed_data.pivot_table(index='IncomeTotal', values=\"MonthlyPayment\", aggfunc=np.median)\n",
    "Education_pivot.plot(kind='bar', color='blue',figsize=(12,7))\n",
    "plt.xlabel(\"IncomeTotal\")\n",
    "plt.ylabel(\"MonthlyPayment\")\n",
    "plt.title(\"IncomeTotal on MonthlyPayment\")\n",
    "plt.xticks(rotation=0)\n",
    "plt.show()\n"
   ]
  },
  {
   "cell_type": "markdown",
   "id": "e89a6715",
   "metadata": {},
   "source": [
    "# Age on Amount"
   ]
  },
  {
   "cell_type": "code",
   "execution_count": 432,
   "id": "f5aff59f",
   "metadata": {},
   "outputs": [
    {
     "data": {
      "image/png": "[encoded data removed]",
      "text/plain": [
       "<Figure size 1200x700 with 1 Axes>"
      ]
     },
     "metadata": {},
     "output_type": "display_data"
    }
   ],
   "source": [
    "Education_pivot = modifed_data.pivot_table(index='Amount', values=\"Age\", aggfunc=np.median)\n",
    "Education_pivot.plot(kind='bar', color='blue',figsize=(12,7))\n",
    "plt.xlabel(\"Amount\")\n",
    "plt.ylabel(\"Age\")\n",
    "plt.title(\"Impact of education on amount\")\n",
    "plt.xticks(rotation=0)\n",
    "plt.show()\n"
   ]
  },
  {
   "cell_type": "code",
   "execution_count": null,
   "id": "894f3c6a",
   "metadata": {},
   "outputs": [],
   "source": [
    "Education_pivot = modifed_data.pivot_table(index='UseOfLoan', values=\"Age\", aggfunc=np.median)\n",
    "Education_pivot.plot(kind='bar', color='blue',figsize=(12,7))\n",
    "plt.xlabel(\"UseOfLoan\")\n",
    "plt.ylabel(\"UseOfLoan\")\n",
    "plt.title(\"Impact of age on UseOfLoan\")\n",
    "plt.xticks(rotation=0)\n",
    "plt.show()\n"
   ]
  },
  {
   "cell_type": "code",
   "execution_count": 102,
   "id": "5cd0f28c",
   "metadata": {},
   "outputs": [],
   "source": [
    "modifed_data.to_csv('modiefed_data.csv', index=False)"
   ]
  },
  {
   "cell_type": "code",
   "execution_count": 2,
   "id": "e748accb",
   "metadata": {},
   "outputs": [
    {
     "ename": "NameError",
     "evalue": "name 'modifed_data' is not defined",
     "output_type": "error",
     "traceback": [
      "\u001b[1;31m---------------------------------------------------------------------------\u001b[0m",
      "\u001b[1;31mNameError\u001b[0m                                 Traceback (most recent call last)",
      "\u001b[1;32m~\\AppData\\Local\\Temp\\ipykernel_10300\\992967498.py\u001b[0m in \u001b[0;36m<module>\u001b[1;34m\u001b[0m\n\u001b[1;32m----> 1\u001b[1;33m \u001b[0mmodifed_data\u001b[0m\u001b[1;33m[\u001b[0m\u001b[1;34m'Status'\u001b[0m\u001b[1;33m]\u001b[0m\u001b[1;33m\u001b[0m\u001b[1;33m\u001b[0m\u001b[0m\n\u001b[0m",
      "\u001b[1;31mNameError\u001b[0m: name 'modifed_data' is not defined"
     ]
    }
   ],
   "source": [
    "modifed_data['Status']"
   ]
  },
  {
   "cell_type": "code",
   "execution_count": null,
   "id": "de4bf723",
   "metadata": {},
   "outputs": [],
   "source": []
  }
 ],
 "metadata": {
  "kernelspec": {
   "display_name": "Python 3 (ipykernel)",
   "language": "python",
   "name": "python3"
  },
  "language_info": {
   "codemirror_mode": {
    "name": "ipython",
    "version": 3
   },
   "file_extension": ".py",
   "mimetype": "text/x-python",
   "name": "python",
   "nbconvert_exporter": "python",
   "pygments_lexer": "ipython3",
   "version": "3.9.13"
  }
 },
 "nbformat": 4,
 "nbformat_minor": 5
}
