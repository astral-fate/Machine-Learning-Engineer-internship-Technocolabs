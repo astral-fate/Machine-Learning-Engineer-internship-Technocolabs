{
 "cells": [
  {
   "cell_type": "markdown",
   "id": "a713872a",
   "metadata": {},
   "source": [
    "# 3) Loading Packages and Data"
   ]
  },
  {
   "cell_type": "code",
   "execution_count": 1,
   "id": "d807d21e",
   "metadata": {},
   "outputs": [],
   "source": [
    "import pandas as pd\n",
    "import seaborn as sns\n",
    "import matplotlib.pyplot as plt\n",
    "import numpy as np\n",
    "import math\n",
    "import json\n",
    "import pymongo\n",
    "import datetime\n",
    "from statistics import mean\n",
    "import collections\n",
    "\n",
    "from pandasql import sqldf\n",
    "pysqldf = lambda q: sqldf(q, globals())\n",
    "from time import time\n",
    "import scipy.stats\n",
    "from sklearn.preprocessing import MinMaxScaler\n",
    "from scipy import stats\n",
    "from sklearn import preprocessing\n",
    "# for min_max scaling\n",
    "from mlxtend.preprocessing import minmax_scaling\n",
    "from sklearn.metrics import mean_squared_error\n",
    "\n",
    "\n",
    "# for Box-Cox Transformation\n",
    "from scipy import stats\n",
    "\n",
    "# for min_max scaling\n",
    "from mlxtend.preprocessing import minmax_scaling\n",
    "\n",
    "from sklearn.metrics import mean_squared_error\n",
    "\n",
    "import warnings\n",
    "warnings.filterwarnings('ignore')\n",
    "%matplotlib inline\n",
    "from sklearn.model_selection import train_test_split\n",
    "\n",
    "import matplotlib.pyplot as plt\n",
    "\n",
    "\n",
    "\n",
    "from pandasql import sqldf\n",
    "pysqldf = lambda q: sqldf(q, globals())\n",
    "\n",
    "# Pandas, and NumPy: \n",
    "\n",
    "from time import time\n",
    "\n",
    "\n",
    "# Import the required libraries\n",
    "\n",
    "import pymongo\n",
    "import datetime\n",
    "import collections\n",
    "\n",
    "import scipy.stats\n"
   ]
  },
  {
   "cell_type": "markdown",
   "id": "20277f6a",
   "metadata": {},
   "source": [
    "# Reading the data"
   ]
  },
  {
   "cell_type": "code",
   "execution_count": 2,
   "id": "d601683d",
   "metadata": {},
   "outputs": [],
   "source": [
    "\n",
    "# read in all our data\n",
    "data = pd.read_csv(\"Bondora_raw.csv\")\n",
    "\n"
   ]
  },
  {
   "cell_type": "markdown",
   "id": "8a1f2090",
   "metadata": {},
   "source": [
    "# 4) Data Structure and Content"
   ]
  },
  {
   "cell_type": "code",
   "execution_count": 3,
   "id": "669d9dbc",
   "metadata": {},
   "outputs": [
    {
     "data": {
      "text/html": [
       "<div>\n",
       "<style scoped>\n",
       "    .dataframe tbody tr th:only-of-type {\n",
       "        vertical-align: middle;\n",
       "    }\n",
       "\n",
       "    .dataframe tbody tr th {\n",
       "        vertical-align: top;\n",
       "    }\n",
       "\n",
       "    .dataframe thead th {\n",
       "        text-align: right;\n",
       "    }\n",
       "</style>\n",
       "<table border=\"1\" class=\"dataframe\">\n",
       "  <thead>\n",
       "    <tr style=\"text-align: right;\">\n",
       "      <th></th>\n",
       "      <th>ReportAsOfEOD</th>\n",
       "      <th>LoanId</th>\n",
       "      <th>LoanNumber</th>\n",
       "      <th>ListedOnUTC</th>\n",
       "      <th>BiddingStartedOn</th>\n",
       "      <th>BidsPortfolioManager</th>\n",
       "      <th>BidsApi</th>\n",
       "      <th>BidsManual</th>\n",
       "      <th>UserName</th>\n",
       "      <th>NewCreditCustomer</th>\n",
       "      <th>...</th>\n",
       "      <th>PreviousEarlyRepaymentsCountBeforeLoan</th>\n",
       "      <th>GracePeriodStart</th>\n",
       "      <th>GracePeriodEnd</th>\n",
       "      <th>NextPaymentDate</th>\n",
       "      <th>NextPaymentNr</th>\n",
       "      <th>NrOfScheduledPayments</th>\n",
       "      <th>ReScheduledOn</th>\n",
       "      <th>PrincipalDebtServicingCost</th>\n",
       "      <th>InterestAndPenaltyDebtServicingCost</th>\n",
       "      <th>ActiveLateLastPaymentCategory</th>\n",
       "    </tr>\n",
       "  </thead>\n",
       "  <tbody>\n",
       "    <tr>\n",
       "      <th>0</th>\n",
       "      <td>2020-01-27</td>\n",
       "      <td>F0660C80-83F3-4A97-8DA0-9C250112D6EC</td>\n",
       "      <td>659</td>\n",
       "      <td>2009-06-11 16:40:39</td>\n",
       "      <td>2009-06-11 16:40:39</td>\n",
       "      <td>0</td>\n",
       "      <td>0</td>\n",
       "      <td>115.0410</td>\n",
       "      <td>KARU</td>\n",
       "      <td>True</td>\n",
       "      <td>...</td>\n",
       "      <td>0</td>\n",
       "      <td>NaN</td>\n",
       "      <td>NaN</td>\n",
       "      <td>NaN</td>\n",
       "      <td>NaN</td>\n",
       "      <td>NaN</td>\n",
       "      <td>NaN</td>\n",
       "      <td>0.0</td>\n",
       "      <td>0.0</td>\n",
       "      <td>NaN</td>\n",
       "    </tr>\n",
       "    <tr>\n",
       "      <th>1</th>\n",
       "      <td>2020-01-27</td>\n",
       "      <td>978BB85B-1C69-4D51-8447-9C240104A3A2</td>\n",
       "      <td>654</td>\n",
       "      <td>2009-06-10 15:48:57</td>\n",
       "      <td>2009-06-10 15:48:57</td>\n",
       "      <td>0</td>\n",
       "      <td>0</td>\n",
       "      <td>140.6057</td>\n",
       "      <td>koort681</td>\n",
       "      <td>False</td>\n",
       "      <td>...</td>\n",
       "      <td>0</td>\n",
       "      <td>NaN</td>\n",
       "      <td>NaN</td>\n",
       "      <td>NaN</td>\n",
       "      <td>NaN</td>\n",
       "      <td>NaN</td>\n",
       "      <td>NaN</td>\n",
       "      <td>0.0</td>\n",
       "      <td>0.0</td>\n",
       "      <td>NaN</td>\n",
       "    </tr>\n",
       "    <tr>\n",
       "      <th>2</th>\n",
       "      <td>2020-01-27</td>\n",
       "      <td>EA44027E-7FA7-4BB2-846D-9C1F013C8A22</td>\n",
       "      <td>641</td>\n",
       "      <td>2009-06-05 19:12:29</td>\n",
       "      <td>2009-06-05 19:12:29</td>\n",
       "      <td>0</td>\n",
       "      <td>0</td>\n",
       "      <td>319.5580</td>\n",
       "      <td>0ie</td>\n",
       "      <td>True</td>\n",
       "      <td>...</td>\n",
       "      <td>0</td>\n",
       "      <td>NaN</td>\n",
       "      <td>NaN</td>\n",
       "      <td>NaN</td>\n",
       "      <td>NaN</td>\n",
       "      <td>NaN</td>\n",
       "      <td>NaN</td>\n",
       "      <td>0.0</td>\n",
       "      <td>0.0</td>\n",
       "      <td>180+</td>\n",
       "    </tr>\n",
       "    <tr>\n",
       "      <th>3</th>\n",
       "      <td>2020-01-27</td>\n",
       "      <td>CE67AD25-2951-4BEE-96BD-9C2700C61EF4</td>\n",
       "      <td>668</td>\n",
       "      <td>2009-06-13 12:01:20</td>\n",
       "      <td>2009-06-13 12:01:20</td>\n",
       "      <td>0</td>\n",
       "      <td>0</td>\n",
       "      <td>57.5205</td>\n",
       "      <td>Alyona</td>\n",
       "      <td>True</td>\n",
       "      <td>...</td>\n",
       "      <td>0</td>\n",
       "      <td>NaN</td>\n",
       "      <td>NaN</td>\n",
       "      <td>NaN</td>\n",
       "      <td>NaN</td>\n",
       "      <td>NaN</td>\n",
       "      <td>NaN</td>\n",
       "      <td>0.0</td>\n",
       "      <td>0.0</td>\n",
       "      <td>NaN</td>\n",
       "    </tr>\n",
       "    <tr>\n",
       "      <th>4</th>\n",
       "      <td>2020-01-27</td>\n",
       "      <td>9408BF8C-B159-4D6A-9D61-9C2400A986E3</td>\n",
       "      <td>652</td>\n",
       "      <td>2009-06-10 10:17:13</td>\n",
       "      <td>2009-06-10 10:17:13</td>\n",
       "      <td>0</td>\n",
       "      <td>0</td>\n",
       "      <td>319.5582</td>\n",
       "      <td>Kai</td>\n",
       "      <td>True</td>\n",
       "      <td>...</td>\n",
       "      <td>0</td>\n",
       "      <td>NaN</td>\n",
       "      <td>NaN</td>\n",
       "      <td>NaN</td>\n",
       "      <td>NaN</td>\n",
       "      <td>NaN</td>\n",
       "      <td>NaN</td>\n",
       "      <td>0.0</td>\n",
       "      <td>0.0</td>\n",
       "      <td>180+</td>\n",
       "    </tr>\n",
       "  </tbody>\n",
       "</table>\n",
       "<p>5 rows × 112 columns</p>\n",
       "</div>"
      ],
      "text/plain": [
       "  ReportAsOfEOD                                LoanId  LoanNumber  \\\n",
       "0    2020-01-27  F0660C80-83F3-4A97-8DA0-9C250112D6EC         659   \n",
       "1    2020-01-27  978BB85B-1C69-4D51-8447-9C240104A3A2         654   \n",
       "2    2020-01-27  EA44027E-7FA7-4BB2-846D-9C1F013C8A22         641   \n",
       "3    2020-01-27  CE67AD25-2951-4BEE-96BD-9C2700C61EF4         668   \n",
       "4    2020-01-27  9408BF8C-B159-4D6A-9D61-9C2400A986E3         652   \n",
       "\n",
       "           ListedOnUTC     BiddingStartedOn  BidsPortfolioManager  BidsApi  \\\n",
       "0  2009-06-11 16:40:39  2009-06-11 16:40:39                     0        0   \n",
       "1  2009-06-10 15:48:57  2009-06-10 15:48:57                     0        0   \n",
       "2  2009-06-05 19:12:29  2009-06-05 19:12:29                     0        0   \n",
       "3  2009-06-13 12:01:20  2009-06-13 12:01:20                     0        0   \n",
       "4  2009-06-10 10:17:13  2009-06-10 10:17:13                     0        0   \n",
       "\n",
       "   BidsManual  UserName  NewCreditCustomer  ...  \\\n",
       "0    115.0410      KARU               True  ...   \n",
       "1    140.6057  koort681              False  ...   \n",
       "2    319.5580       0ie               True  ...   \n",
       "3     57.5205    Alyona               True  ...   \n",
       "4    319.5582       Kai               True  ...   \n",
       "\n",
       "  PreviousEarlyRepaymentsCountBeforeLoan GracePeriodStart GracePeriodEnd  \\\n",
       "0                                      0              NaN            NaN   \n",
       "1                                      0              NaN            NaN   \n",
       "2                                      0              NaN            NaN   \n",
       "3                                      0              NaN            NaN   \n",
       "4                                      0              NaN            NaN   \n",
       "\n",
       "  NextPaymentDate NextPaymentNr NrOfScheduledPayments  ReScheduledOn  \\\n",
       "0             NaN           NaN                   NaN            NaN   \n",
       "1             NaN           NaN                   NaN            NaN   \n",
       "2             NaN           NaN                   NaN            NaN   \n",
       "3             NaN           NaN                   NaN            NaN   \n",
       "4             NaN           NaN                   NaN            NaN   \n",
       "\n",
       "   PrincipalDebtServicingCost  InterestAndPenaltyDebtServicingCost  \\\n",
       "0                         0.0                                  0.0   \n",
       "1                         0.0                                  0.0   \n",
       "2                         0.0                                  0.0   \n",
       "3                         0.0                                  0.0   \n",
       "4                         0.0                                  0.0   \n",
       "\n",
       "   ActiveLateLastPaymentCategory  \n",
       "0                            NaN  \n",
       "1                            NaN  \n",
       "2                           180+  \n",
       "3                            NaN  \n",
       "4                           180+  \n",
       "\n",
       "[5 rows x 112 columns]"
      ]
     },
     "execution_count": 3,
     "metadata": {},
     "output_type": "execute_result"
    }
   ],
   "source": [
    "data.head()"
   ]
  },
  {
   "cell_type": "code",
   "execution_count": 4,
   "id": "f3b4ffa5",
   "metadata": {},
   "outputs": [
    {
     "name": "stdout",
     "output_type": "stream",
     "text": [
      "<class 'pandas.core.frame.DataFrame'>\n",
      "RangeIndex: 134529 entries, 0 to 134528\n",
      "Columns: 112 entries, ReportAsOfEOD to ActiveLateLastPaymentCategory\n",
      "dtypes: bool(3), float64(56), int64(14), object(39)\n",
      "memory usage: 112.3+ MB\n"
     ]
    }
   ],
   "source": [
    "data.info()"
   ]
  },
  {
   "cell_type": "code",
   "execution_count": 5,
   "id": "c65ea943",
   "metadata": {},
   "outputs": [
    {
     "data": {
      "text/plain": [
       "Index(['ReportAsOfEOD', 'LoanId', 'LoanNumber', 'ListedOnUTC',\n",
       "       'BiddingStartedOn', 'BidsPortfolioManager', 'BidsApi', 'BidsManual',\n",
       "       'UserName', 'NewCreditCustomer',\n",
       "       ...\n",
       "       'PreviousEarlyRepaymentsCountBeforeLoan', 'GracePeriodStart',\n",
       "       'GracePeriodEnd', 'NextPaymentDate', 'NextPaymentNr',\n",
       "       'NrOfScheduledPayments', 'ReScheduledOn', 'PrincipalDebtServicingCost',\n",
       "       'InterestAndPenaltyDebtServicingCost', 'ActiveLateLastPaymentCategory'],\n",
       "      dtype='object', length=112)"
      ]
     },
     "execution_count": 5,
     "metadata": {},
     "output_type": "execute_result"
    }
   ],
   "source": [
    "data.columns"
   ]
  },
  {
   "cell_type": "code",
   "execution_count": 7,
   "id": "b5c17467",
   "metadata": {},
   "outputs": [
    {
     "data": {
      "text/html": [
       "<div>\n",
       "<style scoped>\n",
       "    .dataframe tbody tr th:only-of-type {\n",
       "        vertical-align: middle;\n",
       "    }\n",
       "\n",
       "    .dataframe tbody tr th {\n",
       "        vertical-align: top;\n",
       "    }\n",
       "\n",
       "    .dataframe thead th {\n",
       "        text-align: right;\n",
       "    }\n",
       "</style>\n",
       "<table border=\"1\" class=\"dataframe\">\n",
       "  <thead>\n",
       "    <tr style=\"text-align: right;\">\n",
       "      <th></th>\n",
       "      <th>LoanNumber</th>\n",
       "      <th>BidsPortfolioManager</th>\n",
       "      <th>BidsApi</th>\n",
       "      <th>BidsManual</th>\n",
       "      <th>ApplicationSignedHour</th>\n",
       "      <th>ApplicationSignedWeekday</th>\n",
       "      <th>VerificationType</th>\n",
       "      <th>LanguageCode</th>\n",
       "      <th>Age</th>\n",
       "      <th>Gender</th>\n",
       "      <th>...</th>\n",
       "      <th>InterestAndPenaltyBalance</th>\n",
       "      <th>NoOfPreviousLoansBeforeLoan</th>\n",
       "      <th>AmountOfPreviousLoansBeforeLoan</th>\n",
       "      <th>PreviousRepaymentsBeforeLoan</th>\n",
       "      <th>PreviousEarlyRepaymentsBefoleLoan</th>\n",
       "      <th>PreviousEarlyRepaymentsCountBeforeLoan</th>\n",
       "      <th>NextPaymentNr</th>\n",
       "      <th>NrOfScheduledPayments</th>\n",
       "      <th>PrincipalDebtServicingCost</th>\n",
       "      <th>InterestAndPenaltyDebtServicingCost</th>\n",
       "    </tr>\n",
       "  </thead>\n",
       "  <tbody>\n",
       "    <tr>\n",
       "      <th>count</th>\n",
       "      <td>1.345290e+05</td>\n",
       "      <td>134529.000000</td>\n",
       "      <td>134529.000000</td>\n",
       "      <td>134529.000000</td>\n",
       "      <td>134529.000000</td>\n",
       "      <td>134529.000000</td>\n",
       "      <td>134484.000000</td>\n",
       "      <td>134529.000000</td>\n",
       "      <td>134529.000000</td>\n",
       "      <td>134484.000000</td>\n",
       "      <td>...</td>\n",
       "      <td>134529.000000</td>\n",
       "      <td>134529.000000</td>\n",
       "      <td>134529.000000</td>\n",
       "      <td>91368.000000</td>\n",
       "      <td>58026.000000</td>\n",
       "      <td>134529.000000</td>\n",
       "      <td>97788.000000</td>\n",
       "      <td>97788.000000</td>\n",
       "      <td>59129.000000</td>\n",
       "      <td>59129.000000</td>\n",
       "    </tr>\n",
       "    <tr>\n",
       "      <th>mean</th>\n",
       "      <td>9.449392e+05</td>\n",
       "      <td>966.452876</td>\n",
       "      <td>29.111664</td>\n",
       "      <td>559.332590</td>\n",
       "      <td>13.374640</td>\n",
       "      <td>3.907908</td>\n",
       "      <td>2.817257</td>\n",
       "      <td>2.827874</td>\n",
       "      <td>40.819295</td>\n",
       "      <td>0.442097</td>\n",
       "      <td>...</td>\n",
       "      <td>701.567107</td>\n",
       "      <td>1.487620</td>\n",
       "      <td>2868.652401</td>\n",
       "      <td>928.395548</td>\n",
       "      <td>320.743805</td>\n",
       "      <td>0.069903</td>\n",
       "      <td>5.178795</td>\n",
       "      <td>50.126795</td>\n",
       "      <td>5.264702</td>\n",
       "      <td>89.851455</td>\n",
       "    </tr>\n",
       "    <tr>\n",
       "      <th>std</th>\n",
       "      <td>4.786738e+05</td>\n",
       "      <td>1355.686016</td>\n",
       "      <td>150.159148</td>\n",
       "      <td>750.360512</td>\n",
       "      <td>4.992375</td>\n",
       "      <td>1.726192</td>\n",
       "      <td>1.407908</td>\n",
       "      <td>1.959802</td>\n",
       "      <td>12.348693</td>\n",
       "      <td>0.636083</td>\n",
       "      <td>...</td>\n",
       "      <td>2514.595572</td>\n",
       "      <td>2.396148</td>\n",
       "      <td>4507.046575</td>\n",
       "      <td>2042.348751</td>\n",
       "      <td>1561.799076</td>\n",
       "      <td>0.359461</td>\n",
       "      <td>7.674427</td>\n",
       "      <td>12.519530</td>\n",
       "      <td>57.800582</td>\n",
       "      <td>287.449052</td>\n",
       "    </tr>\n",
       "    <tr>\n",
       "      <th>min</th>\n",
       "      <td>3.700000e+01</td>\n",
       "      <td>0.000000</td>\n",
       "      <td>0.000000</td>\n",
       "      <td>0.000000</td>\n",
       "      <td>0.000000</td>\n",
       "      <td>1.000000</td>\n",
       "      <td>0.000000</td>\n",
       "      <td>1.000000</td>\n",
       "      <td>0.000000</td>\n",
       "      <td>0.000000</td>\n",
       "      <td>...</td>\n",
       "      <td>-2.660000</td>\n",
       "      <td>0.000000</td>\n",
       "      <td>0.000000</td>\n",
       "      <td>0.000000</td>\n",
       "      <td>0.000000</td>\n",
       "      <td>0.000000</td>\n",
       "      <td>0.000000</td>\n",
       "      <td>1.000000</td>\n",
       "      <td>0.000000</td>\n",
       "      <td>0.000000</td>\n",
       "    </tr>\n",
       "    <tr>\n",
       "      <th>25%</th>\n",
       "      <td>6.206790e+05</td>\n",
       "      <td>155.000000</td>\n",
       "      <td>0.000000</td>\n",
       "      <td>96.000000</td>\n",
       "      <td>10.000000</td>\n",
       "      <td>2.000000</td>\n",
       "      <td>1.000000</td>\n",
       "      <td>1.000000</td>\n",
       "      <td>31.000000</td>\n",
       "      <td>0.000000</td>\n",
       "      <td>...</td>\n",
       "      <td>0.000000</td>\n",
       "      <td>0.000000</td>\n",
       "      <td>0.000000</td>\n",
       "      <td>0.000000</td>\n",
       "      <td>0.000000</td>\n",
       "      <td>0.000000</td>\n",
       "      <td>0.000000</td>\n",
       "      <td>36.000000</td>\n",
       "      <td>0.000000</td>\n",
       "      <td>0.000000</td>\n",
       "    </tr>\n",
       "    <tr>\n",
       "      <th>50%</th>\n",
       "      <td>9.235970e+05</td>\n",
       "      <td>465.000000</td>\n",
       "      <td>0.000000</td>\n",
       "      <td>317.000000</td>\n",
       "      <td>13.000000</td>\n",
       "      <td>4.000000</td>\n",
       "      <td>4.000000</td>\n",
       "      <td>3.000000</td>\n",
       "      <td>40.000000</td>\n",
       "      <td>0.000000</td>\n",
       "      <td>...</td>\n",
       "      <td>0.000000</td>\n",
       "      <td>1.000000</td>\n",
       "      <td>396.354100</td>\n",
       "      <td>197.980000</td>\n",
       "      <td>0.000000</td>\n",
       "      <td>0.000000</td>\n",
       "      <td>3.000000</td>\n",
       "      <td>60.000000</td>\n",
       "      <td>0.000000</td>\n",
       "      <td>0.000000</td>\n",
       "    </tr>\n",
       "    <tr>\n",
       "      <th>75%</th>\n",
       "      <td>1.311025e+06</td>\n",
       "      <td>1218.000000</td>\n",
       "      <td>5.000000</td>\n",
       "      <td>729.000000</td>\n",
       "      <td>17.000000</td>\n",
       "      <td>5.000000</td>\n",
       "      <td>4.000000</td>\n",
       "      <td>4.000000</td>\n",
       "      <td>50.000000</td>\n",
       "      <td>1.000000</td>\n",
       "      <td>...</td>\n",
       "      <td>202.900000</td>\n",
       "      <td>2.000000</td>\n",
       "      <td>4250.000000</td>\n",
       "      <td>780.950000</td>\n",
       "      <td>0.000000</td>\n",
       "      <td>0.000000</td>\n",
       "      <td>7.000000</td>\n",
       "      <td>60.000000</td>\n",
       "      <td>0.000000</td>\n",
       "      <td>17.330000</td>\n",
       "    </tr>\n",
       "    <tr>\n",
       "      <th>max</th>\n",
       "      <td>1.855339e+06</td>\n",
       "      <td>10625.000000</td>\n",
       "      <td>7570.000000</td>\n",
       "      <td>10630.000000</td>\n",
       "      <td>23.000000</td>\n",
       "      <td>7.000000</td>\n",
       "      <td>4.000000</td>\n",
       "      <td>22.000000</td>\n",
       "      <td>77.000000</td>\n",
       "      <td>2.000000</td>\n",
       "      <td>...</td>\n",
       "      <td>64494.770000</td>\n",
       "      <td>25.000000</td>\n",
       "      <td>53762.000000</td>\n",
       "      <td>34077.420000</td>\n",
       "      <td>48100.000000</td>\n",
       "      <td>11.000000</td>\n",
       "      <td>60.000000</td>\n",
       "      <td>72.000000</td>\n",
       "      <td>3325.330000</td>\n",
       "      <td>5295.290000</td>\n",
       "    </tr>\n",
       "  </tbody>\n",
       "</table>\n",
       "<p>8 rows × 70 columns</p>\n",
       "</div>"
      ],
      "text/plain": [
       "         LoanNumber  BidsPortfolioManager        BidsApi     BidsManual  \\\n",
       "count  1.345290e+05         134529.000000  134529.000000  134529.000000   \n",
       "mean   9.449392e+05            966.452876      29.111664     559.332590   \n",
       "std    4.786738e+05           1355.686016     150.159148     750.360512   \n",
       "min    3.700000e+01              0.000000       0.000000       0.000000   \n",
       "25%    6.206790e+05            155.000000       0.000000      96.000000   \n",
       "50%    9.235970e+05            465.000000       0.000000     317.000000   \n",
       "75%    1.311025e+06           1218.000000       5.000000     729.000000   \n",
       "max    1.855339e+06          10625.000000    7570.000000   10630.000000   \n",
       "\n",
       "       ApplicationSignedHour  ApplicationSignedWeekday  VerificationType  \\\n",
       "count          134529.000000             134529.000000     134484.000000   \n",
       "mean               13.374640                  3.907908          2.817257   \n",
       "std                 4.992375                  1.726192          1.407908   \n",
       "min                 0.000000                  1.000000          0.000000   \n",
       "25%                10.000000                  2.000000          1.000000   \n",
       "50%                13.000000                  4.000000          4.000000   \n",
       "75%                17.000000                  5.000000          4.000000   \n",
       "max                23.000000                  7.000000          4.000000   \n",
       "\n",
       "        LanguageCode            Age         Gender  ...  \\\n",
       "count  134529.000000  134529.000000  134484.000000  ...   \n",
       "mean        2.827874      40.819295       0.442097  ...   \n",
       "std         1.959802      12.348693       0.636083  ...   \n",
       "min         1.000000       0.000000       0.000000  ...   \n",
       "25%         1.000000      31.000000       0.000000  ...   \n",
       "50%         3.000000      40.000000       0.000000  ...   \n",
       "75%         4.000000      50.000000       1.000000  ...   \n",
       "max        22.000000      77.000000       2.000000  ...   \n",
       "\n",
       "       InterestAndPenaltyBalance  NoOfPreviousLoansBeforeLoan  \\\n",
       "count              134529.000000                134529.000000   \n",
       "mean                  701.567107                     1.487620   \n",
       "std                  2514.595572                     2.396148   \n",
       "min                    -2.660000                     0.000000   \n",
       "25%                     0.000000                     0.000000   \n",
       "50%                     0.000000                     1.000000   \n",
       "75%                   202.900000                     2.000000   \n",
       "max                 64494.770000                    25.000000   \n",
       "\n",
       "       AmountOfPreviousLoansBeforeLoan  PreviousRepaymentsBeforeLoan  \\\n",
       "count                    134529.000000                  91368.000000   \n",
       "mean                       2868.652401                    928.395548   \n",
       "std                        4507.046575                   2042.348751   \n",
       "min                           0.000000                      0.000000   \n",
       "25%                           0.000000                      0.000000   \n",
       "50%                         396.354100                    197.980000   \n",
       "75%                        4250.000000                    780.950000   \n",
       "max                       53762.000000                  34077.420000   \n",
       "\n",
       "       PreviousEarlyRepaymentsBefoleLoan  \\\n",
       "count                       58026.000000   \n",
       "mean                          320.743805   \n",
       "std                          1561.799076   \n",
       "min                             0.000000   \n",
       "25%                             0.000000   \n",
       "50%                             0.000000   \n",
       "75%                             0.000000   \n",
       "max                         48100.000000   \n",
       "\n",
       "       PreviousEarlyRepaymentsCountBeforeLoan  NextPaymentNr  \\\n",
       "count                           134529.000000   97788.000000   \n",
       "mean                                 0.069903       5.178795   \n",
       "std                                  0.359461       7.674427   \n",
       "min                                  0.000000       0.000000   \n",
       "25%                                  0.000000       0.000000   \n",
       "50%                                  0.000000       3.000000   \n",
       "75%                                  0.000000       7.000000   \n",
       "max                                 11.000000      60.000000   \n",
       "\n",
       "       NrOfScheduledPayments  PrincipalDebtServicingCost  \\\n",
       "count           97788.000000                59129.000000   \n",
       "mean               50.126795                    5.264702   \n",
       "std                12.519530                   57.800582   \n",
       "min                 1.000000                    0.000000   \n",
       "25%                36.000000                    0.000000   \n",
       "50%                60.000000                    0.000000   \n",
       "75%                60.000000                    0.000000   \n",
       "max                72.000000                 3325.330000   \n",
       "\n",
       "       InterestAndPenaltyDebtServicingCost  \n",
       "count                         59129.000000  \n",
       "mean                             89.851455  \n",
       "std                             287.449052  \n",
       "min                               0.000000  \n",
       "25%                               0.000000  \n",
       "50%                               0.000000  \n",
       "75%                              17.330000  \n",
       "max                            5295.290000  \n",
       "\n",
       "[8 rows x 70 columns]"
      ]
     },
     "execution_count": 7,
     "metadata": {},
     "output_type": "execute_result"
    }
   ],
   "source": [
    "data.describe()"
   ]
  },
  {
   "cell_type": "code",
   "execution_count": 6,
   "id": "4afd40ab",
   "metadata": {},
   "outputs": [
    {
     "data": {
      "text/plain": [
       "0.00        66647\n",
       "530.00       2897\n",
       "2125.00      2542\n",
       "4250.00      2311\n",
       "1060.00      1913\n",
       "            ...  \n",
       "23832.00        1\n",
       "1974.00         1\n",
       "14835.00        1\n",
       "16925.00        1\n",
       "1266.94         1\n",
       "Name: AmountOfPreviousLoansBeforeLoan, Length: 12005, dtype: int64"
      ]
     },
     "execution_count": 6,
     "metadata": {},
     "output_type": "execute_result"
    }
   ],
   "source": [
    "data['AmountOfPreviousLoansBeforeLoan'].value_counts()"
   ]
  },
  {
   "cell_type": "code",
   "execution_count": 7,
   "id": "2421bc03",
   "metadata": {},
   "outputs": [
    {
     "data": {
      "text/plain": [
       "34    4083\n",
       "29    3985\n",
       "37    3959\n",
       "31    3959\n",
       "35    3958\n",
       "      ... \n",
       "77       3\n",
       "1        2\n",
       "71       2\n",
       "76       1\n",
       "74       1\n",
       "Name: Age, Length: 62, dtype: int64"
      ]
     },
     "execution_count": 7,
     "metadata": {},
     "output_type": "execute_result"
    }
   ],
   "source": [
    "data['Age'].value_counts()\n"
   ]
  },
  {
   "cell_type": "code",
   "execution_count": 8,
   "id": "97ebbf2d",
   "metadata": {},
   "outputs": [
    {
     "data": {
      "text/plain": [
       "40.819295467891685"
      ]
     },
     "execution_count": 8,
     "metadata": {},
     "output_type": "execute_result"
    }
   ],
   "source": [
    "data['Age'].mean()"
   ]
  },
  {
   "cell_type": "code",
   "execution_count": 9,
   "id": "138bf116",
   "metadata": {},
   "outputs": [
    {
     "data": {
      "text/plain": [
       "Current    57135\n",
       "Late       45772\n",
       "Repaid     31622\n",
       "Name: Status, dtype: int64"
      ]
     },
     "execution_count": 9,
     "metadata": {},
     "output_type": "execute_result"
    }
   ],
   "source": [
    "data['Status'].value_counts()"
   ]
  },
  {
   "cell_type": "code",
   "execution_count": 10,
   "id": "9f81a622",
   "metadata": {},
   "outputs": [
    {
     "data": {
      "text/plain": [
       "<AxesSubplot:xlabel='Status', ylabel='count'>"
      ]
     },
     "execution_count": 10,
     "metadata": {},
     "output_type": "execute_result"
    },
    {
     "data": {
      "image/png": "[encoded data removed]",
      "text/plain": [
       "<Figure size 432x288 with 1 Axes>"
      ]
     },
     "metadata": {
      "needs_background": "light"
     },
     "output_type": "display_data"
    }
   ],
   "source": [
    "sns.countplot(data.Status)"
   ]
  },
  {
   "cell_type": "code",
   "execution_count": 11,
   "id": "41abe0ef",
   "metadata": {},
   "outputs": [
    {
     "data": {
      "text/plain": [
       "EE    77335\n",
       "FI    32650\n",
       "ES    24248\n",
       "SK      296\n",
       "Name: Country, dtype: int64"
      ]
     },
     "execution_count": 11,
     "metadata": {},
     "output_type": "execute_result"
    }
   ],
   "source": [
    "data['Country'].value_counts()"
   ]
  },
  {
   "cell_type": "code",
   "execution_count": 12,
   "id": "2ccd5c9c",
   "metadata": {},
   "outputs": [
    {
     "data": {
      "text/plain": [
       "<AxesSubplot:xlabel='Country', ylabel='count'>"
      ]
     },
     "execution_count": 12,
     "metadata": {},
     "output_type": "execute_result"
    },
    {
     "data": {
      "image/png": "[encoded data removed]",
      "text/plain": [
       "<Figure size 432x288 with 1 Axes>"
      ]
     },
     "metadata": {
      "needs_background": "light"
     },
     "output_type": "display_data"
    }
   ],
   "source": [
    "sns.countplot(data.Country)"
   ]
  },
  {
   "cell_type": "code",
   "execution_count": 13,
   "id": "5ebefca2",
   "metadata": {},
   "outputs": [
    {
     "data": {
      "text/plain": [
       "Tallinn                       15604\n",
       "TALLINN                        6146\n",
       "Tartu linn                     3326\n",
       "HELSINKI                       3294\n",
       "Pärnu linn                     1986\n",
       "                              ...  \n",
       "KOSE VALD, ARDU                   1\n",
       "KALAMAJA                          1\n",
       "LLERENA                           1\n",
       "SALME VALD, TEHUMARDI KÜLA        1\n",
       "VEĽKÉ DRŽKOVCE                    1\n",
       "Name: City, Length: 7733, dtype: int64"
      ]
     },
     "execution_count": 13,
     "metadata": {},
     "output_type": "execute_result"
    }
   ],
   "source": [
    "data['City'].value_counts()"
   ]
  },
  {
   "cell_type": "markdown",
   "id": "135f7612",
   "metadata": {},
   "source": [
    "# 5) Exploratory Data Analysis\n",
    "Find the normality, and consistency of the data"
   ]
  },
  {
   "cell_type": "code",
   "execution_count": 14,
   "id": "09ac4ad7",
   "metadata": {},
   "outputs": [
    {
     "data": {
      "text/plain": [
       " 4.0    51330\n",
       " 5.0    35398\n",
       " 3.0    29260\n",
       " 1.0    12057\n",
       " 2.0     6427\n",
       " 0.0        8\n",
       "-1.0        4\n",
       "Name: Education, dtype: int64"
      ]
     },
     "execution_count": 14,
     "metadata": {},
     "output_type": "execute_result"
    }
   ],
   "source": [
    "data['Education'].value_counts()"
   ]
  },
  {
   "cell_type": "code",
   "execution_count": 15,
   "id": "b7788bfc",
   "metadata": {},
   "outputs": [
    {
     "data": {
      "text/plain": [
       "<AxesSubplot:xlabel='Education', ylabel='count'>"
      ]
     },
     "execution_count": 15,
     "metadata": {},
     "output_type": "execute_result"
    },
    {
     "data": {
      "image/png": "[encoded data removed]",
      "text/plain": [
       "<Figure size 432x288 with 1 Axes>"
      ]
     },
     "metadata": {
      "needs_background": "light"
     },
     "output_type": "display_data"
    }
   ],
   "source": [
    "sns.countplot(data.Education)"
   ]
  },
  {
   "cell_type": "markdown",
   "id": "5c72b9af",
   "metadata": {},
   "source": [
    "# Encode the numerical data to nominal data"
   ]
  },
  {
   "cell_type": "code",
   "execution_count": 16,
   "id": "d649fa8b",
   "metadata": {},
   "outputs": [],
   "source": [
    "modifed_data = data.copy()\n",
    "#modifedData = data.copy()\n",
    "\n"
   ]
  },
  {
   "cell_type": "code",
   "execution_count": 17,
   "id": "15cc097b",
   "metadata": {},
   "outputs": [],
   "source": [
    "modifed_data['Education'] = modifed_data['Education'].replace({1: 'Primary education', 2: 'Basic education', 3: 'Vocational education', 4: 'Secondary education', 5: 'Higher education'})\n"
   ]
  },
  {
   "cell_type": "code",
   "execution_count": 18,
   "id": "4139728c",
   "metadata": {},
   "outputs": [
    {
     "data": {
      "image/png": "[encoded data removed]",
      "text/plain": [
       "<Figure size 432x288 with 1 Axes>"
      ]
     },
     "metadata": {
      "needs_background": "light"
     },
     "output_type": "display_data"
    }
   ],
   "source": [
    "sns.countplot(x='Education', data=modifed_data)\n",
    "plt.xticks(rotation=90)\n",
    "plt.show()"
   ]
  },
  {
   "cell_type": "code",
   "execution_count": 19,
   "id": "7684ebc2",
   "metadata": {},
   "outputs": [],
   "source": [
    "modifed_data = modifed_data[(modifed_data['Education'] != -1) & (modifed_data['Education'] != 0)]\n"
   ]
  },
  {
   "cell_type": "markdown",
   "id": "77e4e4a6",
   "metadata": {},
   "source": [
    "# Since we have two values that are not within the 5 categories, we will delete them"
   ]
  },
  {
   "cell_type": "code",
   "execution_count": 20,
   "id": "d93e819f",
   "metadata": {},
   "outputs": [
    {
     "data": {
      "image/png": "[encoded data removed]",
      "text/plain": [
       "<Figure size 432x288 with 1 Axes>"
      ]
     },
     "metadata": {
      "needs_background": "light"
     },
     "output_type": "display_data"
    }
   ],
   "source": [
    "sns.countplot(x='Education', data=modifed_data)\n",
    "plt.xticks(rotation=75)\n",
    "plt.show()"
   ]
  },
  {
   "cell_type": "code",
   "execution_count": 21,
   "id": "49636442",
   "metadata": {},
   "outputs": [
    {
     "data": {
      "text/plain": [
       "<AxesSubplot:xlabel='HomeOwnershipType', ylabel='count'>"
      ]
     },
     "execution_count": 21,
     "metadata": {},
     "output_type": "execute_result"
    },
    {
     "data": {
      "image/png": "[encoded data removed]",
      "text/plain": [
       "<Figure size 432x288 with 1 Axes>"
      ]
     },
     "metadata": {
      "needs_background": "light"
     },
     "output_type": "display_data"
    }
   ],
   "source": [
    "sns.countplot(modifed_data.HomeOwnershipType)"
   ]
  },
  {
   "cell_type": "code",
   "execution_count": 88,
   "id": "7329a783",
   "metadata": {},
   "outputs": [],
   "source": [
    "modifed_data['HomeOwnershipType'] = modifed_data['HomeOwnershipType'].replace({0: 'Homeless', 1: 'Owner',\n",
    "                                                                               2: 'Living with parents', 3: 'Tenant, pre-furnished property',\n",
    "                                                                               4: 'Tenant, unfurnished property', 5: 'Council house',\n",
    "                                                                               6: 'Joint tenant',7: 'Joint ownership',\n",
    "                                                                               8: 'Mortgage', 9: 'Owner with encumbrance', 10: 'Other' })\n"
   ]
  },
  {
   "cell_type": "code",
   "execution_count": 89,
   "id": "c3ff1799",
   "metadata": {},
   "outputs": [],
   "source": [
    "modifed_data = modifed_data[modifed_data['HomeOwnershipType'] != -1]\n"
   ]
  },
  {
   "cell_type": "code",
   "execution_count": 90,
   "id": "2edaecc0",
   "metadata": {},
   "outputs": [
    {
     "data": {
      "image/png": "[encoded data removed]",
      "text/plain": [
       "<Figure size 432x288 with 1 Axes>"
      ]
     },
     "metadata": {
      "needs_background": "light"
     },
     "output_type": "display_data"
    }
   ],
   "source": [
    "sns.countplot(x='HomeOwnershipType', data=modifed_data)\n",
    "plt.xticks(rotation=90)\n",
    "plt.show()"
   ]
  },
  {
   "cell_type": "code",
   "execution_count": 26,
   "id": "5f286305",
   "metadata": {},
   "outputs": [
    {
     "data": {
      "text/plain": [
       "<AxesSubplot:xlabel='MaritalStatus', ylabel='count'>"
      ]
     },
     "execution_count": 26,
     "metadata": {},
     "output_type": "execute_result"
    },
    {
     "data": {
      "image/png": "[encoded data removed]",
      "text/plain": [
       "<Figure size 432x288 with 1 Axes>"
      ]
     },
     "metadata": {
      "needs_background": "light"
     },
     "output_type": "display_data"
    }
   ],
   "source": [
    "sns.countplot(modifed_data.MaritalStatus)"
   ]
  },
  {
   "cell_type": "code",
   "execution_count": 28,
   "id": "99c9c78b",
   "metadata": {},
   "outputs": [],
   "source": [
    "modifed_data = pd.read_csv('Bondora_raw.csv')"
   ]
  },
  {
   "cell_type": "code",
   "execution_count": 29,
   "id": "e196e309",
   "metadata": {},
   "outputs": [],
   "source": [
    "modifed_data['MaritalStatus'] = modifed_data['MaritalStatus'].replace({ 1: 'Married',\n",
    "                                                                               2: 'Cohabitant',  3: 'Single',\n",
    "                                                                               4: 'Divorced', 5: 'Widow'})\n"
   ]
  },
  {
   "cell_type": "code",
   "execution_count": 30,
   "id": "d886603c",
   "metadata": {
    "scrolled": true
   },
   "outputs": [
    {
     "data": {
      "text/plain": [
       "<AxesSubplot:xlabel='MaritalStatus', ylabel='count'>"
      ]
     },
     "execution_count": 30,
     "metadata": {},
     "output_type": "execute_result"
    },
    {
     "data": {
      "image/png": "[encoded data removed]",
      "text/plain": [
       "<Figure size 432x288 with 1 Axes>"
      ]
     },
     "metadata": {
      "needs_background": "light"
     },
     "output_type": "display_data"
    }
   ],
   "source": [
    "sns.countplot(modifed_data.MaritalStatus)"
   ]
  },
  {
   "cell_type": "markdown",
   "id": "686d2c3c",
   "metadata": {},
   "source": [
    "# We have encoding error; 0 and -1, will both be deleted"
   ]
  },
  {
   "cell_type": "code",
   "execution_count": 33,
   "id": "48f4cb76",
   "metadata": {},
   "outputs": [],
   "source": [
    "\n",
    "\n",
    "modifed_data = modifed_data[(modifed_data['MaritalStatus'] != -1) & (modifed_data['MaritalStatus'] != 0)]\n",
    "\n"
   ]
  },
  {
   "cell_type": "code",
   "execution_count": 34,
   "id": "776e4e49",
   "metadata": {},
   "outputs": [
    {
     "data": {
      "text/plain": [
       "<AxesSubplot:xlabel='MaritalStatus', ylabel='count'>"
      ]
     },
     "execution_count": 34,
     "metadata": {},
     "output_type": "execute_result"
    },
    {
     "data": {
      "image/png": "[encoded data removed]",
      "text/plain": [
       "<Figure size 432x288 with 1 Axes>"
      ]
     },
     "metadata": {
      "needs_background": "light"
     },
     "output_type": "display_data"
    }
   ],
   "source": [
    "sns.countplot(modifed_data.MaritalStatus)"
   ]
  },
  {
   "cell_type": "code",
   "execution_count": 35,
   "id": "6f0344a6",
   "metadata": {},
   "outputs": [
    {
     "data": {
      "text/plain": [
       "<AxesSubplot:xlabel='Gender', ylabel='count'>"
      ]
     },
     "execution_count": 35,
     "metadata": {},
     "output_type": "execute_result"
    },
    {
     "data": {
      "image/png": "[encoded data removed]",
      "text/plain": [
       "<Figure size 432x288 with 1 Axes>"
      ]
     },
     "metadata": {
      "needs_background": "light"
     },
     "output_type": "display_data"
    }
   ],
   "source": [
    "sns.countplot(modifed_data.Gender)"
   ]
  },
  {
   "cell_type": "code",
   "execution_count": 36,
   "id": "e71f38e9",
   "metadata": {},
   "outputs": [],
   "source": [
    "modifed_data['Gender'] = modifed_data['Gender'].replace({ 0.0: 'Male', 1.0: 'Woman',  2.0: 'Undefined'})\n"
   ]
  },
  {
   "cell_type": "code",
   "execution_count": 37,
   "id": "0d3c9f5a",
   "metadata": {},
   "outputs": [
    {
     "data": {
      "image/png": "[encoded data removed]",
      "text/plain": [
       "<Figure size 432x288 with 1 Axes>"
      ]
     },
     "metadata": {
      "needs_background": "light"
     },
     "output_type": "display_data"
    }
   ],
   "source": [
    "sns.countplot(x='Gender', data=modifed_data)\n",
    "plt.xticks(rotation=90)\n",
    "plt.show()"
   ]
  },
  {
   "cell_type": "code",
   "execution_count": 44,
   "id": "8387a9c0",
   "metadata": {},
   "outputs": [
    {
     "data": {
      "text/html": [
       "<div>\n",
       "<style scoped>\n",
       "    .dataframe tbody tr th:only-of-type {\n",
       "        vertical-align: middle;\n",
       "    }\n",
       "\n",
       "    .dataframe tbody tr th {\n",
       "        vertical-align: top;\n",
       "    }\n",
       "\n",
       "    .dataframe thead th {\n",
       "        text-align: right;\n",
       "    }\n",
       "</style>\n",
       "<table border=\"1\" class=\"dataframe\">\n",
       "  <thead>\n",
       "    <tr style=\"text-align: right;\">\n",
       "      <th></th>\n",
       "      <th>ReportAsOfEOD</th>\n",
       "      <th>LoanId</th>\n",
       "      <th>LoanNumber</th>\n",
       "      <th>ListedOnUTC</th>\n",
       "      <th>BiddingStartedOn</th>\n",
       "      <th>BidsPortfolioManager</th>\n",
       "      <th>BidsApi</th>\n",
       "      <th>BidsManual</th>\n",
       "      <th>UserName</th>\n",
       "      <th>NewCreditCustomer</th>\n",
       "      <th>...</th>\n",
       "      <th>PreviousEarlyRepaymentsCountBeforeLoan</th>\n",
       "      <th>GracePeriodStart</th>\n",
       "      <th>GracePeriodEnd</th>\n",
       "      <th>NextPaymentDate</th>\n",
       "      <th>NextPaymentNr</th>\n",
       "      <th>NrOfScheduledPayments</th>\n",
       "      <th>ReScheduledOn</th>\n",
       "      <th>PrincipalDebtServicingCost</th>\n",
       "      <th>InterestAndPenaltyDebtServicingCost</th>\n",
       "      <th>ActiveLateLastPaymentCategory</th>\n",
       "    </tr>\n",
       "  </thead>\n",
       "  <tbody>\n",
       "    <tr>\n",
       "      <th>0</th>\n",
       "      <td>2020-01-27</td>\n",
       "      <td>F0660C80-83F3-4A97-8DA0-9C250112D6EC</td>\n",
       "      <td>659</td>\n",
       "      <td>2009-06-11 16:40:39</td>\n",
       "      <td>2009-06-11 16:40:39</td>\n",
       "      <td>0</td>\n",
       "      <td>0</td>\n",
       "      <td>115.0410</td>\n",
       "      <td>KARU</td>\n",
       "      <td>True</td>\n",
       "      <td>...</td>\n",
       "      <td>0</td>\n",
       "      <td>NaN</td>\n",
       "      <td>NaN</td>\n",
       "      <td>NaN</td>\n",
       "      <td>NaN</td>\n",
       "      <td>NaN</td>\n",
       "      <td>NaN</td>\n",
       "      <td>0.0</td>\n",
       "      <td>0.00</td>\n",
       "      <td>NaN</td>\n",
       "    </tr>\n",
       "    <tr>\n",
       "      <th>1</th>\n",
       "      <td>2020-01-27</td>\n",
       "      <td>978BB85B-1C69-4D51-8447-9C240104A3A2</td>\n",
       "      <td>654</td>\n",
       "      <td>2009-06-10 15:48:57</td>\n",
       "      <td>2009-06-10 15:48:57</td>\n",
       "      <td>0</td>\n",
       "      <td>0</td>\n",
       "      <td>140.6057</td>\n",
       "      <td>koort681</td>\n",
       "      <td>False</td>\n",
       "      <td>...</td>\n",
       "      <td>0</td>\n",
       "      <td>NaN</td>\n",
       "      <td>NaN</td>\n",
       "      <td>NaN</td>\n",
       "      <td>NaN</td>\n",
       "      <td>NaN</td>\n",
       "      <td>NaN</td>\n",
       "      <td>0.0</td>\n",
       "      <td>0.00</td>\n",
       "      <td>NaN</td>\n",
       "    </tr>\n",
       "    <tr>\n",
       "      <th>2</th>\n",
       "      <td>2020-01-27</td>\n",
       "      <td>EA44027E-7FA7-4BB2-846D-9C1F013C8A22</td>\n",
       "      <td>641</td>\n",
       "      <td>2009-06-05 19:12:29</td>\n",
       "      <td>2009-06-05 19:12:29</td>\n",
       "      <td>0</td>\n",
       "      <td>0</td>\n",
       "      <td>319.5580</td>\n",
       "      <td>0ie</td>\n",
       "      <td>True</td>\n",
       "      <td>...</td>\n",
       "      <td>0</td>\n",
       "      <td>NaN</td>\n",
       "      <td>NaN</td>\n",
       "      <td>NaN</td>\n",
       "      <td>NaN</td>\n",
       "      <td>NaN</td>\n",
       "      <td>NaN</td>\n",
       "      <td>0.0</td>\n",
       "      <td>0.00</td>\n",
       "      <td>180+</td>\n",
       "    </tr>\n",
       "    <tr>\n",
       "      <th>3</th>\n",
       "      <td>2020-01-27</td>\n",
       "      <td>CE67AD25-2951-4BEE-96BD-9C2700C61EF4</td>\n",
       "      <td>668</td>\n",
       "      <td>2009-06-13 12:01:20</td>\n",
       "      <td>2009-06-13 12:01:20</td>\n",
       "      <td>0</td>\n",
       "      <td>0</td>\n",
       "      <td>57.5205</td>\n",
       "      <td>Alyona</td>\n",
       "      <td>True</td>\n",
       "      <td>...</td>\n",
       "      <td>0</td>\n",
       "      <td>NaN</td>\n",
       "      <td>NaN</td>\n",
       "      <td>NaN</td>\n",
       "      <td>NaN</td>\n",
       "      <td>NaN</td>\n",
       "      <td>NaN</td>\n",
       "      <td>0.0</td>\n",
       "      <td>0.00</td>\n",
       "      <td>NaN</td>\n",
       "    </tr>\n",
       "    <tr>\n",
       "      <th>4</th>\n",
       "      <td>2020-01-27</td>\n",
       "      <td>9408BF8C-B159-4D6A-9D61-9C2400A986E3</td>\n",
       "      <td>652</td>\n",
       "      <td>2009-06-10 10:17:13</td>\n",
       "      <td>2009-06-10 10:17:13</td>\n",
       "      <td>0</td>\n",
       "      <td>0</td>\n",
       "      <td>319.5582</td>\n",
       "      <td>Kai</td>\n",
       "      <td>True</td>\n",
       "      <td>...</td>\n",
       "      <td>0</td>\n",
       "      <td>NaN</td>\n",
       "      <td>NaN</td>\n",
       "      <td>NaN</td>\n",
       "      <td>NaN</td>\n",
       "      <td>NaN</td>\n",
       "      <td>NaN</td>\n",
       "      <td>0.0</td>\n",
       "      <td>0.00</td>\n",
       "      <td>180+</td>\n",
       "    </tr>\n",
       "    <tr>\n",
       "      <th>...</th>\n",
       "      <td>...</td>\n",
       "      <td>...</td>\n",
       "      <td>...</td>\n",
       "      <td>...</td>\n",
       "      <td>...</td>\n",
       "      <td>...</td>\n",
       "      <td>...</td>\n",
       "      <td>...</td>\n",
       "      <td>...</td>\n",
       "      <td>...</td>\n",
       "      <td>...</td>\n",
       "      <td>...</td>\n",
       "      <td>...</td>\n",
       "      <td>...</td>\n",
       "      <td>...</td>\n",
       "      <td>...</td>\n",
       "      <td>...</td>\n",
       "      <td>...</td>\n",
       "      <td>...</td>\n",
       "      <td>...</td>\n",
       "      <td>...</td>\n",
       "    </tr>\n",
       "    <tr>\n",
       "      <th>134524</th>\n",
       "      <td>2020-01-27</td>\n",
       "      <td>A9C9EF0F-4E79-4930-BA8A-A4130077FCC2</td>\n",
       "      <td>283484</td>\n",
       "      <td>2015-01-02 16:31:36</td>\n",
       "      <td>2015-01-02 16:31:36</td>\n",
       "      <td>2515</td>\n",
       "      <td>0</td>\n",
       "      <td>485.0000</td>\n",
       "      <td>BO73K5A6A</td>\n",
       "      <td>True</td>\n",
       "      <td>...</td>\n",
       "      <td>0</td>\n",
       "      <td>NaN</td>\n",
       "      <td>NaN</td>\n",
       "      <td>NaN</td>\n",
       "      <td>NaN</td>\n",
       "      <td>NaN</td>\n",
       "      <td>NaN</td>\n",
       "      <td>0.0</td>\n",
       "      <td>1040.06</td>\n",
       "      <td>180+</td>\n",
       "    </tr>\n",
       "    <tr>\n",
       "      <th>134525</th>\n",
       "      <td>2020-01-27</td>\n",
       "      <td>787345C2-7606-4F72-8FE2-A4170082D77C</td>\n",
       "      <td>285168</td>\n",
       "      <td>2015-01-05 16:14:26</td>\n",
       "      <td>2015-01-05 16:14:26</td>\n",
       "      <td>1880</td>\n",
       "      <td>0</td>\n",
       "      <td>1120.0000</td>\n",
       "      <td>BO311A49</td>\n",
       "      <td>False</td>\n",
       "      <td>...</td>\n",
       "      <td>0</td>\n",
       "      <td>2017-06-27</td>\n",
       "      <td>2018-06-20</td>\n",
       "      <td>NaN</td>\n",
       "      <td>NaN</td>\n",
       "      <td>NaN</td>\n",
       "      <td>NaN</td>\n",
       "      <td>0.0</td>\n",
       "      <td>0.00</td>\n",
       "      <td>NaN</td>\n",
       "    </tr>\n",
       "    <tr>\n",
       "      <th>134526</th>\n",
       "      <td>2020-01-27</td>\n",
       "      <td>E2D3384D-289A-4B4D-A2DA-A40F00F7C755</td>\n",
       "      <td>281602</td>\n",
       "      <td>2015-01-02 14:04:27</td>\n",
       "      <td>2015-01-02 14:04:27</td>\n",
       "      <td>1975</td>\n",
       "      <td>0</td>\n",
       "      <td>525.0000</td>\n",
       "      <td>BO41K639A</td>\n",
       "      <td>True</td>\n",
       "      <td>...</td>\n",
       "      <td>0</td>\n",
       "      <td>NaN</td>\n",
       "      <td>NaN</td>\n",
       "      <td>NaN</td>\n",
       "      <td>0.0</td>\n",
       "      <td>60.0</td>\n",
       "      <td>NaN</td>\n",
       "      <td>0.0</td>\n",
       "      <td>1051.85</td>\n",
       "      <td>8-15</td>\n",
       "    </tr>\n",
       "    <tr>\n",
       "      <th>134527</th>\n",
       "      <td>2020-01-27</td>\n",
       "      <td>7CC7AB74-995B-4467-958A-A41700F78D59</td>\n",
       "      <td>285431</td>\n",
       "      <td>2015-01-05 16:56:12</td>\n",
       "      <td>2015-01-05 16:56:12</td>\n",
       "      <td>1840</td>\n",
       "      <td>0</td>\n",
       "      <td>1160.0000</td>\n",
       "      <td>BO45A925</td>\n",
       "      <td>False</td>\n",
       "      <td>...</td>\n",
       "      <td>0</td>\n",
       "      <td>2016-04-01</td>\n",
       "      <td>2016-10-03</td>\n",
       "      <td>NaN</td>\n",
       "      <td>NaN</td>\n",
       "      <td>NaN</td>\n",
       "      <td>NaN</td>\n",
       "      <td>0.0</td>\n",
       "      <td>889.50</td>\n",
       "      <td>31-60</td>\n",
       "    </tr>\n",
       "    <tr>\n",
       "      <th>134528</th>\n",
       "      <td>2020-01-27</td>\n",
       "      <td>3A0DEBF3-292C-4EB4-B71A-A4170157749D</td>\n",
       "      <td>285630</td>\n",
       "      <td>2015-01-06 11:07:06</td>\n",
       "      <td>2015-01-06 11:07:06</td>\n",
       "      <td>2990</td>\n",
       "      <td>0</td>\n",
       "      <td>10.0000</td>\n",
       "      <td>BO152923A</td>\n",
       "      <td>False</td>\n",
       "      <td>...</td>\n",
       "      <td>0</td>\n",
       "      <td>2015-09-14</td>\n",
       "      <td>2016-03-14</td>\n",
       "      <td>NaN</td>\n",
       "      <td>0.0</td>\n",
       "      <td>60.0</td>\n",
       "      <td>2015-09-09</td>\n",
       "      <td>0.0</td>\n",
       "      <td>604.80</td>\n",
       "      <td>91-120</td>\n",
       "    </tr>\n",
       "  </tbody>\n",
       "</table>\n",
       "<p>36575 rows × 112 columns</p>\n",
       "</div>"
      ],
      "text/plain": [
       "       ReportAsOfEOD                                LoanId  LoanNumber  \\\n",
       "0         2020-01-27  F0660C80-83F3-4A97-8DA0-9C250112D6EC         659   \n",
       "1         2020-01-27  978BB85B-1C69-4D51-8447-9C240104A3A2         654   \n",
       "2         2020-01-27  EA44027E-7FA7-4BB2-846D-9C1F013C8A22         641   \n",
       "3         2020-01-27  CE67AD25-2951-4BEE-96BD-9C2700C61EF4         668   \n",
       "4         2020-01-27  9408BF8C-B159-4D6A-9D61-9C2400A986E3         652   \n",
       "...              ...                                   ...         ...   \n",
       "134524    2020-01-27  A9C9EF0F-4E79-4930-BA8A-A4130077FCC2      283484   \n",
       "134525    2020-01-27  787345C2-7606-4F72-8FE2-A4170082D77C      285168   \n",
       "134526    2020-01-27  E2D3384D-289A-4B4D-A2DA-A40F00F7C755      281602   \n",
       "134527    2020-01-27  7CC7AB74-995B-4467-958A-A41700F78D59      285431   \n",
       "134528    2020-01-27  3A0DEBF3-292C-4EB4-B71A-A4170157749D      285630   \n",
       "\n",
       "                ListedOnUTC     BiddingStartedOn  BidsPortfolioManager  \\\n",
       "0       2009-06-11 16:40:39  2009-06-11 16:40:39                     0   \n",
       "1       2009-06-10 15:48:57  2009-06-10 15:48:57                     0   \n",
       "2       2009-06-05 19:12:29  2009-06-05 19:12:29                     0   \n",
       "3       2009-06-13 12:01:20  2009-06-13 12:01:20                     0   \n",
       "4       2009-06-10 10:17:13  2009-06-10 10:17:13                     0   \n",
       "...                     ...                  ...                   ...   \n",
       "134524  2015-01-02 16:31:36  2015-01-02 16:31:36                  2515   \n",
       "134525  2015-01-05 16:14:26  2015-01-05 16:14:26                  1880   \n",
       "134526  2015-01-02 14:04:27  2015-01-02 14:04:27                  1975   \n",
       "134527  2015-01-05 16:56:12  2015-01-05 16:56:12                  1840   \n",
       "134528  2015-01-06 11:07:06  2015-01-06 11:07:06                  2990   \n",
       "\n",
       "        BidsApi  BidsManual   UserName  NewCreditCustomer  ...  \\\n",
       "0             0    115.0410       KARU               True  ...   \n",
       "1             0    140.6057   koort681              False  ...   \n",
       "2             0    319.5580        0ie               True  ...   \n",
       "3             0     57.5205     Alyona               True  ...   \n",
       "4             0    319.5582        Kai               True  ...   \n",
       "...         ...         ...        ...                ...  ...   \n",
       "134524        0    485.0000  BO73K5A6A               True  ...   \n",
       "134525        0   1120.0000   BO311A49              False  ...   \n",
       "134526        0    525.0000  BO41K639A               True  ...   \n",
       "134527        0   1160.0000   BO45A925              False  ...   \n",
       "134528        0     10.0000  BO152923A              False  ...   \n",
       "\n",
       "       PreviousEarlyRepaymentsCountBeforeLoan GracePeriodStart GracePeriodEnd  \\\n",
       "0                                           0              NaN            NaN   \n",
       "1                                           0              NaN            NaN   \n",
       "2                                           0              NaN            NaN   \n",
       "3                                           0              NaN            NaN   \n",
       "4                                           0              NaN            NaN   \n",
       "...                                       ...              ...            ...   \n",
       "134524                                      0              NaN            NaN   \n",
       "134525                                      0       2017-06-27     2018-06-20   \n",
       "134526                                      0              NaN            NaN   \n",
       "134527                                      0       2016-04-01     2016-10-03   \n",
       "134528                                      0       2015-09-14     2016-03-14   \n",
       "\n",
       "       NextPaymentDate NextPaymentNr NrOfScheduledPayments  ReScheduledOn  \\\n",
       "0                  NaN           NaN                   NaN            NaN   \n",
       "1                  NaN           NaN                   NaN            NaN   \n",
       "2                  NaN           NaN                   NaN            NaN   \n",
       "3                  NaN           NaN                   NaN            NaN   \n",
       "4                  NaN           NaN                   NaN            NaN   \n",
       "...                ...           ...                   ...            ...   \n",
       "134524             NaN           NaN                   NaN            NaN   \n",
       "134525             NaN           NaN                   NaN            NaN   \n",
       "134526             NaN           0.0                  60.0            NaN   \n",
       "134527             NaN           NaN                   NaN            NaN   \n",
       "134528             NaN           0.0                  60.0     2015-09-09   \n",
       "\n",
       "        PrincipalDebtServicingCost  InterestAndPenaltyDebtServicingCost  \\\n",
       "0                              0.0                                 0.00   \n",
       "1                              0.0                                 0.00   \n",
       "2                              0.0                                 0.00   \n",
       "3                              0.0                                 0.00   \n",
       "4                              0.0                                 0.00   \n",
       "...                            ...                                  ...   \n",
       "134524                         0.0                              1040.06   \n",
       "134525                         0.0                                 0.00   \n",
       "134526                         0.0                              1051.85   \n",
       "134527                         0.0                               889.50   \n",
       "134528                         0.0                               604.80   \n",
       "\n",
       "        ActiveLateLastPaymentCategory  \n",
       "0                                 NaN  \n",
       "1                                 NaN  \n",
       "2                                180+  \n",
       "3                                 NaN  \n",
       "4                                180+  \n",
       "...                               ...  \n",
       "134524                           180+  \n",
       "134525                            NaN  \n",
       "134526                           8-15  \n",
       "134527                          31-60  \n",
       "134528                         91-120  \n",
       "\n",
       "[36575 rows x 112 columns]"
      ]
     },
     "execution_count": 44,
     "metadata": {},
     "output_type": "execute_result"
    }
   ],
   "source": [
    "modifed_data"
   ]
  },
  {
   "cell_type": "code",
   "execution_count": 41,
   "id": "09f7c16a",
   "metadata": {},
   "outputs": [
    {
     "data": {
      "text/plain": [
       "ReportAsOfEOD                              0\n",
       "LoanId                                     0\n",
       "LoanNumber                                 0\n",
       "ListedOnUTC                                0\n",
       "BiddingStartedOn                           0\n",
       "                                       ...  \n",
       "NrOfScheduledPayments                  23146\n",
       "ReScheduledOn                          28596\n",
       "PrincipalDebtServicingCost                 0\n",
       "InterestAndPenaltyDebtServicingCost        0\n",
       "ActiveLateLastPaymentCategory          17967\n",
       "Length: 112, dtype: int64"
      ]
     },
     "execution_count": 41,
     "metadata": {},
     "output_type": "execute_result"
    }
   ],
   "source": [
    "modifed_data.isnull().sum()"
   ]
  },
  {
   "cell_type": "code",
   "execution_count": 45,
   "id": "e4f68c59",
   "metadata": {},
   "outputs": [
    {
     "name": "stdout",
     "output_type": "stream",
     "text": [
      "64\n"
     ]
    }
   ],
   "source": [
    "\n",
    "drop_cols=['BidsApi', 'BidsPortfolioManager', 'BidsPortfolioManager', 'BidsManual',\n",
    "           'CurrentDebtDaysPrimary', 'CurrentDebtDaysPrimary', 'PrincipalOverdueBySchedule', \n",
    "           'PrincipalOverdueBySchedule', 'PrincipalOverdueBySchedule', 'IncomeFromPrincipalEmployer',\n",
    "           'IncomeFromPension', 'EAD1', 'EAD2', 'IncomeFromFamilyAllowance', 'IncomeFromSocialWelfare',\n",
    "           'IncomeFromLeavePay', 'IncomeFromChildSupport', 'IncomeOther', 'ReportAsOfEOD', 'LoanId','LoanNumber',\n",
    "           'ListedOnUTC','DateOfBirth','BiddingStartedOn','UserName','LoanApplicationStartedDate','FirstPaymentDate',\n",
    "           'LoanApplicationStartedDate','ApplicationSignedHour', 'ApplicationSignedWeekday',\n",
    "           'ActiveScheduleFirstPaymentReached','ModelVersion','WorseLateCategory','PlannedPrincipalTillDate',\n",
    "         'ProbabilityOfDefault', 'ExpectedLoss', 'LossGivenDefault', 'ExpectedReturn', 'GracePeriodStart', 'GracePeriodEnd',\n",
    "           'NextPaymentDate', 'NextPaymentNr', 'PreviousEarlyRepaymentsBefoleLoan', 'PreviousRepaymentsBeforeLoan',\n",
    "           \"NrOfScheduledPayments\",\"ReScheduledOn\",\"PrincipalDebtServicingCost\",\"InterestAndPenaltyDebtServicingCost\",\n",
    "           \"ActiveLateLastPaymentCategory\", 'PlannedInterestTillDate', 'CurrentDebtDaysSecondary',\n",
    "           'PlannedPrincipalPostDefault', 'PlannedInterestPostDefault', 'PrincipalRecovery',\n",
    "           'InterestRecovery', 'RecoveryStage', 'EL_V0', 'EL_V0', 'NrOfDependants', 'Rating_V0', 'CreditScoreEsEquifaxRisk', \n",
    "          'CreditScoreFiAsiakasTietoRiskGrade', 'GracePeriodStart','GracePeriodEnd', 'CreditScoreEeMini', 'PrincipalPaymentsMade',\n",
    "           'MonthlyPaymentDay','LastPaymentOn', 'DebtOccuredOn', 'DebtOccuredOnForSecondary', 'DefaultDate', 'StageActiveSince', 'EL_V1', \n",
    "           'Rating_V1', 'Rating_V2', 'ActiveLateCategory','CreditScoreEsMicroL', 'NewCreditCustomer','LoanDate',\n",
    "           'NewCreditCustomer','LoanDate','ContractEndDate','MaturityDate_Original','MaturityDate_Last', 'ContractEndDate', 'MaturityDate_Original', 'MaturityDate_Last'\n",
    "                                  , 'Restructured', 'InterestAndPenaltyPaymentsMade', \n",
    "                                  'PrincipalWriteOffs', 'InterestAndPenaltyWriteOffs', \n",
    "                                  'PrincipalBalance', 'InterestAndPenaltyBalance',  \n",
    "                                  'NoOfPreviousLoansBeforeLoan', 'AmountOfPreviousLoansBeforeLoan', \n",
    "                                  'PreviousEarlyRepaymentsCountBeforeLoan' ]\n",
    "print(len(drop_cols))\n",
    "modifed_data.drop(drop_cols,axis=1,inplace=True)\n",
    "\n",
    "\n",
    "\n"
   ]
  },
  {
   "cell_type": "code",
   "execution_count": 124,
   "id": "d03431c0",
   "metadata": {},
   "outputs": [
    {
     "name": "stdout",
     "output_type": "stream",
     "text": [
      "1\n"
     ]
    }
   ],
   "source": [
    "drop_cols=['EmploymentPosition']\n",
    "print(len(drop_cols))\n",
    "modifed_data.drop(drop_cols,axis=1,inplace=True)\n"
   ]
  },
  {
   "cell_type": "code",
   "execution_count": 125,
   "id": "7cd41226",
   "metadata": {},
   "outputs": [
    {
     "data": {
      "text/html": [
       "<div>\n",
       "<style scoped>\n",
       "    .dataframe tbody tr th:only-of-type {\n",
       "        vertical-align: middle;\n",
       "    }\n",
       "\n",
       "    .dataframe tbody tr th {\n",
       "        vertical-align: top;\n",
       "    }\n",
       "\n",
       "    .dataframe thead th {\n",
       "        text-align: right;\n",
       "    }\n",
       "</style>\n",
       "<table border=\"1\" class=\"dataframe\">\n",
       "  <thead>\n",
       "    <tr style=\"text-align: right;\">\n",
       "      <th></th>\n",
       "      <th>VerificationType</th>\n",
       "      <th>LanguageCode</th>\n",
       "      <th>Age</th>\n",
       "      <th>Gender</th>\n",
       "      <th>Country</th>\n",
       "      <th>AppliedAmount</th>\n",
       "      <th>Amount</th>\n",
       "      <th>Interest</th>\n",
       "      <th>LoanDuration</th>\n",
       "      <th>MonthlyPayment</th>\n",
       "      <th>...</th>\n",
       "      <th>OccupationArea</th>\n",
       "      <th>HomeOwnershipType</th>\n",
       "      <th>IncomeTotal</th>\n",
       "      <th>ExistingLiabilities</th>\n",
       "      <th>LiabilitiesTotal</th>\n",
       "      <th>RefinanceLiabilities</th>\n",
       "      <th>DebtToIncome</th>\n",
       "      <th>FreeCash</th>\n",
       "      <th>Rating</th>\n",
       "      <th>Status</th>\n",
       "    </tr>\n",
       "  </thead>\n",
       "  <tbody>\n",
       "    <tr>\n",
       "      <th>0</th>\n",
       "      <td>2.0</td>\n",
       "      <td>1</td>\n",
       "      <td>61</td>\n",
       "      <td>Woman</td>\n",
       "      <td>EE</td>\n",
       "      <td>319.5582</td>\n",
       "      <td>115.0408</td>\n",
       "      <td>30.00</td>\n",
       "      <td>12</td>\n",
       "      <td>NaN</td>\n",
       "      <td>...</td>\n",
       "      <td>7.0</td>\n",
       "      <td>NaN</td>\n",
       "      <td>10500.0</td>\n",
       "      <td>0</td>\n",
       "      <td>0.00</td>\n",
       "      <td>0</td>\n",
       "      <td>0.00</td>\n",
       "      <td>0.00</td>\n",
       "      <td>NaN</td>\n",
       "      <td>Repaid</td>\n",
       "    </tr>\n",
       "    <tr>\n",
       "      <th>1</th>\n",
       "      <td>2.0</td>\n",
       "      <td>1</td>\n",
       "      <td>48</td>\n",
       "      <td>Woman</td>\n",
       "      <td>EE</td>\n",
       "      <td>191.7349</td>\n",
       "      <td>140.6057</td>\n",
       "      <td>25.00</td>\n",
       "      <td>1</td>\n",
       "      <td>NaN</td>\n",
       "      <td>...</td>\n",
       "      <td>16.0</td>\n",
       "      <td>NaN</td>\n",
       "      <td>10800.0</td>\n",
       "      <td>0</td>\n",
       "      <td>0.00</td>\n",
       "      <td>0</td>\n",
       "      <td>0.00</td>\n",
       "      <td>0.00</td>\n",
       "      <td>NaN</td>\n",
       "      <td>Repaid</td>\n",
       "    </tr>\n",
       "    <tr>\n",
       "      <th>2</th>\n",
       "      <td>2.0</td>\n",
       "      <td>1</td>\n",
       "      <td>58</td>\n",
       "      <td>Woman</td>\n",
       "      <td>EE</td>\n",
       "      <td>319.5582</td>\n",
       "      <td>319.5409</td>\n",
       "      <td>25.00</td>\n",
       "      <td>20</td>\n",
       "      <td>NaN</td>\n",
       "      <td>...</td>\n",
       "      <td>9.0</td>\n",
       "      <td>NaN</td>\n",
       "      <td>7000.0</td>\n",
       "      <td>0</td>\n",
       "      <td>0.00</td>\n",
       "      <td>0</td>\n",
       "      <td>0.00</td>\n",
       "      <td>0.00</td>\n",
       "      <td>NaN</td>\n",
       "      <td>Late</td>\n",
       "    </tr>\n",
       "    <tr>\n",
       "      <th>3</th>\n",
       "      <td>2.0</td>\n",
       "      <td>1</td>\n",
       "      <td>23</td>\n",
       "      <td>Woman</td>\n",
       "      <td>EE</td>\n",
       "      <td>127.8233</td>\n",
       "      <td>57.5205</td>\n",
       "      <td>45.00</td>\n",
       "      <td>15</td>\n",
       "      <td>NaN</td>\n",
       "      <td>...</td>\n",
       "      <td>1.0</td>\n",
       "      <td>NaN</td>\n",
       "      <td>11600.0</td>\n",
       "      <td>0</td>\n",
       "      <td>0.00</td>\n",
       "      <td>0</td>\n",
       "      <td>0.00</td>\n",
       "      <td>0.00</td>\n",
       "      <td>NaN</td>\n",
       "      <td>Repaid</td>\n",
       "    </tr>\n",
       "    <tr>\n",
       "      <th>4</th>\n",
       "      <td>2.0</td>\n",
       "      <td>1</td>\n",
       "      <td>25</td>\n",
       "      <td>Woman</td>\n",
       "      <td>EE</td>\n",
       "      <td>319.5582</td>\n",
       "      <td>319.5436</td>\n",
       "      <td>30.00</td>\n",
       "      <td>12</td>\n",
       "      <td>NaN</td>\n",
       "      <td>...</td>\n",
       "      <td>7.0</td>\n",
       "      <td>NaN</td>\n",
       "      <td>6800.0</td>\n",
       "      <td>0</td>\n",
       "      <td>0.00</td>\n",
       "      <td>0</td>\n",
       "      <td>0.00</td>\n",
       "      <td>0.00</td>\n",
       "      <td>NaN</td>\n",
       "      <td>Repaid</td>\n",
       "    </tr>\n",
       "    <tr>\n",
       "      <th>...</th>\n",
       "      <td>...</td>\n",
       "      <td>...</td>\n",
       "      <td>...</td>\n",
       "      <td>...</td>\n",
       "      <td>...</td>\n",
       "      <td>...</td>\n",
       "      <td>...</td>\n",
       "      <td>...</td>\n",
       "      <td>...</td>\n",
       "      <td>...</td>\n",
       "      <td>...</td>\n",
       "      <td>...</td>\n",
       "      <td>...</td>\n",
       "      <td>...</td>\n",
       "      <td>...</td>\n",
       "      <td>...</td>\n",
       "      <td>...</td>\n",
       "      <td>...</td>\n",
       "      <td>...</td>\n",
       "      <td>...</td>\n",
       "      <td>...</td>\n",
       "    </tr>\n",
       "    <tr>\n",
       "      <th>134524</th>\n",
       "      <td>3.0</td>\n",
       "      <td>4</td>\n",
       "      <td>37</td>\n",
       "      <td>Male</td>\n",
       "      <td>FI</td>\n",
       "      <td>3000.0000</td>\n",
       "      <td>3000.0000</td>\n",
       "      <td>31.01</td>\n",
       "      <td>60</td>\n",
       "      <td>107.68</td>\n",
       "      <td>...</td>\n",
       "      <td>1.0</td>\n",
       "      <td>Council house</td>\n",
       "      <td>1400.0</td>\n",
       "      <td>1</td>\n",
       "      <td>500.00</td>\n",
       "      <td>0</td>\n",
       "      <td>7.69</td>\n",
       "      <td>792.32</td>\n",
       "      <td>E</td>\n",
       "      <td>Repaid</td>\n",
       "    </tr>\n",
       "    <tr>\n",
       "      <th>134525</th>\n",
       "      <td>3.0</td>\n",
       "      <td>4</td>\n",
       "      <td>35</td>\n",
       "      <td>Male</td>\n",
       "      <td>FI</td>\n",
       "      <td>3000.0000</td>\n",
       "      <td>3000.0000</td>\n",
       "      <td>18.25</td>\n",
       "      <td>60</td>\n",
       "      <td>85.33</td>\n",
       "      <td>...</td>\n",
       "      <td>8.0</td>\n",
       "      <td>Owner</td>\n",
       "      <td>2265.0</td>\n",
       "      <td>5</td>\n",
       "      <td>1777.46</td>\n",
       "      <td>0</td>\n",
       "      <td>31.58</td>\n",
       "      <td>520.67</td>\n",
       "      <td>B</td>\n",
       "      <td>Repaid</td>\n",
       "    </tr>\n",
       "    <tr>\n",
       "      <th>134526</th>\n",
       "      <td>1.0</td>\n",
       "      <td>4</td>\n",
       "      <td>40</td>\n",
       "      <td>Male</td>\n",
       "      <td>FI</td>\n",
       "      <td>2500.0000</td>\n",
       "      <td>2500.0000</td>\n",
       "      <td>24.83</td>\n",
       "      <td>60</td>\n",
       "      <td>80.42</td>\n",
       "      <td>...</td>\n",
       "      <td>6.0</td>\n",
       "      <td>Owner</td>\n",
       "      <td>2500.0</td>\n",
       "      <td>2</td>\n",
       "      <td>1350.00</td>\n",
       "      <td>0</td>\n",
       "      <td>3.22</td>\n",
       "      <td>1069.58</td>\n",
       "      <td>D</td>\n",
       "      <td>Late</td>\n",
       "    </tr>\n",
       "    <tr>\n",
       "      <th>134527</th>\n",
       "      <td>4.0</td>\n",
       "      <td>1</td>\n",
       "      <td>47</td>\n",
       "      <td>Woman</td>\n",
       "      <td>EE</td>\n",
       "      <td>3000.0000</td>\n",
       "      <td>3000.0000</td>\n",
       "      <td>17.74</td>\n",
       "      <td>60</td>\n",
       "      <td>84.51</td>\n",
       "      <td>...</td>\n",
       "      <td>17.0</td>\n",
       "      <td>Tenant, unfurnished property</td>\n",
       "      <td>540.0</td>\n",
       "      <td>8</td>\n",
       "      <td>732.05</td>\n",
       "      <td>2</td>\n",
       "      <td>44.35</td>\n",
       "      <td>50.49</td>\n",
       "      <td>B</td>\n",
       "      <td>Repaid</td>\n",
       "    </tr>\n",
       "    <tr>\n",
       "      <th>134528</th>\n",
       "      <td>4.0</td>\n",
       "      <td>1</td>\n",
       "      <td>21</td>\n",
       "      <td>Woman</td>\n",
       "      <td>EE</td>\n",
       "      <td>3000.0000</td>\n",
       "      <td>3000.0000</td>\n",
       "      <td>30.50</td>\n",
       "      <td>60</td>\n",
       "      <td>106.74</td>\n",
       "      <td>...</td>\n",
       "      <td>19.0</td>\n",
       "      <td>Living with parents</td>\n",
       "      <td>500.0</td>\n",
       "      <td>5</td>\n",
       "      <td>531.03</td>\n",
       "      <td>1</td>\n",
       "      <td>35.03</td>\n",
       "      <td>74.86</td>\n",
       "      <td>D</td>\n",
       "      <td>Late</td>\n",
       "    </tr>\n",
       "  </tbody>\n",
       "</table>\n",
       "<p>36575 rows × 28 columns</p>\n",
       "</div>"
      ],
      "text/plain": [
       "        VerificationType  LanguageCode  Age Gender Country  AppliedAmount  \\\n",
       "0                    2.0             1   61  Woman      EE       319.5582   \n",
       "1                    2.0             1   48  Woman      EE       191.7349   \n",
       "2                    2.0             1   58  Woman      EE       319.5582   \n",
       "3                    2.0             1   23  Woman      EE       127.8233   \n",
       "4                    2.0             1   25  Woman      EE       319.5582   \n",
       "...                  ...           ...  ...    ...     ...            ...   \n",
       "134524               3.0             4   37   Male      FI      3000.0000   \n",
       "134525               3.0             4   35   Male      FI      3000.0000   \n",
       "134526               1.0             4   40   Male      FI      2500.0000   \n",
       "134527               4.0             1   47  Woman      EE      3000.0000   \n",
       "134528               4.0             1   21  Woman      EE      3000.0000   \n",
       "\n",
       "           Amount  Interest  LoanDuration  MonthlyPayment  ... OccupationArea  \\\n",
       "0        115.0408     30.00            12             NaN  ...            7.0   \n",
       "1        140.6057     25.00             1             NaN  ...           16.0   \n",
       "2        319.5409     25.00            20             NaN  ...            9.0   \n",
       "3         57.5205     45.00            15             NaN  ...            1.0   \n",
       "4        319.5436     30.00            12             NaN  ...            7.0   \n",
       "...           ...       ...           ...             ...  ...            ...   \n",
       "134524  3000.0000     31.01            60          107.68  ...            1.0   \n",
       "134525  3000.0000     18.25            60           85.33  ...            8.0   \n",
       "134526  2500.0000     24.83            60           80.42  ...            6.0   \n",
       "134527  3000.0000     17.74            60           84.51  ...           17.0   \n",
       "134528  3000.0000     30.50            60          106.74  ...           19.0   \n",
       "\n",
       "                   HomeOwnershipType IncomeTotal  ExistingLiabilities  \\\n",
       "0                                NaN     10500.0                    0   \n",
       "1                                NaN     10800.0                    0   \n",
       "2                                NaN      7000.0                    0   \n",
       "3                                NaN     11600.0                    0   \n",
       "4                                NaN      6800.0                    0   \n",
       "...                              ...         ...                  ...   \n",
       "134524                 Council house      1400.0                    1   \n",
       "134525                         Owner      2265.0                    5   \n",
       "134526                         Owner      2500.0                    2   \n",
       "134527  Tenant, unfurnished property       540.0                    8   \n",
       "134528           Living with parents       500.0                    5   \n",
       "\n",
       "       LiabilitiesTotal  RefinanceLiabilities DebtToIncome FreeCash  Rating  \\\n",
       "0                  0.00                     0         0.00     0.00     NaN   \n",
       "1                  0.00                     0         0.00     0.00     NaN   \n",
       "2                  0.00                     0         0.00     0.00     NaN   \n",
       "3                  0.00                     0         0.00     0.00     NaN   \n",
       "4                  0.00                     0         0.00     0.00     NaN   \n",
       "...                 ...                   ...          ...      ...     ...   \n",
       "134524           500.00                     0         7.69   792.32       E   \n",
       "134525          1777.46                     0        31.58   520.67       B   \n",
       "134526          1350.00                     0         3.22  1069.58       D   \n",
       "134527           732.05                     2        44.35    50.49       B   \n",
       "134528           531.03                     1        35.03    74.86       D   \n",
       "\n",
       "        Status  \n",
       "0       Repaid  \n",
       "1       Repaid  \n",
       "2         Late  \n",
       "3       Repaid  \n",
       "4       Repaid  \n",
       "...        ...  \n",
       "134524  Repaid  \n",
       "134525  Repaid  \n",
       "134526    Late  \n",
       "134527  Repaid  \n",
       "134528    Late  \n",
       "\n",
       "[36575 rows x 28 columns]"
      ]
     },
     "execution_count": 125,
     "metadata": {},
     "output_type": "execute_result"
    }
   ],
   "source": [
    "modifed_data"
   ]
  },
  {
   "cell_type": "markdown",
   "id": "e9832ba1",
   "metadata": {},
   "source": [
    "# UseOfLoan\n",
    "\n",
    "it was 111, and 1xx encoding will all be summed into bigger category "
   ]
  },
  {
   "cell_type": "code",
   "execution_count": 49,
   "id": "f4da199d",
   "metadata": {},
   "outputs": [
    {
     "data": {
      "text/plain": [
       "0         7\n",
       "1         7\n",
       "2         2\n",
       "3         0\n",
       "4         6\n",
       "         ..\n",
       "134524    0\n",
       "134525    2\n",
       "134526    0\n",
       "134527    7\n",
       "134528    0\n",
       "Name: UseOfLoan, Length: 36575, dtype: int64"
      ]
     },
     "execution_count": 49,
     "metadata": {},
     "output_type": "execute_result"
    }
   ],
   "source": [
    "modifed_data['UseOfLoan']"
   ]
  },
  {
   "cell_type": "code",
   "execution_count": 50,
   "id": "8e01651e",
   "metadata": {},
   "outputs": [
    {
     "data": {
      "text/plain": [
       "<AxesSubplot:xlabel='UseOfLoan', ylabel='count'>"
      ]
     },
     "execution_count": 50,
     "metadata": {},
     "output_type": "execute_result"
    },
    {
     "data": {
      "image/png": "[encoded data removed]",
      "text/plain": [
       "<Figure size 432x288 with 1 Axes>"
      ]
     },
     "metadata": {
      "needs_background": "light"
     },
     "output_type": "display_data"
    }
   ],
   "source": [
    "sns.countplot(modifed_data.UseOfLoan)"
   ]
  },
  {
   "cell_type": "code",
   "execution_count": 72,
   "id": "ceb3e283",
   "metadata": {},
   "outputs": [],
   "source": [
    "# Group 0: Loan Consolidation\n",
    "loan_consolidation = [0]\n",
    "\n",
    "# Group 1: Personal\n",
    "personal = [2, 4, 5, 6, 8]\n",
    "\n",
    "# Group 2: Business\n",
    "business = [1, 3, 101, 102, 103, 104, 105, 106, 107, 108, 109, 110]\n",
    "\n",
    "modifed_data['UseOfLoan'] = modifed_data['UseOfLoan'].replace({i: 'Loan Consolidation' for i in loan_consolidation})\\\n",
    "                           .replace({i: 'Personal' for i in personal})\\\n",
    "                           .replace({i: 'Business' for i in business})\n"
   ]
  },
  {
   "cell_type": "code",
   "execution_count": 74,
   "id": "6dfa603e",
   "metadata": {},
   "outputs": [],
   "source": [
    "modifed_data['UseOfLoan'] = modifed_data['UseOfLoan'].replace({7: 'Other'UseOfLoan})\n"
   ]
  },
  {
   "cell_type": "code",
   "execution_count": 75,
   "id": "2a861aa1",
   "metadata": {},
   "outputs": [
    {
     "data": {
      "text/plain": [
       "<AxesSubplot:xlabel='UseOfLoan', ylabel='count'>"
      ]
     },
     "execution_count": 75,
     "metadata": {},
     "output_type": "execute_result"
    },
    {
     "data": {
      "image/png": "[encoded data removed]",
      "text/plain": [
       "<Figure size 432x288 with 1 Axes>"
      ]
     },
     "metadata": {
      "needs_background": "light"
     },
     "output_type": "display_data"
    }
   ],
   "source": [
    "sns.countplot(modifed_data.UseOfLoan)"
   ]
  },
  {
   "cell_type": "code",
   "execution_count": 77,
   "id": "1ddf7d2a",
   "metadata": {},
   "outputs": [
    {
     "data": {
      "text/plain": [
       "Index(['VerificationType', 'LanguageCode', 'Age', 'Gender', 'Country',\n",
       "       'AppliedAmount', 'Amount', 'Interest', 'LoanDuration', 'MonthlyPayment',\n",
       "       'County', 'City', 'UseOfLoan', 'Education', 'MaritalStatus',\n",
       "       'EmploymentStatus', 'EmploymentDurationCurrentEmployer',\n",
       "       'EmploymentPosition', 'WorkExperience', 'OccupationArea',\n",
       "       'HomeOwnershipType', 'IncomeTotal', 'ExistingLiabilities',\n",
       "       'LiabilitiesTotal', 'RefinanceLiabilities', 'DebtToIncome', 'FreeCash',\n",
       "       'Rating', 'Status'],\n",
       "      dtype='object')"
      ]
     },
     "execution_count": 77,
     "metadata": {},
     "output_type": "execute_result"
    }
   ],
   "source": [
    "modifed_data.columns"
   ]
  },
  {
   "cell_type": "markdown",
   "id": "01c52272",
   "metadata": {},
   "source": [
    "# EDA"
   ]
  },
  {
   "cell_type": "code",
   "execution_count": 81,
   "id": "e2b95d69",
   "metadata": {
    "scrolled": true
   },
   "outputs": [
    {
     "data": {
      "text/plain": [
       "VerificationType        float64\n",
       "LanguageCode              int64\n",
       "Age                       int64\n",
       "AppliedAmount           float64\n",
       "Amount                  float64\n",
       "Interest                float64\n",
       "LoanDuration              int64\n",
       "MonthlyPayment          float64\n",
       "Education               float64\n",
       "EmploymentStatus        float64\n",
       "OccupationArea          float64\n",
       "HomeOwnershipType       float64\n",
       "IncomeTotal             float64\n",
       "ExistingLiabilities       int64\n",
       "LiabilitiesTotal        float64\n",
       "RefinanceLiabilities      int64\n",
       "DebtToIncome            float64\n",
       "FreeCash                float64\n",
       "dtype: object"
      ]
     },
     "execution_count": 81,
     "metadata": {},
     "output_type": "execute_result"
    }
   ],
   "source": [
    "numeric_features = modifed_data.select_dtypes(include=[np.number])\n",
    "numeric_features.dtypes"
   ]
  },
  {
   "cell_type": "code",
   "execution_count": 126,
   "id": "f236edff",
   "metadata": {
    "scrolled": true
   },
   "outputs": [
    {
     "data": {
      "text/html": [
       "<div>\n",
       "<style scoped>\n",
       "    .dataframe tbody tr th:only-of-type {\n",
       "        vertical-align: middle;\n",
       "    }\n",
       "\n",
       "    .dataframe tbody tr th {\n",
       "        vertical-align: top;\n",
       "    }\n",
       "\n",
       "    .dataframe thead th {\n",
       "        text-align: right;\n",
       "    }\n",
       "</style>\n",
       "<table border=\"1\" class=\"dataframe\">\n",
       "  <thead>\n",
       "    <tr style=\"text-align: right;\">\n",
       "      <th></th>\n",
       "      <th>VerificationType</th>\n",
       "      <th>LanguageCode</th>\n",
       "      <th>Age</th>\n",
       "      <th>AppliedAmount</th>\n",
       "      <th>Amount</th>\n",
       "      <th>Interest</th>\n",
       "      <th>LoanDuration</th>\n",
       "      <th>MonthlyPayment</th>\n",
       "      <th>Education</th>\n",
       "      <th>EmploymentStatus</th>\n",
       "      <th>OccupationArea</th>\n",
       "      <th>HomeOwnershipType</th>\n",
       "      <th>IncomeTotal</th>\n",
       "      <th>ExistingLiabilities</th>\n",
       "      <th>LiabilitiesTotal</th>\n",
       "      <th>RefinanceLiabilities</th>\n",
       "      <th>DebtToIncome</th>\n",
       "      <th>FreeCash</th>\n",
       "    </tr>\n",
       "  </thead>\n",
       "  <tbody>\n",
       "    <tr>\n",
       "      <th>VerificationType</th>\n",
       "      <td>1.000000</td>\n",
       "      <td>-0.080714</td>\n",
       "      <td>-0.062024</td>\n",
       "      <td>0.085339</td>\n",
       "      <td>0.164207</td>\n",
       "      <td>-0.204733</td>\n",
       "      <td>0.042771</td>\n",
       "      <td>-0.130125</td>\n",
       "      <td>-0.005835</td>\n",
       "      <td>-0.096816</td>\n",
       "      <td>-0.006842</td>\n",
       "      <td>0.079536</td>\n",
       "      <td>-0.119102</td>\n",
       "      <td>0.330802</td>\n",
       "      <td>0.013828</td>\n",
       "      <td>0.267951</td>\n",
       "      <td>0.192282</td>\n",
       "      <td>-0.056987</td>\n",
       "    </tr>\n",
       "    <tr>\n",
       "      <th>LanguageCode</th>\n",
       "      <td>-0.080714</td>\n",
       "      <td>1.000000</td>\n",
       "      <td>0.121473</td>\n",
       "      <td>0.093473</td>\n",
       "      <td>-0.001078</td>\n",
       "      <td>0.463720</td>\n",
       "      <td>0.115355</td>\n",
       "      <td>0.195177</td>\n",
       "      <td>-0.026994</td>\n",
       "      <td>0.068786</td>\n",
       "      <td>0.008308</td>\n",
       "      <td>-0.018858</td>\n",
       "      <td>-0.055782</td>\n",
       "      <td>-0.025773</td>\n",
       "      <td>0.105422</td>\n",
       "      <td>-0.049627</td>\n",
       "      <td>0.076199</td>\n",
       "      <td>0.070933</td>\n",
       "    </tr>\n",
       "    <tr>\n",
       "      <th>Age</th>\n",
       "      <td>-0.062024</td>\n",
       "      <td>0.121473</td>\n",
       "      <td>1.000000</td>\n",
       "      <td>0.097251</td>\n",
       "      <td>0.091586</td>\n",
       "      <td>-0.069617</td>\n",
       "      <td>0.112121</td>\n",
       "      <td>0.005294</td>\n",
       "      <td>0.083804</td>\n",
       "      <td>0.303463</td>\n",
       "      <td>0.043113</td>\n",
       "      <td>-0.008515</td>\n",
       "      <td>-0.030994</td>\n",
       "      <td>0.081154</td>\n",
       "      <td>0.078042</td>\n",
       "      <td>0.002207</td>\n",
       "      <td>0.036994</td>\n",
       "      <td>0.031785</td>\n",
       "    </tr>\n",
       "    <tr>\n",
       "      <th>AppliedAmount</th>\n",
       "      <td>0.085339</td>\n",
       "      <td>0.093473</td>\n",
       "      <td>0.097251</td>\n",
       "      <td>1.000000</td>\n",
       "      <td>0.854283</td>\n",
       "      <td>-0.007389</td>\n",
       "      <td>0.361760</td>\n",
       "      <td>0.604783</td>\n",
       "      <td>0.040538</td>\n",
       "      <td>0.054311</td>\n",
       "      <td>0.013627</td>\n",
       "      <td>0.067711</td>\n",
       "      <td>-0.084868</td>\n",
       "      <td>0.183192</td>\n",
       "      <td>0.132365</td>\n",
       "      <td>0.191238</td>\n",
       "      <td>0.329974</td>\n",
       "      <td>0.054198</td>\n",
       "    </tr>\n",
       "    <tr>\n",
       "      <th>Amount</th>\n",
       "      <td>0.164207</td>\n",
       "      <td>-0.001078</td>\n",
       "      <td>0.091586</td>\n",
       "      <td>0.854283</td>\n",
       "      <td>1.000000</td>\n",
       "      <td>-0.122477</td>\n",
       "      <td>0.340253</td>\n",
       "      <td>0.350943</td>\n",
       "      <td>0.038457</td>\n",
       "      <td>0.041835</td>\n",
       "      <td>0.016976</td>\n",
       "      <td>0.079060</td>\n",
       "      <td>-0.108449</td>\n",
       "      <td>0.250548</td>\n",
       "      <td>0.120674</td>\n",
       "      <td>0.273166</td>\n",
       "      <td>0.278329</td>\n",
       "      <td>0.046697</td>\n",
       "    </tr>\n",
       "    <tr>\n",
       "      <th>Interest</th>\n",
       "      <td>-0.204733</td>\n",
       "      <td>0.463720</td>\n",
       "      <td>-0.069617</td>\n",
       "      <td>-0.007389</td>\n",
       "      <td>-0.122477</td>\n",
       "      <td>1.000000</td>\n",
       "      <td>-0.058481</td>\n",
       "      <td>0.410104</td>\n",
       "      <td>-0.045061</td>\n",
       "      <td>-0.008293</td>\n",
       "      <td>-0.008715</td>\n",
       "      <td>-0.055568</td>\n",
       "      <td>0.000119</td>\n",
       "      <td>-0.068139</td>\n",
       "      <td>0.028969</td>\n",
       "      <td>-0.047120</td>\n",
       "      <td>0.140201</td>\n",
       "      <td>-0.006806</td>\n",
       "    </tr>\n",
       "    <tr>\n",
       "      <th>LoanDuration</th>\n",
       "      <td>0.042771</td>\n",
       "      <td>0.115355</td>\n",
       "      <td>0.112121</td>\n",
       "      <td>0.361760</td>\n",
       "      <td>0.340253</td>\n",
       "      <td>-0.058481</td>\n",
       "      <td>1.000000</td>\n",
       "      <td>-0.159918</td>\n",
       "      <td>-0.054278</td>\n",
       "      <td>0.030373</td>\n",
       "      <td>0.002834</td>\n",
       "      <td>0.007761</td>\n",
       "      <td>-0.242088</td>\n",
       "      <td>0.168337</td>\n",
       "      <td>0.058005</td>\n",
       "      <td>0.086152</td>\n",
       "      <td>0.159911</td>\n",
       "      <td>0.042583</td>\n",
       "    </tr>\n",
       "    <tr>\n",
       "      <th>MonthlyPayment</th>\n",
       "      <td>-0.130125</td>\n",
       "      <td>0.195177</td>\n",
       "      <td>0.005294</td>\n",
       "      <td>0.604783</td>\n",
       "      <td>0.350943</td>\n",
       "      <td>0.410104</td>\n",
       "      <td>-0.159918</td>\n",
       "      <td>1.000000</td>\n",
       "      <td>0.043865</td>\n",
       "      <td>0.044968</td>\n",
       "      <td>0.015135</td>\n",
       "      <td>0.005706</td>\n",
       "      <td>0.118291</td>\n",
       "      <td>-0.065362</td>\n",
       "      <td>0.154661</td>\n",
       "      <td>-0.059246</td>\n",
       "      <td>0.327445</td>\n",
       "      <td>-0.000016</td>\n",
       "    </tr>\n",
       "    <tr>\n",
       "      <th>Education</th>\n",
       "      <td>-0.005835</td>\n",
       "      <td>-0.026994</td>\n",
       "      <td>0.083804</td>\n",
       "      <td>0.040538</td>\n",
       "      <td>0.038457</td>\n",
       "      <td>-0.045061</td>\n",
       "      <td>-0.054278</td>\n",
       "      <td>0.043865</td>\n",
       "      <td>1.000000</td>\n",
       "      <td>-0.010797</td>\n",
       "      <td>0.200363</td>\n",
       "      <td>0.032305</td>\n",
       "      <td>0.050237</td>\n",
       "      <td>0.028293</td>\n",
       "      <td>0.040568</td>\n",
       "      <td>-0.022877</td>\n",
       "      <td>-0.030777</td>\n",
       "      <td>0.027615</td>\n",
       "    </tr>\n",
       "    <tr>\n",
       "      <th>EmploymentStatus</th>\n",
       "      <td>-0.096816</td>\n",
       "      <td>0.068786</td>\n",
       "      <td>0.303463</td>\n",
       "      <td>0.054311</td>\n",
       "      <td>0.041835</td>\n",
       "      <td>-0.008293</td>\n",
       "      <td>0.030373</td>\n",
       "      <td>0.044968</td>\n",
       "      <td>-0.010797</td>\n",
       "      <td>1.000000</td>\n",
       "      <td>-0.109030</td>\n",
       "      <td>-0.019984</td>\n",
       "      <td>-0.004869</td>\n",
       "      <td>-0.029655</td>\n",
       "      <td>0.028197</td>\n",
       "      <td>-0.028527</td>\n",
       "      <td>-0.014090</td>\n",
       "      <td>0.021730</td>\n",
       "    </tr>\n",
       "    <tr>\n",
       "      <th>OccupationArea</th>\n",
       "      <td>-0.006842</td>\n",
       "      <td>0.008308</td>\n",
       "      <td>0.043113</td>\n",
       "      <td>0.013627</td>\n",
       "      <td>0.016976</td>\n",
       "      <td>-0.008715</td>\n",
       "      <td>0.002834</td>\n",
       "      <td>0.015135</td>\n",
       "      <td>0.200363</td>\n",
       "      <td>-0.109030</td>\n",
       "      <td>1.000000</td>\n",
       "      <td>0.038333</td>\n",
       "      <td>0.036840</td>\n",
       "      <td>0.033592</td>\n",
       "      <td>0.044877</td>\n",
       "      <td>-0.005997</td>\n",
       "      <td>0.005616</td>\n",
       "      <td>0.016951</td>\n",
       "    </tr>\n",
       "    <tr>\n",
       "      <th>HomeOwnershipType</th>\n",
       "      <td>0.079536</td>\n",
       "      <td>-0.018858</td>\n",
       "      <td>-0.008515</td>\n",
       "      <td>0.067711</td>\n",
       "      <td>0.079060</td>\n",
       "      <td>-0.055568</td>\n",
       "      <td>0.007761</td>\n",
       "      <td>0.005706</td>\n",
       "      <td>0.032305</td>\n",
       "      <td>-0.019984</td>\n",
       "      <td>0.038333</td>\n",
       "      <td>1.000000</td>\n",
       "      <td>0.028249</td>\n",
       "      <td>0.118752</td>\n",
       "      <td>0.100206</td>\n",
       "      <td>0.024091</td>\n",
       "      <td>-0.028487</td>\n",
       "      <td>0.006823</td>\n",
       "    </tr>\n",
       "    <tr>\n",
       "      <th>IncomeTotal</th>\n",
       "      <td>-0.119102</td>\n",
       "      <td>-0.055782</td>\n",
       "      <td>-0.030994</td>\n",
       "      <td>-0.084868</td>\n",
       "      <td>-0.108449</td>\n",
       "      <td>0.000119</td>\n",
       "      <td>-0.242088</td>\n",
       "      <td>0.118291</td>\n",
       "      <td>0.050237</td>\n",
       "      <td>-0.004869</td>\n",
       "      <td>0.036840</td>\n",
       "      <td>0.028249</td>\n",
       "      <td>1.000000</td>\n",
       "      <td>-0.145806</td>\n",
       "      <td>0.296360</td>\n",
       "      <td>-0.032604</td>\n",
       "      <td>-0.252465</td>\n",
       "      <td>0.453777</td>\n",
       "    </tr>\n",
       "    <tr>\n",
       "      <th>ExistingLiabilities</th>\n",
       "      <td>0.330802</td>\n",
       "      <td>-0.025773</td>\n",
       "      <td>0.081154</td>\n",
       "      <td>0.183192</td>\n",
       "      <td>0.250548</td>\n",
       "      <td>-0.068139</td>\n",
       "      <td>0.168337</td>\n",
       "      <td>-0.065362</td>\n",
       "      <td>0.028293</td>\n",
       "      <td>-0.029655</td>\n",
       "      <td>0.033592</td>\n",
       "      <td>0.118752</td>\n",
       "      <td>-0.145806</td>\n",
       "      <td>1.000000</td>\n",
       "      <td>0.263205</td>\n",
       "      <td>0.595725</td>\n",
       "      <td>0.553775</td>\n",
       "      <td>-0.056827</td>\n",
       "    </tr>\n",
       "    <tr>\n",
       "      <th>LiabilitiesTotal</th>\n",
       "      <td>0.013828</td>\n",
       "      <td>0.105422</td>\n",
       "      <td>0.078042</td>\n",
       "      <td>0.132365</td>\n",
       "      <td>0.120674</td>\n",
       "      <td>0.028969</td>\n",
       "      <td>0.058005</td>\n",
       "      <td>0.154661</td>\n",
       "      <td>0.040568</td>\n",
       "      <td>0.028197</td>\n",
       "      <td>0.044877</td>\n",
       "      <td>0.100206</td>\n",
       "      <td>0.296360</td>\n",
       "      <td>0.263205</td>\n",
       "      <td>1.000000</td>\n",
       "      <td>0.159183</td>\n",
       "      <td>0.141174</td>\n",
       "      <td>0.399265</td>\n",
       "    </tr>\n",
       "    <tr>\n",
       "      <th>RefinanceLiabilities</th>\n",
       "      <td>0.267951</td>\n",
       "      <td>-0.049627</td>\n",
       "      <td>0.002207</td>\n",
       "      <td>0.191238</td>\n",
       "      <td>0.273166</td>\n",
       "      <td>-0.047120</td>\n",
       "      <td>0.086152</td>\n",
       "      <td>-0.059246</td>\n",
       "      <td>-0.022877</td>\n",
       "      <td>-0.028527</td>\n",
       "      <td>-0.005997</td>\n",
       "      <td>0.024091</td>\n",
       "      <td>-0.032604</td>\n",
       "      <td>0.595725</td>\n",
       "      <td>0.159183</td>\n",
       "      <td>1.000000</td>\n",
       "      <td>0.190167</td>\n",
       "      <td>-0.057364</td>\n",
       "    </tr>\n",
       "    <tr>\n",
       "      <th>DebtToIncome</th>\n",
       "      <td>0.192282</td>\n",
       "      <td>0.076199</td>\n",
       "      <td>0.036994</td>\n",
       "      <td>0.329974</td>\n",
       "      <td>0.278329</td>\n",
       "      <td>0.140201</td>\n",
       "      <td>0.159911</td>\n",
       "      <td>0.327445</td>\n",
       "      <td>-0.030777</td>\n",
       "      <td>-0.014090</td>\n",
       "      <td>0.005616</td>\n",
       "      <td>-0.028487</td>\n",
       "      <td>-0.252465</td>\n",
       "      <td>0.553775</td>\n",
       "      <td>0.141174</td>\n",
       "      <td>0.190167</td>\n",
       "      <td>1.000000</td>\n",
       "      <td>-0.163308</td>\n",
       "    </tr>\n",
       "    <tr>\n",
       "      <th>FreeCash</th>\n",
       "      <td>-0.056987</td>\n",
       "      <td>0.070933</td>\n",
       "      <td>0.031785</td>\n",
       "      <td>0.054198</td>\n",
       "      <td>0.046697</td>\n",
       "      <td>-0.006806</td>\n",
       "      <td>0.042583</td>\n",
       "      <td>-0.000016</td>\n",
       "      <td>0.027615</td>\n",
       "      <td>0.021730</td>\n",
       "      <td>0.016951</td>\n",
       "      <td>0.006823</td>\n",
       "      <td>0.453777</td>\n",
       "      <td>-0.056827</td>\n",
       "      <td>0.399265</td>\n",
       "      <td>-0.057364</td>\n",
       "      <td>-0.163308</td>\n",
       "      <td>1.000000</td>\n",
       "    </tr>\n",
       "  </tbody>\n",
       "</table>\n",
       "</div>"
      ],
      "text/plain": [
       "                      VerificationType  LanguageCode       Age  AppliedAmount  \\\n",
       "VerificationType              1.000000     -0.080714 -0.062024       0.085339   \n",
       "LanguageCode                 -0.080714      1.000000  0.121473       0.093473   \n",
       "Age                          -0.062024      0.121473  1.000000       0.097251   \n",
       "AppliedAmount                 0.085339      0.093473  0.097251       1.000000   \n",
       "Amount                        0.164207     -0.001078  0.091586       0.854283   \n",
       "Interest                     -0.204733      0.463720 -0.069617      -0.007389   \n",
       "LoanDuration                  0.042771      0.115355  0.112121       0.361760   \n",
       "MonthlyPayment               -0.130125      0.195177  0.005294       0.604783   \n",
       "Education                    -0.005835     -0.026994  0.083804       0.040538   \n",
       "EmploymentStatus             -0.096816      0.068786  0.303463       0.054311   \n",
       "OccupationArea               -0.006842      0.008308  0.043113       0.013627   \n",
       "HomeOwnershipType             0.079536     -0.018858 -0.008515       0.067711   \n",
       "IncomeTotal                  -0.119102     -0.055782 -0.030994      -0.084868   \n",
       "ExistingLiabilities           0.330802     -0.025773  0.081154       0.183192   \n",
       "LiabilitiesTotal              0.013828      0.105422  0.078042       0.132365   \n",
       "RefinanceLiabilities          0.267951     -0.049627  0.002207       0.191238   \n",
       "DebtToIncome                  0.192282      0.076199  0.036994       0.329974   \n",
       "FreeCash                     -0.056987      0.070933  0.031785       0.054198   \n",
       "\n",
       "                        Amount  Interest  LoanDuration  MonthlyPayment  \\\n",
       "VerificationType      0.164207 -0.204733      0.042771       -0.130125   \n",
       "LanguageCode         -0.001078  0.463720      0.115355        0.195177   \n",
       "Age                   0.091586 -0.069617      0.112121        0.005294   \n",
       "AppliedAmount         0.854283 -0.007389      0.361760        0.604783   \n",
       "Amount                1.000000 -0.122477      0.340253        0.350943   \n",
       "Interest             -0.122477  1.000000     -0.058481        0.410104   \n",
       "LoanDuration          0.340253 -0.058481      1.000000       -0.159918   \n",
       "MonthlyPayment        0.350943  0.410104     -0.159918        1.000000   \n",
       "Education             0.038457 -0.045061     -0.054278        0.043865   \n",
       "EmploymentStatus      0.041835 -0.008293      0.030373        0.044968   \n",
       "OccupationArea        0.016976 -0.008715      0.002834        0.015135   \n",
       "HomeOwnershipType     0.079060 -0.055568      0.007761        0.005706   \n",
       "IncomeTotal          -0.108449  0.000119     -0.242088        0.118291   \n",
       "ExistingLiabilities   0.250548 -0.068139      0.168337       -0.065362   \n",
       "LiabilitiesTotal      0.120674  0.028969      0.058005        0.154661   \n",
       "RefinanceLiabilities  0.273166 -0.047120      0.086152       -0.059246   \n",
       "DebtToIncome          0.278329  0.140201      0.159911        0.327445   \n",
       "FreeCash              0.046697 -0.006806      0.042583       -0.000016   \n",
       "\n",
       "                      Education  EmploymentStatus  OccupationArea  \\\n",
       "VerificationType      -0.005835         -0.096816       -0.006842   \n",
       "LanguageCode          -0.026994          0.068786        0.008308   \n",
       "Age                    0.083804          0.303463        0.043113   \n",
       "AppliedAmount          0.040538          0.054311        0.013627   \n",
       "Amount                 0.038457          0.041835        0.016976   \n",
       "Interest              -0.045061         -0.008293       -0.008715   \n",
       "LoanDuration          -0.054278          0.030373        0.002834   \n",
       "MonthlyPayment         0.043865          0.044968        0.015135   \n",
       "Education              1.000000         -0.010797        0.200363   \n",
       "EmploymentStatus      -0.010797          1.000000       -0.109030   \n",
       "OccupationArea         0.200363         -0.109030        1.000000   \n",
       "HomeOwnershipType      0.032305         -0.019984        0.038333   \n",
       "IncomeTotal            0.050237         -0.004869        0.036840   \n",
       "ExistingLiabilities    0.028293         -0.029655        0.033592   \n",
       "LiabilitiesTotal       0.040568          0.028197        0.044877   \n",
       "RefinanceLiabilities  -0.022877         -0.028527       -0.005997   \n",
       "DebtToIncome          -0.030777         -0.014090        0.005616   \n",
       "FreeCash               0.027615          0.021730        0.016951   \n",
       "\n",
       "                      HomeOwnershipType  IncomeTotal  ExistingLiabilities  \\\n",
       "VerificationType               0.079536    -0.119102             0.330802   \n",
       "LanguageCode                  -0.018858    -0.055782            -0.025773   \n",
       "Age                           -0.008515    -0.030994             0.081154   \n",
       "AppliedAmount                  0.067711    -0.084868             0.183192   \n",
       "Amount                         0.079060    -0.108449             0.250548   \n",
       "Interest                      -0.055568     0.000119            -0.068139   \n",
       "LoanDuration                   0.007761    -0.242088             0.168337   \n",
       "MonthlyPayment                 0.005706     0.118291            -0.065362   \n",
       "Education                      0.032305     0.050237             0.028293   \n",
       "EmploymentStatus              -0.019984    -0.004869            -0.029655   \n",
       "OccupationArea                 0.038333     0.036840             0.033592   \n",
       "HomeOwnershipType              1.000000     0.028249             0.118752   \n",
       "IncomeTotal                    0.028249     1.000000            -0.145806   \n",
       "ExistingLiabilities            0.118752    -0.145806             1.000000   \n",
       "LiabilitiesTotal               0.100206     0.296360             0.263205   \n",
       "RefinanceLiabilities           0.024091    -0.032604             0.595725   \n",
       "DebtToIncome                  -0.028487    -0.252465             0.553775   \n",
       "FreeCash                       0.006823     0.453777            -0.056827   \n",
       "\n",
       "                      LiabilitiesTotal  RefinanceLiabilities  DebtToIncome  \\\n",
       "VerificationType              0.013828              0.267951      0.192282   \n",
       "LanguageCode                  0.105422             -0.049627      0.076199   \n",
       "Age                           0.078042              0.002207      0.036994   \n",
       "AppliedAmount                 0.132365              0.191238      0.329974   \n",
       "Amount                        0.120674              0.273166      0.278329   \n",
       "Interest                      0.028969             -0.047120      0.140201   \n",
       "LoanDuration                  0.058005              0.086152      0.159911   \n",
       "MonthlyPayment                0.154661             -0.059246      0.327445   \n",
       "Education                     0.040568             -0.022877     -0.030777   \n",
       "EmploymentStatus              0.028197             -0.028527     -0.014090   \n",
       "OccupationArea                0.044877             -0.005997      0.005616   \n",
       "HomeOwnershipType             0.100206              0.024091     -0.028487   \n",
       "IncomeTotal                   0.296360             -0.032604     -0.252465   \n",
       "ExistingLiabilities           0.263205              0.595725      0.553775   \n",
       "LiabilitiesTotal              1.000000              0.159183      0.141174   \n",
       "RefinanceLiabilities          0.159183              1.000000      0.190167   \n",
       "DebtToIncome                  0.141174              0.190167      1.000000   \n",
       "FreeCash                      0.399265             -0.057364     -0.163308   \n",
       "\n",
       "                      FreeCash  \n",
       "VerificationType     -0.056987  \n",
       "LanguageCode          0.070933  \n",
       "Age                   0.031785  \n",
       "AppliedAmount         0.054198  \n",
       "Amount                0.046697  \n",
       "Interest             -0.006806  \n",
       "LoanDuration          0.042583  \n",
       "MonthlyPayment       -0.000016  \n",
       "Education             0.027615  \n",
       "EmploymentStatus      0.021730  \n",
       "OccupationArea        0.016951  \n",
       "HomeOwnershipType     0.006823  \n",
       "IncomeTotal           0.453777  \n",
       "ExistingLiabilities  -0.056827  \n",
       "LiabilitiesTotal      0.399265  \n",
       "RefinanceLiabilities -0.057364  \n",
       "DebtToIncome         -0.163308  \n",
       "FreeCash              1.000000  "
      ]
     },
     "execution_count": 126,
     "metadata": {},
     "output_type": "execute_result"
    }
   ],
   "source": [
    "corr =numeric_features.corr()\n",
    "corr"
   ]
  },
  {
   "cell_type": "code",
   "execution_count": 127,
   "id": "00e320ce",
   "metadata": {},
   "outputs": [
    {
     "data": {
      "image/png": "[encoded data removed]",
      "text/plain": [
       "<Figure size 864x648 with 2 Axes>"
      ]
     },
     "metadata": {
      "needs_background": "light"
     },
     "output_type": "display_data"
    }
   ],
   "source": [
    "# correlation matrix\n",
    "f, ax = plt.subplots(figsize=(12, 9))\n",
    "sns.heatmap(corr, vmax=.8, square=True);"
   ]
  },
  {
   "cell_type": "markdown",
   "id": "ace4f226",
   "metadata": {},
   "source": [
    "# Bivariant analysis between amount and education"
   ]
  },
  {
   "cell_type": "code",
   "execution_count": 131,
   "id": "f64fe336",
   "metadata": {},
   "outputs": [
    {
     "data": {
      "image/png": "[encoded data removed]",
      "text/plain": [
       "<Figure size 864x504 with 1 Axes>"
      ]
     },
     "metadata": {
      "needs_background": "light"
     },
     "output_type": "display_data"
    }
   ],
   "source": [
    "Education_pivot = modifed_data.pivot_table(index='Education', values=\"Amount\", aggfunc=np.median)\n",
    "Education_pivot.plot(kind='bar', color='blue',figsize=(12,7))\n",
    "plt.xlabel(\"Education\")\n",
    "plt.ylabel(\"Amount\")\n",
    "plt.title(\"Impact of education on amount\")\n",
    "plt.xticks(rotation=0)\n",
    "plt.show()\n"
   ]
  },
  {
   "cell_type": "markdown",
   "id": "54a8e9f2",
   "metadata": {},
   "source": [
    "# Income and monthly payment"
   ]
  },
  {
   "cell_type": "code",
   "execution_count": null,
   "id": "2ce5b8fc",
   "metadata": {},
   "outputs": [],
   "source": [
    "Education_pivot = modifed_data.pivot_table(index='MonthlyPayment', values=\"IncomeTotal\", aggfunc=np.median)\n",
    "Education_pivot.plot(kind='bar', color='blue',figsize=(12,7))\n",
    "plt.xlabel(\"MonthlyPayment\")\n",
    "plt.ylabel(\"IncomeTotal\")\n",
    "plt.title(\"Impact of education on amount\")\n",
    "plt.xticks(rotation=0)\n",
    "plt.show()\n"
   ]
  },
  {
   "cell_type": "code",
   "execution_count": 144,
   "id": "cbf7b6be",
   "metadata": {},
   "outputs": [
    {
     "data": {
      "image/png": "[encoded data removed]",
      "text/plain": [
       "<Figure size 864x504 with 1 Axes>"
      ]
     },
     "metadata": {
      "needs_background": "light"
     },
     "output_type": "display_data"
    }
   ],
   "source": [
    "Education_pivot = modifed_data.pivot_table(index='IncomeTotal', values=\"MonthlyPayment\", aggfunc=np.median)\n",
    "Education_pivot.plot(kind='bar', color='blue',figsize=(12,7))\n",
    "plt.xlabel(\"IncomeTotal\")\n",
    "plt.ylabel(\"MonthlyPayment\")\n",
    "plt.title(\"IncomeTotal on MonthlyPayment\")\n",
    "plt.xticks(rotation=0)\n",
    "plt.show()\n"
   ]
  },
  {
   "cell_type": "markdown",
   "id": "871cd0ea",
   "metadata": {},
   "source": [
    "# Age on Amount"
   ]
  },
  {
   "cell_type": "code",
   "execution_count": 143,
   "id": "fd9a13a4",
   "metadata": {},
   "outputs": [
    {
     "data": {
      "image/png": "[encoded data removed]",
      "text/plain": [
       "<Figure size 864x504 with 1 Axes>"
      ]
     },
     "metadata": {
      "needs_background": "light"
     },
     "output_type": "display_data"
    }
   ],
   "source": [
    "Education_pivot = modifed_data.pivot_table(index='Amount', values=\"Age\", aggfunc=np.median)\n",
    "Education_pivot.plot(kind='bar', color='blue',figsize=(12,7))\n",
    "plt.xlabel(\"Amount\")\n",
    "plt.ylabel(\"Age\")\n",
    "plt.title(\"Impact of education on amount\")\n",
    "plt.xticks(rotation=0)\n",
    "plt.show()\n"
   ]
  },
  {
   "cell_type": "code",
   "execution_count": 140,
   "id": "4d1e9d93",
   "metadata": {},
   "outputs": [],
   "source": [
    "encode = preprocessing.LabelEncoder()\n",
    "modifed_data['UseOfLoan'] = encode.fit_transform(modifed_data['UseOfLoan'])"
   ]
  },
  {
   "cell_type": "code",
   "execution_count": 142,
   "id": "3f4cf35b",
   "metadata": {},
   "outputs": [
    {
     "data": {
      "image/png": "[encoded data removed]",
      "text/plain": [
       "<Figure size 864x504 with 1 Axes>"
      ]
     },
     "metadata": {
      "needs_background": "light"
     },
     "output_type": "display_data"
    }
   ],
   "source": [
    "Education_pivot = modifed_data.pivot_table(index='UseOfLoan', values=\"Age\", aggfunc=np.median)\n",
    "Education_pivot.plot(kind='bar', color='blue',figsize=(12,7))\n",
    "plt.xlabel(\"UseOfLoan\")\n",
    "plt.ylabel(\"UseOfLoan\")\n",
    "plt.title(\"Impact of age on UseOfLoan\")\n",
    "plt.xticks(rotation=0)\n",
    "plt.show()\n"
   ]
  },
  {
   "cell_type": "code",
   "execution_count": null,
   "id": "2eeb2cce",
   "metadata": {},
   "outputs": [],
   "source": []
  }
 ],
 "metadata": {
  "kernelspec": {
   "display_name": "Python 3 (ipykernel)",
   "language": "python",
   "name": "python3"
  },
  "language_info": {
   "codemirror_mode": {
    "name": "ipython",
    "version": 3
   },
   "file_extension": ".py",
   "mimetype": "text/x-python",
   "name": "python",
   "nbconvert_exporter": "python",
   "pygments_lexer": "ipython3",
   "version": "3.9.7"
  }
 },
 "nbformat": 4,
 "nbformat_minor": 5
}
